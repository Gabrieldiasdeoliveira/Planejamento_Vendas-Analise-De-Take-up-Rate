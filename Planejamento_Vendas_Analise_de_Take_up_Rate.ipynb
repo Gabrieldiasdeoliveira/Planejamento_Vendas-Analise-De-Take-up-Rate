{
  "nbformat": 4,
  "nbformat_minor": 0,
  "metadata": {
    "colab": {
      "provenance": [],
      "authorship_tag": "ABX9TyNlSSLIPx39zq/pZgRU2wzb",
      "include_colab_link": true
    },
    "kernelspec": {
      "name": "ir",
      "display_name": "R"
    },
    "language_info": {
      "name": "R"
    }
  },
  "cells": [
    {
      "cell_type": "markdown",
      "metadata": {
        "id": "view-in-github",
        "colab_type": "text"
      },
      "source": [
        "<a href=\"https://colab.research.google.com/github/Gabrieldiasdeoliveira/Planejamento_Vendas-Analise-De-Take-up-Rate/blob/main/Planejamento_Vendas_Analise_de_Take_up_Rate.ipynb\" target=\"_parent\"><img src=\"https://colab.research.google.com/assets/colab-badge.svg\" alt=\"Open In Colab\"/></a>"
      ]
    },
    {
      "cell_type": "markdown",
      "source": [
        "*Pegamos dados aleatórios de vendedores gerados aleatóriamente, para fazer uma analise exploratória. O objetivo desse material é explorar outras alternativas dos dados, mesmo não conhecendo totalmente as regras de negócio, podemos obter insights para novas abordagens e tomada de decisão.*\n",
        "\n",
        "Dados complementares:\n",
        "Cada filial tem um custo total de operaçao de R$ 1.2 milhões\n",
        "O nível de rentabilidade de um cliente é definido pelo Take-up Rate (Índice% resultante da divisão Receita/Volume).\n",
        "\n",
        "Vamos calcular o Take-up Rate e fazer outras abordagens."
      ],
      "metadata": {
        "id": "QgAgpCWuybtZ"
      }
    },
    {
      "cell_type": "code",
      "execution_count": 1,
      "metadata": {
        "id": "Y_L0KjXzt935",
        "colab": {
          "base_uri": "https://localhost:8080/",
          "height": 599
        },
        "outputId": "730ec128-8228-49fb-e531-5ed682b0745e"
      },
      "outputs": [
        {
          "output_type": "stream",
          "name": "stderr",
          "text": [
            "\n",
            "Attaching package: ‘dplyr’\n",
            "\n",
            "\n",
            "The following objects are masked from ‘package:stats’:\n",
            "\n",
            "    filter, lag\n",
            "\n",
            "\n",
            "The following objects are masked from ‘package:base’:\n",
            "\n",
            "    intersect, setdiff, setequal, union\n",
            "\n",
            "\n",
            "── \u001b[1mAttaching packages\u001b[22m ─────────────────────────────────────── tidyverse 1.3.1 ──\n",
            "\n",
            "\u001b[32m✔\u001b[39m \u001b[34mggplot2\u001b[39m 3.4.2     \u001b[32m✔\u001b[39m \u001b[34mpurrr  \u001b[39m 1.0.1\n",
            "\u001b[32m✔\u001b[39m \u001b[34mtibble \u001b[39m 3.2.1     \u001b[32m✔\u001b[39m \u001b[34mstringr\u001b[39m 1.5.0\n",
            "\u001b[32m✔\u001b[39m \u001b[34mtidyr  \u001b[39m 1.3.0     \u001b[32m✔\u001b[39m \u001b[34mforcats\u001b[39m 1.0.0\n",
            "\u001b[32m✔\u001b[39m \u001b[34mreadr  \u001b[39m 2.1.4     \n",
            "\n",
            "── \u001b[1mConflicts\u001b[22m ────────────────────────────────────────── tidyverse_conflicts() ──\n",
            "\u001b[31m✖\u001b[39m \u001b[34mdplyr\u001b[39m::\u001b[32mfilter()\u001b[39m masks \u001b[34mstats\u001b[39m::filter()\n",
            "\u001b[31m✖\u001b[39m \u001b[34mdplyr\u001b[39m::\u001b[32mlag()\u001b[39m    masks \u001b[34mstats\u001b[39m::lag()\n",
            "\n"
          ]
        },
        {
          "output_type": "error",
          "ename": "ERROR",
          "evalue": "ignored",
          "traceback": [
            "Error: `path` does not exist: ‘/faturamento.xlsx’\nTraceback:\n",
            "1. read_excel(\"/faturamento.xlsx\")",
            "2. check_file(path)",
            "3. stop(\"`path` does not exist: \", sQuote(path), call. = FALSE)"
          ]
        }
      ],
      "source": [
        "# Carregar pacotes necessários\n",
        "library(readxl)\n",
        "library(dplyr)\n",
        "library(tidyverse)\n",
        "library(ggplot2)\n",
        "\n",
        "# Carregar os dados das tabelas\n",
        "faturamento <- read_excel(\"/faturamento.xlsx\")\n",
        "filial <- read_excel(\"/filial.xlsx\")\n"
      ]
    },
    {
      "cell_type": "code",
      "source": [
        "# Visualizar as primeiras linhas dos dados\n",
        "head(faturamento)\n"
      ],
      "metadata": {
        "colab": {
          "base_uri": "https://localhost:8080/",
          "height": 286
        },
        "id": "rwruyHpFzomp",
        "outputId": "9ca062f4-9016-4950-914a-1dc0a0022667"
      },
      "execution_count": null,
      "outputs": [
        {
          "output_type": "display_data",
          "data": {
            "text/html": [
              "<table class=\"dataframe\">\n",
              "<caption>A tibble: 6 × 5</caption>\n",
              "<thead>\n",
              "\t<tr><th scope=col>CodigoCliente</th><th scope=col>cliente</th><th scope=col>canais</th><th scope=col>executivo</th><th scope=col>Faturamento</th></tr>\n",
              "\t<tr><th scope=col>&lt;dbl&gt;</th><th scope=col>&lt;chr&gt;</th><th scope=col>&lt;chr&gt;</th><th scope=col>&lt;chr&gt;</th><th scope=col>&lt;dbl&gt;</th></tr>\n",
              "</thead>\n",
              "<tbody>\n",
              "\t<tr><td>2127</td><td>PROSEGUR RS           </td><td>GESTAO    </td><td>FLAVIA REGINA LEITE MARINHO             </td><td>10676.36</td></tr>\n",
              "\t<tr><td>2175</td><td>SIMPALA VEICULOS SA   </td><td>VAREJO    </td><td>ALINE GOTTSCHALK DE OLIVEIRA FIDELIZACAO</td><td> 2180.67</td></tr>\n",
              "\t<tr><td>2321</td><td>FDRH                  </td><td>M. PUBLICO</td><td>NEIRI MARIO SCHENCKEL                   </td><td>  250.00</td></tr>\n",
              "\t<tr><td>2469</td><td>MUDANCAS GIULIAN      </td><td>EXPERS    </td><td>NAIANA CECILIA STROTTMANN FIDELIZACAO   </td><td>14042.47</td></tr>\n",
              "\t<tr><td>2662</td><td>CARHOUSE VEICULOS LTDA</td><td>GESTAO    </td><td>VANIA PAULO DA SILVA RUCKERT FIDELIZACAO</td><td>  719.32</td></tr>\n",
              "\t<tr><td>3096</td><td>EDITORA FTD           </td><td>GESTAO    </td><td>SUELEN TAIS ARAUJO DA ROSA FIDELIZACAO  </td><td> 3276.94</td></tr>\n",
              "</tbody>\n",
              "</table>\n"
            ],
            "text/markdown": "\nA tibble: 6 × 5\n\n| CodigoCliente &lt;dbl&gt; | cliente &lt;chr&gt; | canais &lt;chr&gt; | executivo &lt;chr&gt; | Faturamento &lt;dbl&gt; |\n|---|---|---|---|---|\n| 2127 | PROSEGUR RS            | GESTAO     | FLAVIA REGINA LEITE MARINHO              | 10676.36 |\n| 2175 | SIMPALA VEICULOS SA    | VAREJO     | ALINE GOTTSCHALK DE OLIVEIRA FIDELIZACAO |  2180.67 |\n| 2321 | FDRH                   | M. PUBLICO | NEIRI MARIO SCHENCKEL                    |   250.00 |\n| 2469 | MUDANCAS GIULIAN       | EXPERS     | NAIANA CECILIA STROTTMANN FIDELIZACAO    | 14042.47 |\n| 2662 | CARHOUSE VEICULOS LTDA | GESTAO     | VANIA PAULO DA SILVA RUCKERT FIDELIZACAO |   719.32 |\n| 3096 | EDITORA FTD            | GESTAO     | SUELEN TAIS ARAUJO DA ROSA FIDELIZACAO   |  3276.94 |\n\n",
            "text/latex": "A tibble: 6 × 5\n\\begin{tabular}{lllll}\n CodigoCliente & cliente & canais & executivo & Faturamento\\\\\n <dbl> & <chr> & <chr> & <chr> & <dbl>\\\\\n\\hline\n\t 2127 & PROSEGUR RS            & GESTAO     & FLAVIA REGINA LEITE MARINHO              & 10676.36\\\\\n\t 2175 & SIMPALA VEICULOS SA    & VAREJO     & ALINE GOTTSCHALK DE OLIVEIRA FIDELIZACAO &  2180.67\\\\\n\t 2321 & FDRH                   & M. PUBLICO & NEIRI MARIO SCHENCKEL                    &   250.00\\\\\n\t 2469 & MUDANCAS GIULIAN       & EXPERS     & NAIANA CECILIA STROTTMANN FIDELIZACAO    & 14042.47\\\\\n\t 2662 & CARHOUSE VEICULOS LTDA & GESTAO     & VANIA PAULO DA SILVA RUCKERT FIDELIZACAO &   719.32\\\\\n\t 3096 & EDITORA FTD            & GESTAO     & SUELEN TAIS ARAUJO DA ROSA FIDELIZACAO   &  3276.94\\\\\n\\end{tabular}\n",
            "text/plain": [
              "  CodigoCliente cliente                canais    \n",
              "1 2127          PROSEGUR RS            GESTAO    \n",
              "2 2175          SIMPALA VEICULOS SA    VAREJO    \n",
              "3 2321          FDRH                   M. PUBLICO\n",
              "4 2469          MUDANCAS GIULIAN       EXPERS    \n",
              "5 2662          CARHOUSE VEICULOS LTDA GESTAO    \n",
              "6 3096          EDITORA FTD            GESTAO    \n",
              "  executivo                                Faturamento\n",
              "1 FLAVIA REGINA LEITE MARINHO              10676.36   \n",
              "2 ALINE GOTTSCHALK DE OLIVEIRA FIDELIZACAO  2180.67   \n",
              "3 NEIRI MARIO SCHENCKEL                      250.00   \n",
              "4 NAIANA CECILIA STROTTMANN FIDELIZACAO    14042.47   \n",
              "5 VANIA PAULO DA SILVA RUCKERT FIDELIZACAO   719.32   \n",
              "6 SUELEN TAIS ARAUJO DA ROSA FIDELIZACAO    3276.94   "
            ]
          },
          "metadata": {}
        }
      ]
    },
    {
      "cell_type": "code",
      "source": [
        "head(filial)"
      ],
      "metadata": {
        "colab": {
          "base_uri": "https://localhost:8080/",
          "height": 286
        },
        "id": "cM0jhohnzqip",
        "outputId": "087bb392-0716-4f93-8e6f-248a4334c9b3"
      },
      "execution_count": null,
      "outputs": [
        {
          "output_type": "display_data",
          "data": {
            "text/html": [
              "<table class=\"dataframe\">\n",
              "<caption>A tibble: 6 × 3</caption>\n",
              "<thead>\n",
              "\t<tr><th scope=col>filial</th><th scope=col>CodigoCliente</th><th scope=col>NomeCliente</th></tr>\n",
              "\t<tr><th scope=col>&lt;chr&gt;</th><th scope=col>&lt;dbl&gt;</th><th scope=col>&lt;chr&gt;</th></tr>\n",
              "</thead>\n",
              "<tbody>\n",
              "\t<tr><td>SP CAP</td><td>2127</td><td>PROSEGUR RS           </td></tr>\n",
              "\t<tr><td>MATRIZ</td><td>2175</td><td>SIMPALA VEICULOS SA   </td></tr>\n",
              "\t<tr><td>RS    </td><td>2321</td><td>FDRH                  </td></tr>\n",
              "\t<tr><td>MATRIZ</td><td>2469</td><td>MUDANCAS GIULIAN      </td></tr>\n",
              "\t<tr><td>MATRIZ</td><td>2662</td><td>CARHOUSE VEICULOS LTDA</td></tr>\n",
              "\t<tr><td>MATRIZ</td><td>3096</td><td>EDITORA FTD           </td></tr>\n",
              "</tbody>\n",
              "</table>\n"
            ],
            "text/markdown": "\nA tibble: 6 × 3\n\n| filial &lt;chr&gt; | CodigoCliente &lt;dbl&gt; | NomeCliente &lt;chr&gt; |\n|---|---|---|\n| SP CAP | 2127 | PROSEGUR RS            |\n| MATRIZ | 2175 | SIMPALA VEICULOS SA    |\n| RS     | 2321 | FDRH                   |\n| MATRIZ | 2469 | MUDANCAS GIULIAN       |\n| MATRIZ | 2662 | CARHOUSE VEICULOS LTDA |\n| MATRIZ | 3096 | EDITORA FTD            |\n\n",
            "text/latex": "A tibble: 6 × 3\n\\begin{tabular}{lll}\n filial & CodigoCliente & NomeCliente\\\\\n <chr> & <dbl> & <chr>\\\\\n\\hline\n\t SP CAP & 2127 & PROSEGUR RS           \\\\\n\t MATRIZ & 2175 & SIMPALA VEICULOS SA   \\\\\n\t RS     & 2321 & FDRH                  \\\\\n\t MATRIZ & 2469 & MUDANCAS GIULIAN      \\\\\n\t MATRIZ & 2662 & CARHOUSE VEICULOS LTDA\\\\\n\t MATRIZ & 3096 & EDITORA FTD           \\\\\n\\end{tabular}\n",
            "text/plain": [
              "  filial CodigoCliente NomeCliente           \n",
              "1 SP CAP 2127          PROSEGUR RS           \n",
              "2 MATRIZ 2175          SIMPALA VEICULOS SA   \n",
              "3 RS     2321          FDRH                  \n",
              "4 MATRIZ 2469          MUDANCAS GIULIAN      \n",
              "5 MATRIZ 2662          CARHOUSE VEICULOS LTDA\n",
              "6 MATRIZ 3096          EDITORA FTD           "
            ]
          },
          "metadata": {}
        }
      ]
    },
    {
      "cell_type": "markdown",
      "source": [
        "# Tratamento dos dados"
      ],
      "metadata": {
        "id": "1GN5gfCwMhYr"
      }
    },
    {
      "cell_type": "code",
      "source": [
        "# Relacionar as tabelas \"Faturamento\" e \"Filial\" pelo código do cliente\n",
        "dados_completos <- inner_join(faturamento, filial, by = \"CodigoCliente\")"
      ],
      "metadata": {
        "id": "zb_jgqzbzzO3"
      },
      "execution_count": null,
      "outputs": []
    },
    {
      "cell_type": "code",
      "source": [
        "head(dados_completos)"
      ],
      "metadata": {
        "colab": {
          "base_uri": "https://localhost:8080/",
          "height": 286
        },
        "id": "vZGTV-q1-Ji6",
        "outputId": "fcad1afb-5c96-474d-8354-5e77317421b2"
      },
      "execution_count": null,
      "outputs": [
        {
          "output_type": "display_data",
          "data": {
            "text/html": [
              "<table class=\"dataframe\">\n",
              "<caption>A tibble: 6 × 7</caption>\n",
              "<thead>\n",
              "\t<tr><th scope=col>CodigoCliente</th><th scope=col>cliente</th><th scope=col>canais</th><th scope=col>executivo</th><th scope=col>Faturamento</th><th scope=col>filial</th><th scope=col>NomeCliente</th></tr>\n",
              "\t<tr><th scope=col>&lt;dbl&gt;</th><th scope=col>&lt;chr&gt;</th><th scope=col>&lt;chr&gt;</th><th scope=col>&lt;chr&gt;</th><th scope=col>&lt;dbl&gt;</th><th scope=col>&lt;chr&gt;</th><th scope=col>&lt;chr&gt;</th></tr>\n",
              "</thead>\n",
              "<tbody>\n",
              "\t<tr><td>2127</td><td>PROSEGUR RS           </td><td>GESTAO    </td><td>FLAVIA REGINA LEITE MARINHO             </td><td>10676.36</td><td>SP CAP</td><td>PROSEGUR RS           </td></tr>\n",
              "\t<tr><td>2175</td><td>SIMPALA VEICULOS SA   </td><td>VAREJO    </td><td>ALINE GOTTSCHALK DE OLIVEIRA FIDELIZACAO</td><td> 2180.67</td><td>MATRIZ</td><td>SIMPALA VEICULOS SA   </td></tr>\n",
              "\t<tr><td>2321</td><td>FDRH                  </td><td>M. PUBLICO</td><td>NEIRI MARIO SCHENCKEL                   </td><td>  250.00</td><td>RS    </td><td>FDRH                  </td></tr>\n",
              "\t<tr><td>2469</td><td>MUDANCAS GIULIAN      </td><td>EXPERS    </td><td>NAIANA CECILIA STROTTMANN FIDELIZACAO   </td><td>14042.47</td><td>MATRIZ</td><td>MUDANCAS GIULIAN      </td></tr>\n",
              "\t<tr><td>2662</td><td>CARHOUSE VEICULOS LTDA</td><td>GESTAO    </td><td>VANIA PAULO DA SILVA RUCKERT FIDELIZACAO</td><td>  719.32</td><td>MATRIZ</td><td>CARHOUSE VEICULOS LTDA</td></tr>\n",
              "\t<tr><td>3096</td><td>EDITORA FTD           </td><td>GESTAO    </td><td>SUELEN TAIS ARAUJO DA ROSA FIDELIZACAO  </td><td> 3276.94</td><td>MATRIZ</td><td>EDITORA FTD           </td></tr>\n",
              "</tbody>\n",
              "</table>\n"
            ],
            "text/markdown": "\nA tibble: 6 × 7\n\n| CodigoCliente &lt;dbl&gt; | cliente &lt;chr&gt; | canais &lt;chr&gt; | executivo &lt;chr&gt; | Faturamento &lt;dbl&gt; | filial &lt;chr&gt; | NomeCliente &lt;chr&gt; |\n|---|---|---|---|---|---|---|\n| 2127 | PROSEGUR RS            | GESTAO     | FLAVIA REGINA LEITE MARINHO              | 10676.36 | SP CAP | PROSEGUR RS            |\n| 2175 | SIMPALA VEICULOS SA    | VAREJO     | ALINE GOTTSCHALK DE OLIVEIRA FIDELIZACAO |  2180.67 | MATRIZ | SIMPALA VEICULOS SA    |\n| 2321 | FDRH                   | M. PUBLICO | NEIRI MARIO SCHENCKEL                    |   250.00 | RS     | FDRH                   |\n| 2469 | MUDANCAS GIULIAN       | EXPERS     | NAIANA CECILIA STROTTMANN FIDELIZACAO    | 14042.47 | MATRIZ | MUDANCAS GIULIAN       |\n| 2662 | CARHOUSE VEICULOS LTDA | GESTAO     | VANIA PAULO DA SILVA RUCKERT FIDELIZACAO |   719.32 | MATRIZ | CARHOUSE VEICULOS LTDA |\n| 3096 | EDITORA FTD            | GESTAO     | SUELEN TAIS ARAUJO DA ROSA FIDELIZACAO   |  3276.94 | MATRIZ | EDITORA FTD            |\n\n",
            "text/latex": "A tibble: 6 × 7\n\\begin{tabular}{lllllll}\n CodigoCliente & cliente & canais & executivo & Faturamento & filial & NomeCliente\\\\\n <dbl> & <chr> & <chr> & <chr> & <dbl> & <chr> & <chr>\\\\\n\\hline\n\t 2127 & PROSEGUR RS            & GESTAO     & FLAVIA REGINA LEITE MARINHO              & 10676.36 & SP CAP & PROSEGUR RS           \\\\\n\t 2175 & SIMPALA VEICULOS SA    & VAREJO     & ALINE GOTTSCHALK DE OLIVEIRA FIDELIZACAO &  2180.67 & MATRIZ & SIMPALA VEICULOS SA   \\\\\n\t 2321 & FDRH                   & M. PUBLICO & NEIRI MARIO SCHENCKEL                    &   250.00 & RS     & FDRH                  \\\\\n\t 2469 & MUDANCAS GIULIAN       & EXPERS     & NAIANA CECILIA STROTTMANN FIDELIZACAO    & 14042.47 & MATRIZ & MUDANCAS GIULIAN      \\\\\n\t 2662 & CARHOUSE VEICULOS LTDA & GESTAO     & VANIA PAULO DA SILVA RUCKERT FIDELIZACAO &   719.32 & MATRIZ & CARHOUSE VEICULOS LTDA\\\\\n\t 3096 & EDITORA FTD            & GESTAO     & SUELEN TAIS ARAUJO DA ROSA FIDELIZACAO   &  3276.94 & MATRIZ & EDITORA FTD           \\\\\n\\end{tabular}\n",
            "text/plain": [
              "  CodigoCliente cliente                canais    \n",
              "1 2127          PROSEGUR RS            GESTAO    \n",
              "2 2175          SIMPALA VEICULOS SA    VAREJO    \n",
              "3 2321          FDRH                   M. PUBLICO\n",
              "4 2469          MUDANCAS GIULIAN       EXPERS    \n",
              "5 2662          CARHOUSE VEICULOS LTDA GESTAO    \n",
              "6 3096          EDITORA FTD            GESTAO    \n",
              "  executivo                                Faturamento filial\n",
              "1 FLAVIA REGINA LEITE MARINHO              10676.36    SP CAP\n",
              "2 ALINE GOTTSCHALK DE OLIVEIRA FIDELIZACAO  2180.67    MATRIZ\n",
              "3 NEIRI MARIO SCHENCKEL                      250.00    RS    \n",
              "4 NAIANA CECILIA STROTTMANN FIDELIZACAO    14042.47    MATRIZ\n",
              "5 VANIA PAULO DA SILVA RUCKERT FIDELIZACAO   719.32    MATRIZ\n",
              "6 SUELEN TAIS ARAUJO DA ROSA FIDELIZACAO    3276.94    MATRIZ\n",
              "  NomeCliente           \n",
              "1 PROSEGUR RS           \n",
              "2 SIMPALA VEICULOS SA   \n",
              "3 FDRH                  \n",
              "4 MUDANCAS GIULIAN      \n",
              "5 CARHOUSE VEICULOS LTDA\n",
              "6 EDITORA FTD           "
            ]
          },
          "metadata": {}
        }
      ]
    },
    {
      "cell_type": "code",
      "source": [
        "attach(dados_completos)"
      ],
      "metadata": {
        "id": "rWkGSq3vCMDm"
      },
      "execution_count": null,
      "outputs": []
    },
    {
      "cell_type": "code",
      "source": [
        "# Verificando a presença de Valores faltantes\n",
        "dados_completos <- dados_completos %>%\n",
        "  mutate(Faturamento = as.numeric(Faturamento))"
      ],
      "metadata": {
        "id": "B7v9btGqB47X"
      },
      "execution_count": null,
      "outputs": []
    },
    {
      "cell_type": "code",
      "source": [
        "is.na(Faturamento)"
      ],
      "metadata": {
        "colab": {
          "base_uri": "https://localhost:8080/",
          "height": 139
        },
        "id": "W-GMc6xpCFZ7",
        "outputId": "b2ea4f12-669c-4f78-c8c8-7d3f42bca217"
      },
      "execution_count": null,
      "outputs": [
        {
          "output_type": "display_data",
          "data": {
            "text/html": [
              "<style>\n",
              ".list-inline {list-style: none; margin:0; padding: 0}\n",
              ".list-inline>li {display: inline-block}\n",
              ".list-inline>li:not(:last-child)::after {content: \"\\00b7\"; padding: 0 .5ex}\n",
              "</style>\n",
              "<ol class=list-inline><li>FALSE</li><li>FALSE</li><li>FALSE</li><li>FALSE</li><li>FALSE</li><li>FALSE</li><li>FALSE</li><li>FALSE</li><li>FALSE</li><li>FALSE</li><li>TRUE</li><li>FALSE</li><li>FALSE</li><li>FALSE</li><li>TRUE</li><li>FALSE</li><li>FALSE</li><li>TRUE</li><li>FALSE</li><li>FALSE</li><li>TRUE</li><li>FALSE</li><li>FALSE</li><li>FALSE</li><li>TRUE</li><li>FALSE</li><li>TRUE</li><li>FALSE</li><li>FALSE</li><li>FALSE</li><li>FALSE</li><li>FALSE</li><li>FALSE</li><li>FALSE</li><li>FALSE</li><li>FALSE</li><li>FALSE</li><li>FALSE</li><li>TRUE</li><li>TRUE</li><li>FALSE</li><li>FALSE</li><li>FALSE</li><li>FALSE</li><li>TRUE</li><li>FALSE</li><li>FALSE</li><li>FALSE</li><li>TRUE</li><li>TRUE</li><li>TRUE</li><li>TRUE</li><li>FALSE</li><li>TRUE</li><li>FALSE</li><li>FALSE</li><li>FALSE</li><li>FALSE</li><li>FALSE</li><li>FALSE</li><li>FALSE</li><li>TRUE</li><li>FALSE</li><li>FALSE</li><li>FALSE</li><li>FALSE</li><li>FALSE</li><li>FALSE</li><li>TRUE</li><li>FALSE</li><li>FALSE</li><li>FALSE</li><li>FALSE</li><li>FALSE</li><li>FALSE</li><li>FALSE</li><li>FALSE</li><li>FALSE</li><li>FALSE</li><li>TRUE</li><li>TRUE</li><li>TRUE</li><li>FALSE</li><li>FALSE</li><li>FALSE</li><li>FALSE</li><li>TRUE</li><li>TRUE</li><li>FALSE</li><li>FALSE</li><li>TRUE</li><li>TRUE</li><li>TRUE</li><li>FALSE</li><li>TRUE</li><li>FALSE</li><li>FALSE</li><li>FALSE</li><li>FALSE</li><li>FALSE</li><li>FALSE</li><li>FALSE</li><li>FALSE</li><li>FALSE</li><li>TRUE</li><li>FALSE</li><li>FALSE</li><li>FALSE</li><li>FALSE</li><li>FALSE</li><li>FALSE</li><li>TRUE</li><li>FALSE</li><li>FALSE</li><li>TRUE</li><li>FALSE</li><li>FALSE</li><li>FALSE</li><li>FALSE</li><li>TRUE</li><li>FALSE</li><li>FALSE</li><li>FALSE</li><li>FALSE</li><li>FALSE</li><li>FALSE</li><li>FALSE</li><li>TRUE</li><li>TRUE</li><li>TRUE</li><li>TRUE</li><li>FALSE</li><li>FALSE</li><li>FALSE</li><li>FALSE</li><li>FALSE</li><li>FALSE</li><li>TRUE</li><li>FALSE</li><li>FALSE</li><li>FALSE</li><li>FALSE</li><li>FALSE</li><li>TRUE</li><li>FALSE</li><li>FALSE</li><li>FALSE</li><li>FALSE</li><li>TRUE</li><li>FALSE</li><li>FALSE</li><li>FALSE</li><li>FALSE</li><li>TRUE</li><li>TRUE</li><li>TRUE</li><li>TRUE</li><li>TRUE</li><li>TRUE</li><li>FALSE</li><li>FALSE</li><li>TRUE</li><li>FALSE</li><li>TRUE</li><li>FALSE</li><li>FALSE</li><li>FALSE</li><li>FALSE</li><li>FALSE</li><li>FALSE</li><li>FALSE</li><li>FALSE</li><li>FALSE</li><li>FALSE</li><li>FALSE</li><li>FALSE</li><li>TRUE</li><li>FALSE</li><li>FALSE</li><li>FALSE</li><li>FALSE</li><li>FALSE</li><li>FALSE</li><li>TRUE</li><li>TRUE</li><li>FALSE</li><li>FALSE</li><li>FALSE</li><li>FALSE</li><li>FALSE</li><li>FALSE</li><li>FALSE</li><li>FALSE</li><li>FALSE</li><li>FALSE</li><li>TRUE</li><li>TRUE</li><li>FALSE</li><li>FALSE</li><li>FALSE</li><li>FALSE</li><li>FALSE</li><li>FALSE</li><li>FALSE</li><li>FALSE</li><li>FALSE</li><li>FALSE</li><li>FALSE</li><li>FALSE</li><li>FALSE</li><li>FALSE</li><li>FALSE</li><li>TRUE</li><li>TRUE</li><li>TRUE</li><li>FALSE</li><li>FALSE</li><li>TRUE</li><li>TRUE</li><li>FALSE</li><li>FALSE</li><li>FALSE</li><li>FALSE</li><li>TRUE</li><li>FALSE</li><li>TRUE</li><li>TRUE</li><li>TRUE</li><li>FALSE</li><li>TRUE</li><li>FALSE</li><li>FALSE</li><li>TRUE</li><li>TRUE</li><li>TRUE</li><li>FALSE</li><li>TRUE</li><li>TRUE</li><li>FALSE</li><li>FALSE</li><li>FALSE</li><li>FALSE</li><li>TRUE</li><li>TRUE</li><li>TRUE</li><li>TRUE</li><li>TRUE</li><li>TRUE</li><li>TRUE</li><li>TRUE</li><li>TRUE</li><li>FALSE</li><li>FALSE</li><li>FALSE</li><li>FALSE</li><li>FALSE</li><li>FALSE</li><li>FALSE</li><li>TRUE</li><li>FALSE</li><li>FALSE</li><li>FALSE</li><li>FALSE</li><li>FALSE</li><li>FALSE</li><li>FALSE</li><li>FALSE</li><li>FALSE</li><li>FALSE</li><li>FALSE</li><li>FALSE</li><li>FALSE</li><li>FALSE</li><li>FALSE</li><li>TRUE</li><li>TRUE</li><li>FALSE</li><li>TRUE</li><li>TRUE</li><li>TRUE</li><li>FALSE</li><li>FALSE</li><li>FALSE</li><li>TRUE</li><li>FALSE</li><li>FALSE</li><li>FALSE</li><li>TRUE</li><li>TRUE</li><li>TRUE</li><li>FALSE</li><li>TRUE</li><li>FALSE</li><li>FALSE</li><li>FALSE</li><li>FALSE</li><li>TRUE</li><li>TRUE</li><li>FALSE</li></ol>\n"
            ],
            "text/markdown": "1. FALSE\n2. FALSE\n3. FALSE\n4. FALSE\n5. FALSE\n6. FALSE\n7. FALSE\n8. FALSE\n9. FALSE\n10. FALSE\n11. TRUE\n12. FALSE\n13. FALSE\n14. FALSE\n15. TRUE\n16. FALSE\n17. FALSE\n18. TRUE\n19. FALSE\n20. FALSE\n21. TRUE\n22. FALSE\n23. FALSE\n24. FALSE\n25. TRUE\n26. FALSE\n27. TRUE\n28. FALSE\n29. FALSE\n30. FALSE\n31. FALSE\n32. FALSE\n33. FALSE\n34. FALSE\n35. FALSE\n36. FALSE\n37. FALSE\n38. FALSE\n39. TRUE\n40. TRUE\n41. FALSE\n42. FALSE\n43. FALSE\n44. FALSE\n45. TRUE\n46. FALSE\n47. FALSE\n48. FALSE\n49. TRUE\n50. TRUE\n51. TRUE\n52. TRUE\n53. FALSE\n54. TRUE\n55. FALSE\n56. FALSE\n57. FALSE\n58. FALSE\n59. FALSE\n60. FALSE\n61. FALSE\n62. TRUE\n63. FALSE\n64. FALSE\n65. FALSE\n66. FALSE\n67. FALSE\n68. FALSE\n69. TRUE\n70. FALSE\n71. FALSE\n72. FALSE\n73. FALSE\n74. FALSE\n75. FALSE\n76. FALSE\n77. FALSE\n78. FALSE\n79. FALSE\n80. TRUE\n81. TRUE\n82. TRUE\n83. FALSE\n84. FALSE\n85. FALSE\n86. FALSE\n87. TRUE\n88. TRUE\n89. FALSE\n90. FALSE\n91. TRUE\n92. TRUE\n93. TRUE\n94. FALSE\n95. TRUE\n96. FALSE\n97. FALSE\n98. FALSE\n99. FALSE\n100. FALSE\n101. FALSE\n102. FALSE\n103. FALSE\n104. FALSE\n105. TRUE\n106. FALSE\n107. FALSE\n108. FALSE\n109. FALSE\n110. FALSE\n111. FALSE\n112. TRUE\n113. FALSE\n114. FALSE\n115. TRUE\n116. FALSE\n117. FALSE\n118. FALSE\n119. FALSE\n120. TRUE\n121. FALSE\n122. FALSE\n123. FALSE\n124. FALSE\n125. FALSE\n126. FALSE\n127. FALSE\n128. TRUE\n129. TRUE\n130. TRUE\n131. TRUE\n132. FALSE\n133. FALSE\n134. FALSE\n135. FALSE\n136. FALSE\n137. FALSE\n138. TRUE\n139. FALSE\n140. FALSE\n141. FALSE\n142. FALSE\n143. FALSE\n144. TRUE\n145. FALSE\n146. FALSE\n147. FALSE\n148. FALSE\n149. TRUE\n150. FALSE\n151. FALSE\n152. FALSE\n153. FALSE\n154. TRUE\n155. TRUE\n156. TRUE\n157. TRUE\n158. TRUE\n159. TRUE\n160. FALSE\n161. FALSE\n162. TRUE\n163. FALSE\n164. TRUE\n165. FALSE\n166. FALSE\n167. FALSE\n168. FALSE\n169. FALSE\n170. FALSE\n171. FALSE\n172. FALSE\n173. FALSE\n174. FALSE\n175. FALSE\n176. FALSE\n177. TRUE\n178. FALSE\n179. FALSE\n180. FALSE\n181. FALSE\n182. FALSE\n183. FALSE\n184. TRUE\n185. TRUE\n186. FALSE\n187. FALSE\n188. FALSE\n189. FALSE\n190. FALSE\n191. FALSE\n192. FALSE\n193. FALSE\n194. FALSE\n195. FALSE\n196. TRUE\n197. TRUE\n198. FALSE\n199. FALSE\n200. FALSE\n201. FALSE\n202. FALSE\n203. FALSE\n204. FALSE\n205. FALSE\n206. FALSE\n207. FALSE\n208. FALSE\n209. FALSE\n210. FALSE\n211. FALSE\n212. FALSE\n213. TRUE\n214. TRUE\n215. TRUE\n216. FALSE\n217. FALSE\n218. TRUE\n219. TRUE\n220. FALSE\n221. FALSE\n222. FALSE\n223. FALSE\n224. TRUE\n225. FALSE\n226. TRUE\n227. TRUE\n228. TRUE\n229. FALSE\n230. TRUE\n231. FALSE\n232. FALSE\n233. TRUE\n234. TRUE\n235. TRUE\n236. FALSE\n237. TRUE\n238. TRUE\n239. FALSE\n240. FALSE\n241. FALSE\n242. FALSE\n243. TRUE\n244. TRUE\n245. TRUE\n246. TRUE\n247. TRUE\n248. TRUE\n249. TRUE\n250. TRUE\n251. TRUE\n252. FALSE\n253. FALSE\n254. FALSE\n255. FALSE\n256. FALSE\n257. FALSE\n258. FALSE\n259. TRUE\n260. FALSE\n261. FALSE\n262. FALSE\n263. FALSE\n264. FALSE\n265. FALSE\n266. FALSE\n267. FALSE\n268. FALSE\n269. FALSE\n270. FALSE\n271. FALSE\n272. FALSE\n273. FALSE\n274. FALSE\n275. TRUE\n276. TRUE\n277. FALSE\n278. TRUE\n279. TRUE\n280. TRUE\n281. FALSE\n282. FALSE\n283. FALSE\n284. TRUE\n285. FALSE\n286. FALSE\n287. FALSE\n288. TRUE\n289. TRUE\n290. TRUE\n291. FALSE\n292. TRUE\n293. FALSE\n294. FALSE\n295. FALSE\n296. FALSE\n297. TRUE\n298. TRUE\n299. FALSE\n\n\n",
            "text/latex": "\\begin{enumerate*}\n\\item FALSE\n\\item FALSE\n\\item FALSE\n\\item FALSE\n\\item FALSE\n\\item FALSE\n\\item FALSE\n\\item FALSE\n\\item FALSE\n\\item FALSE\n\\item TRUE\n\\item FALSE\n\\item FALSE\n\\item FALSE\n\\item TRUE\n\\item FALSE\n\\item FALSE\n\\item TRUE\n\\item FALSE\n\\item FALSE\n\\item TRUE\n\\item FALSE\n\\item FALSE\n\\item FALSE\n\\item TRUE\n\\item FALSE\n\\item TRUE\n\\item FALSE\n\\item FALSE\n\\item FALSE\n\\item FALSE\n\\item FALSE\n\\item FALSE\n\\item FALSE\n\\item FALSE\n\\item FALSE\n\\item FALSE\n\\item FALSE\n\\item TRUE\n\\item TRUE\n\\item FALSE\n\\item FALSE\n\\item FALSE\n\\item FALSE\n\\item TRUE\n\\item FALSE\n\\item FALSE\n\\item FALSE\n\\item TRUE\n\\item TRUE\n\\item TRUE\n\\item TRUE\n\\item FALSE\n\\item TRUE\n\\item FALSE\n\\item FALSE\n\\item FALSE\n\\item FALSE\n\\item FALSE\n\\item FALSE\n\\item FALSE\n\\item TRUE\n\\item FALSE\n\\item FALSE\n\\item FALSE\n\\item FALSE\n\\item FALSE\n\\item FALSE\n\\item TRUE\n\\item FALSE\n\\item FALSE\n\\item FALSE\n\\item FALSE\n\\item FALSE\n\\item FALSE\n\\item FALSE\n\\item FALSE\n\\item FALSE\n\\item FALSE\n\\item TRUE\n\\item TRUE\n\\item TRUE\n\\item FALSE\n\\item FALSE\n\\item FALSE\n\\item FALSE\n\\item TRUE\n\\item TRUE\n\\item FALSE\n\\item FALSE\n\\item TRUE\n\\item TRUE\n\\item TRUE\n\\item FALSE\n\\item TRUE\n\\item FALSE\n\\item FALSE\n\\item FALSE\n\\item FALSE\n\\item FALSE\n\\item FALSE\n\\item FALSE\n\\item FALSE\n\\item FALSE\n\\item TRUE\n\\item FALSE\n\\item FALSE\n\\item FALSE\n\\item FALSE\n\\item FALSE\n\\item FALSE\n\\item TRUE\n\\item FALSE\n\\item FALSE\n\\item TRUE\n\\item FALSE\n\\item FALSE\n\\item FALSE\n\\item FALSE\n\\item TRUE\n\\item FALSE\n\\item FALSE\n\\item FALSE\n\\item FALSE\n\\item FALSE\n\\item FALSE\n\\item FALSE\n\\item TRUE\n\\item TRUE\n\\item TRUE\n\\item TRUE\n\\item FALSE\n\\item FALSE\n\\item FALSE\n\\item FALSE\n\\item FALSE\n\\item FALSE\n\\item TRUE\n\\item FALSE\n\\item FALSE\n\\item FALSE\n\\item FALSE\n\\item FALSE\n\\item TRUE\n\\item FALSE\n\\item FALSE\n\\item FALSE\n\\item FALSE\n\\item TRUE\n\\item FALSE\n\\item FALSE\n\\item FALSE\n\\item FALSE\n\\item TRUE\n\\item TRUE\n\\item TRUE\n\\item TRUE\n\\item TRUE\n\\item TRUE\n\\item FALSE\n\\item FALSE\n\\item TRUE\n\\item FALSE\n\\item TRUE\n\\item FALSE\n\\item FALSE\n\\item FALSE\n\\item FALSE\n\\item FALSE\n\\item FALSE\n\\item FALSE\n\\item FALSE\n\\item FALSE\n\\item FALSE\n\\item FALSE\n\\item FALSE\n\\item TRUE\n\\item FALSE\n\\item FALSE\n\\item FALSE\n\\item FALSE\n\\item FALSE\n\\item FALSE\n\\item TRUE\n\\item TRUE\n\\item FALSE\n\\item FALSE\n\\item FALSE\n\\item FALSE\n\\item FALSE\n\\item FALSE\n\\item FALSE\n\\item FALSE\n\\item FALSE\n\\item FALSE\n\\item TRUE\n\\item TRUE\n\\item FALSE\n\\item FALSE\n\\item FALSE\n\\item FALSE\n\\item FALSE\n\\item FALSE\n\\item FALSE\n\\item FALSE\n\\item FALSE\n\\item FALSE\n\\item FALSE\n\\item FALSE\n\\item FALSE\n\\item FALSE\n\\item FALSE\n\\item TRUE\n\\item TRUE\n\\item TRUE\n\\item FALSE\n\\item FALSE\n\\item TRUE\n\\item TRUE\n\\item FALSE\n\\item FALSE\n\\item FALSE\n\\item FALSE\n\\item TRUE\n\\item FALSE\n\\item TRUE\n\\item TRUE\n\\item TRUE\n\\item FALSE\n\\item TRUE\n\\item FALSE\n\\item FALSE\n\\item TRUE\n\\item TRUE\n\\item TRUE\n\\item FALSE\n\\item TRUE\n\\item TRUE\n\\item FALSE\n\\item FALSE\n\\item FALSE\n\\item FALSE\n\\item TRUE\n\\item TRUE\n\\item TRUE\n\\item TRUE\n\\item TRUE\n\\item TRUE\n\\item TRUE\n\\item TRUE\n\\item TRUE\n\\item FALSE\n\\item FALSE\n\\item FALSE\n\\item FALSE\n\\item FALSE\n\\item FALSE\n\\item FALSE\n\\item TRUE\n\\item FALSE\n\\item FALSE\n\\item FALSE\n\\item FALSE\n\\item FALSE\n\\item FALSE\n\\item FALSE\n\\item FALSE\n\\item FALSE\n\\item FALSE\n\\item FALSE\n\\item FALSE\n\\item FALSE\n\\item FALSE\n\\item FALSE\n\\item TRUE\n\\item TRUE\n\\item FALSE\n\\item TRUE\n\\item TRUE\n\\item TRUE\n\\item FALSE\n\\item FALSE\n\\item FALSE\n\\item TRUE\n\\item FALSE\n\\item FALSE\n\\item FALSE\n\\item TRUE\n\\item TRUE\n\\item TRUE\n\\item FALSE\n\\item TRUE\n\\item FALSE\n\\item FALSE\n\\item FALSE\n\\item FALSE\n\\item TRUE\n\\item TRUE\n\\item FALSE\n\\end{enumerate*}\n",
            "text/plain": [
              "  [1] FALSE FALSE FALSE FALSE FALSE FALSE FALSE FALSE FALSE FALSE  TRUE FALSE\n",
              " [13] FALSE FALSE  TRUE FALSE FALSE  TRUE FALSE FALSE  TRUE FALSE FALSE FALSE\n",
              " [25]  TRUE FALSE  TRUE FALSE FALSE FALSE FALSE FALSE FALSE FALSE FALSE FALSE\n",
              " [37] FALSE FALSE  TRUE  TRUE FALSE FALSE FALSE FALSE  TRUE FALSE FALSE FALSE\n",
              " [49]  TRUE  TRUE  TRUE  TRUE FALSE  TRUE FALSE FALSE FALSE FALSE FALSE FALSE\n",
              " [61] FALSE  TRUE FALSE FALSE FALSE FALSE FALSE FALSE  TRUE FALSE FALSE FALSE\n",
              " [73] FALSE FALSE FALSE FALSE FALSE FALSE FALSE  TRUE  TRUE  TRUE FALSE FALSE\n",
              " [85] FALSE FALSE  TRUE  TRUE FALSE FALSE  TRUE  TRUE  TRUE FALSE  TRUE FALSE\n",
              " [97] FALSE FALSE FALSE FALSE FALSE FALSE FALSE FALSE  TRUE FALSE FALSE FALSE\n",
              "[109] FALSE FALSE FALSE  TRUE FALSE FALSE  TRUE FALSE FALSE FALSE FALSE  TRUE\n",
              "[121] FALSE FALSE FALSE FALSE FALSE FALSE FALSE  TRUE  TRUE  TRUE  TRUE FALSE\n",
              "[133] FALSE FALSE FALSE FALSE FALSE  TRUE FALSE FALSE FALSE FALSE FALSE  TRUE\n",
              "[145] FALSE FALSE FALSE FALSE  TRUE FALSE FALSE FALSE FALSE  TRUE  TRUE  TRUE\n",
              "[157]  TRUE  TRUE  TRUE FALSE FALSE  TRUE FALSE  TRUE FALSE FALSE FALSE FALSE\n",
              "[169] FALSE FALSE FALSE FALSE FALSE FALSE FALSE FALSE  TRUE FALSE FALSE FALSE\n",
              "[181] FALSE FALSE FALSE  TRUE  TRUE FALSE FALSE FALSE FALSE FALSE FALSE FALSE\n",
              "[193] FALSE FALSE FALSE  TRUE  TRUE FALSE FALSE FALSE FALSE FALSE FALSE FALSE\n",
              "[205] FALSE FALSE FALSE FALSE FALSE FALSE FALSE FALSE  TRUE  TRUE  TRUE FALSE\n",
              "[217] FALSE  TRUE  TRUE FALSE FALSE FALSE FALSE  TRUE FALSE  TRUE  TRUE  TRUE\n",
              "[229] FALSE  TRUE FALSE FALSE  TRUE  TRUE  TRUE FALSE  TRUE  TRUE FALSE FALSE\n",
              "[241] FALSE FALSE  TRUE  TRUE  TRUE  TRUE  TRUE  TRUE  TRUE  TRUE  TRUE FALSE\n",
              "[253] FALSE FALSE FALSE FALSE FALSE FALSE  TRUE FALSE FALSE FALSE FALSE FALSE\n",
              "[265] FALSE FALSE FALSE FALSE FALSE FALSE FALSE FALSE FALSE FALSE  TRUE  TRUE\n",
              "[277] FALSE  TRUE  TRUE  TRUE FALSE FALSE FALSE  TRUE FALSE FALSE FALSE  TRUE\n",
              "[289]  TRUE  TRUE FALSE  TRUE FALSE FALSE FALSE FALSE  TRUE  TRUE FALSE"
            ]
          },
          "metadata": {}
        }
      ]
    },
    {
      "cell_type": "code",
      "source": [
        "# Nessa etapa eu removi os NA, mas existem outras tratativas que podem ser aplicadas, dependendo da regra e o contexto do negócio.\n",
        "\n",
        "dados_completos <- dados_completos[complete.cases(dados_completos$Faturamento), ]"
      ],
      "metadata": {
        "id": "SQgxk5qMCaTJ"
      },
      "execution_count": null,
      "outputs": []
    },
    {
      "cell_type": "code",
      "source": [
        "head(dados_completos)"
      ],
      "metadata": {
        "colab": {
          "base_uri": "https://localhost:8080/",
          "height": 286
        },
        "id": "ZOwFsQU4D8g4",
        "outputId": "5cf05c8a-e514-46b2-8360-fde418bf9285"
      },
      "execution_count": null,
      "outputs": [
        {
          "output_type": "display_data",
          "data": {
            "text/html": [
              "<table class=\"dataframe\">\n",
              "<caption>A tibble: 6 × 7</caption>\n",
              "<thead>\n",
              "\t<tr><th scope=col>CodigoCliente</th><th scope=col>cliente</th><th scope=col>canais</th><th scope=col>executivo</th><th scope=col>Faturamento</th><th scope=col>filial</th><th scope=col>NomeCliente</th></tr>\n",
              "\t<tr><th scope=col>&lt;dbl&gt;</th><th scope=col>&lt;chr&gt;</th><th scope=col>&lt;fct&gt;</th><th scope=col>&lt;chr&gt;</th><th scope=col>&lt;dbl&gt;</th><th scope=col>&lt;fct&gt;</th><th scope=col>&lt;chr&gt;</th></tr>\n",
              "</thead>\n",
              "<tbody>\n",
              "\t<tr><td>2127</td><td>PROSEGUR RS           </td><td>GESTAO    </td><td>FLAVIA REGINA LEITE MARINHO             </td><td>10676.36</td><td>SP CAP</td><td>PROSEGUR RS           </td></tr>\n",
              "\t<tr><td>2175</td><td>SIMPALA VEICULOS SA   </td><td>VAREJO    </td><td>ALINE GOTTSCHALK DE OLIVEIRA FIDELIZACAO</td><td> 2180.67</td><td>MATRIZ</td><td>SIMPALA VEICULOS SA   </td></tr>\n",
              "\t<tr><td>2321</td><td>FDRH                  </td><td>M. PUBLICO</td><td>NEIRI MARIO SCHENCKEL                   </td><td>  250.00</td><td>RS    </td><td>FDRH                  </td></tr>\n",
              "\t<tr><td>2469</td><td>MUDANCAS GIULIAN      </td><td>EXPERS    </td><td>NAIANA CECILIA STROTTMANN FIDELIZACAO   </td><td>14042.47</td><td>MATRIZ</td><td>MUDANCAS GIULIAN      </td></tr>\n",
              "\t<tr><td>2662</td><td>CARHOUSE VEICULOS LTDA</td><td>GESTAO    </td><td>VANIA PAULO DA SILVA RUCKERT FIDELIZACAO</td><td>  719.32</td><td>MATRIZ</td><td>CARHOUSE VEICULOS LTDA</td></tr>\n",
              "\t<tr><td>3096</td><td>EDITORA FTD           </td><td>GESTAO    </td><td>SUELEN TAIS ARAUJO DA ROSA FIDELIZACAO  </td><td> 3276.94</td><td>MATRIZ</td><td>EDITORA FTD           </td></tr>\n",
              "</tbody>\n",
              "</table>\n"
            ],
            "text/markdown": "\nA tibble: 6 × 7\n\n| CodigoCliente &lt;dbl&gt; | cliente &lt;chr&gt; | canais &lt;fct&gt; | executivo &lt;chr&gt; | Faturamento &lt;dbl&gt; | filial &lt;fct&gt; | NomeCliente &lt;chr&gt; |\n|---|---|---|---|---|---|---|\n| 2127 | PROSEGUR RS            | GESTAO     | FLAVIA REGINA LEITE MARINHO              | 10676.36 | SP CAP | PROSEGUR RS            |\n| 2175 | SIMPALA VEICULOS SA    | VAREJO     | ALINE GOTTSCHALK DE OLIVEIRA FIDELIZACAO |  2180.67 | MATRIZ | SIMPALA VEICULOS SA    |\n| 2321 | FDRH                   | M. PUBLICO | NEIRI MARIO SCHENCKEL                    |   250.00 | RS     | FDRH                   |\n| 2469 | MUDANCAS GIULIAN       | EXPERS     | NAIANA CECILIA STROTTMANN FIDELIZACAO    | 14042.47 | MATRIZ | MUDANCAS GIULIAN       |\n| 2662 | CARHOUSE VEICULOS LTDA | GESTAO     | VANIA PAULO DA SILVA RUCKERT FIDELIZACAO |   719.32 | MATRIZ | CARHOUSE VEICULOS LTDA |\n| 3096 | EDITORA FTD            | GESTAO     | SUELEN TAIS ARAUJO DA ROSA FIDELIZACAO   |  3276.94 | MATRIZ | EDITORA FTD            |\n\n",
            "text/latex": "A tibble: 6 × 7\n\\begin{tabular}{lllllll}\n CodigoCliente & cliente & canais & executivo & Faturamento & filial & NomeCliente\\\\\n <dbl> & <chr> & <fct> & <chr> & <dbl> & <fct> & <chr>\\\\\n\\hline\n\t 2127 & PROSEGUR RS            & GESTAO     & FLAVIA REGINA LEITE MARINHO              & 10676.36 & SP CAP & PROSEGUR RS           \\\\\n\t 2175 & SIMPALA VEICULOS SA    & VAREJO     & ALINE GOTTSCHALK DE OLIVEIRA FIDELIZACAO &  2180.67 & MATRIZ & SIMPALA VEICULOS SA   \\\\\n\t 2321 & FDRH                   & M. PUBLICO & NEIRI MARIO SCHENCKEL                    &   250.00 & RS     & FDRH                  \\\\\n\t 2469 & MUDANCAS GIULIAN       & EXPERS     & NAIANA CECILIA STROTTMANN FIDELIZACAO    & 14042.47 & MATRIZ & MUDANCAS GIULIAN      \\\\\n\t 2662 & CARHOUSE VEICULOS LTDA & GESTAO     & VANIA PAULO DA SILVA RUCKERT FIDELIZACAO &   719.32 & MATRIZ & CARHOUSE VEICULOS LTDA\\\\\n\t 3096 & EDITORA FTD            & GESTAO     & SUELEN TAIS ARAUJO DA ROSA FIDELIZACAO   &  3276.94 & MATRIZ & EDITORA FTD           \\\\\n\\end{tabular}\n",
            "text/plain": [
              "  CodigoCliente cliente                canais    \n",
              "1 2127          PROSEGUR RS            GESTAO    \n",
              "2 2175          SIMPALA VEICULOS SA    VAREJO    \n",
              "3 2321          FDRH                   M. PUBLICO\n",
              "4 2469          MUDANCAS GIULIAN       EXPERS    \n",
              "5 2662          CARHOUSE VEICULOS LTDA GESTAO    \n",
              "6 3096          EDITORA FTD            GESTAO    \n",
              "  executivo                                Faturamento filial\n",
              "1 FLAVIA REGINA LEITE MARINHO              10676.36    SP CAP\n",
              "2 ALINE GOTTSCHALK DE OLIVEIRA FIDELIZACAO  2180.67    MATRIZ\n",
              "3 NEIRI MARIO SCHENCKEL                      250.00    RS    \n",
              "4 NAIANA CECILIA STROTTMANN FIDELIZACAO    14042.47    MATRIZ\n",
              "5 VANIA PAULO DA SILVA RUCKERT FIDELIZACAO   719.32    MATRIZ\n",
              "6 SUELEN TAIS ARAUJO DA ROSA FIDELIZACAO    3276.94    MATRIZ\n",
              "  NomeCliente           \n",
              "1 PROSEGUR RS           \n",
              "2 SIMPALA VEICULOS SA   \n",
              "3 FDRH                  \n",
              "4 MUDANCAS GIULIAN      \n",
              "5 CARHOUSE VEICULOS LTDA\n",
              "6 EDITORA FTD           "
            ]
          },
          "metadata": {}
        }
      ]
    },
    {
      "cell_type": "markdown",
      "source": [
        "# Analise Exploratória"
      ],
      "metadata": {
        "id": "KgpJMEoxNd9K"
      }
    },
    {
      "cell_type": "code",
      "source": [
        "# Agrupamento dos dados por filial\n",
        "dados_agrupados <- dados_completos %>%\n",
        "  group_by(filial) %>%\n",
        "  summarise(TotalFaturamento = sum(Faturamento)) %>%\n",
        "  arrange(desc(TotalFaturamento))\n",
        "\n",
        "dados_agrupados"
      ],
      "metadata": {
        "colab": {
          "base_uri": "https://localhost:8080/",
          "height": 474
        },
        "id": "FFEy_sAC9j1E",
        "outputId": "887c9aad-4eec-4309-e7cf-b35e8fe253ad"
      },
      "execution_count": null,
      "outputs": [
        {
          "output_type": "display_data",
          "data": {
            "text/html": [
              "<table class=\"dataframe\">\n",
              "<caption>A tibble: 12 × 2</caption>\n",
              "<thead>\n",
              "\t<tr><th scope=col>filial</th><th scope=col>TotalFaturamento</th></tr>\n",
              "\t<tr><th scope=col>&lt;fct&gt;</th><th scope=col>&lt;dbl&gt;</th></tr>\n",
              "</thead>\n",
              "<tbody>\n",
              "\t<tr><td>MATRIZ</td><td>1675450.24</td></tr>\n",
              "\t<tr><td>PR    </td><td>1571689.65</td></tr>\n",
              "\t<tr><td>MG    </td><td>1282971.91</td></tr>\n",
              "\t<tr><td>SP CAP</td><td> 889328.42</td></tr>\n",
              "\t<tr><td>SP INT</td><td> 631450.22</td></tr>\n",
              "\t<tr><td>GO    </td><td> 493577.17</td></tr>\n",
              "\t<tr><td>CE    </td><td> 363624.78</td></tr>\n",
              "\t<tr><td>RJ    </td><td> 266276.63</td></tr>\n",
              "\t<tr><td>PE    </td><td> 133370.83</td></tr>\n",
              "\t<tr><td>BA    </td><td>  69012.63</td></tr>\n",
              "\t<tr><td>RS    </td><td>  23876.86</td></tr>\n",
              "\t<tr><td>PA    </td><td> -54240.16</td></tr>\n",
              "</tbody>\n",
              "</table>\n"
            ],
            "text/markdown": "\nA tibble: 12 × 2\n\n| filial &lt;fct&gt; | TotalFaturamento &lt;dbl&gt; |\n|---|---|\n| MATRIZ | 1675450.24 |\n| PR     | 1571689.65 |\n| MG     | 1282971.91 |\n| SP CAP |  889328.42 |\n| SP INT |  631450.22 |\n| GO     |  493577.17 |\n| CE     |  363624.78 |\n| RJ     |  266276.63 |\n| PE     |  133370.83 |\n| BA     |   69012.63 |\n| RS     |   23876.86 |\n| PA     |  -54240.16 |\n\n",
            "text/latex": "A tibble: 12 × 2\n\\begin{tabular}{ll}\n filial & TotalFaturamento\\\\\n <fct> & <dbl>\\\\\n\\hline\n\t MATRIZ & 1675450.24\\\\\n\t PR     & 1571689.65\\\\\n\t MG     & 1282971.91\\\\\n\t SP CAP &  889328.42\\\\\n\t SP INT &  631450.22\\\\\n\t GO     &  493577.17\\\\\n\t CE     &  363624.78\\\\\n\t RJ     &  266276.63\\\\\n\t PE     &  133370.83\\\\\n\t BA     &   69012.63\\\\\n\t RS     &   23876.86\\\\\n\t PA     &  -54240.16\\\\\n\\end{tabular}\n",
            "text/plain": [
              "   filial TotalFaturamento\n",
              "1  MATRIZ 1675450.24      \n",
              "2  PR     1571689.65      \n",
              "3  MG     1282971.91      \n",
              "4  SP CAP  889328.42      \n",
              "5  SP INT  631450.22      \n",
              "6  GO      493577.17      \n",
              "7  CE      363624.78      \n",
              "8  RJ      266276.63      \n",
              "9  PE      133370.83      \n",
              "10 BA       69012.63      \n",
              "11 RS       23876.86      \n",
              "12 PA      -54240.16      "
            ]
          },
          "metadata": {}
        }
      ]
    },
    {
      "cell_type": "code",
      "source": [
        "# Agrupamento dos dados por canais\n",
        "dados_agrupados2 <- dados_completos %>%\n",
        "  group_by(canais) %>%\n",
        "  summarise(TotalFaturamento = sum(Faturamento)) %>%\n",
        "  arrange(desc(TotalFaturamento))\n",
        "\n",
        "dados_agrupados2"
      ],
      "metadata": {
        "colab": {
          "base_uri": "https://localhost:8080/",
          "height": 224
        },
        "id": "uyWo5KPQNMpx",
        "outputId": "0fcf2870-762c-438d-bbaf-81c3cc6a1bfe"
      },
      "execution_count": null,
      "outputs": [
        {
          "output_type": "display_data",
          "data": {
            "text/html": [
              "<table class=\"dataframe\">\n",
              "<caption>A tibble: 4 × 2</caption>\n",
              "<thead>\n",
              "\t<tr><th scope=col>canais</th><th scope=col>TotalFaturamento</th></tr>\n",
              "\t<tr><th scope=col>&lt;fct&gt;</th><th scope=col>&lt;dbl&gt;</th></tr>\n",
              "</thead>\n",
              "<tbody>\n",
              "\t<tr><td>GESTAO    </td><td>3682663.340</td></tr>\n",
              "\t<tr><td>EXPERS    </td><td>3625300.620</td></tr>\n",
              "\t<tr><td>VAREJO    </td><td>  39962.500</td></tr>\n",
              "\t<tr><td>M. PUBLICO</td><td>  -1537.281</td></tr>\n",
              "</tbody>\n",
              "</table>\n"
            ],
            "text/markdown": "\nA tibble: 4 × 2\n\n| canais &lt;fct&gt; | TotalFaturamento &lt;dbl&gt; |\n|---|---|\n| GESTAO     | 3682663.340 |\n| EXPERS     | 3625300.620 |\n| VAREJO     |   39962.500 |\n| M. PUBLICO |   -1537.281 |\n\n",
            "text/latex": "A tibble: 4 × 2\n\\begin{tabular}{ll}\n canais & TotalFaturamento\\\\\n <fct> & <dbl>\\\\\n\\hline\n\t GESTAO     & 3682663.340\\\\\n\t EXPERS     & 3625300.620\\\\\n\t VAREJO     &   39962.500\\\\\n\t M. PUBLICO &   -1537.281\\\\\n\\end{tabular}\n",
            "text/plain": [
              "  canais     TotalFaturamento\n",
              "1 GESTAO     3682663.340     \n",
              "2 EXPERS     3625300.620     \n",
              "3 VAREJO       39962.500     \n",
              "4 M. PUBLICO   -1537.281     "
            ]
          },
          "metadata": {}
        }
      ]
    },
    {
      "cell_type": "code",
      "source": [
        "# Agrupamento por filiais e canais\n",
        "dados_agrupados1 <- dados_completos %>%\n",
        "  group_by(filial, canais) %>%\n",
        "  summarise(TotalFaturamento = sum(Faturamento)) %>%\n",
        "  pivot_wider(names_from = canais, values_from = TotalFaturamento, values_fill = 0)\n",
        "\n",
        "dados_agrupados1"
      ],
      "metadata": {
        "colab": {
          "base_uri": "https://localhost:8080/",
          "height": 509
        },
        "id": "tdkqO20pDOhK",
        "outputId": "2a486b59-632e-44f7-cb05-49b44b62a47a"
      },
      "execution_count": null,
      "outputs": [
        {
          "output_type": "stream",
          "name": "stderr",
          "text": [
            "\u001b[1m\u001b[22m`summarise()` has grouped output by 'filial'. You can override using the\n",
            "`.groups` argument.\n"
          ]
        },
        {
          "output_type": "display_data",
          "data": {
            "text/html": [
              "<table class=\"dataframe\">\n",
              "<caption>A grouped_df: 12 × 5</caption>\n",
              "<thead>\n",
              "\t<tr><th scope=col>filial</th><th scope=col>GESTAO</th><th scope=col>M. PUBLICO</th><th scope=col>EXPERS</th><th scope=col>VAREJO</th></tr>\n",
              "\t<tr><th scope=col>&lt;fct&gt;</th><th scope=col>&lt;dbl&gt;</th><th scope=col>&lt;dbl&gt;</th><th scope=col>&lt;dbl&gt;</th><th scope=col>&lt;dbl&gt;</th></tr>\n",
              "</thead>\n",
              "<tbody>\n",
              "\t<tr><td>BA    </td><td>  69012.63</td><td>     0.000</td><td>      0.00</td><td>    0.0</td></tr>\n",
              "\t<tr><td>CE    </td><td> 363624.78</td><td>     0.000</td><td>      0.00</td><td>    0.0</td></tr>\n",
              "\t<tr><td>GO    </td><td>  52000.35</td><td> -9392.882</td><td> 450969.70</td><td>    0.0</td></tr>\n",
              "\t<tr><td>MATRIZ</td><td>1536520.75</td><td> 41752.113</td><td>  57214.88</td><td>39962.5</td></tr>\n",
              "\t<tr><td>MG    </td><td> 563629.01</td><td>     0.000</td><td> 719342.90</td><td>    0.0</td></tr>\n",
              "\t<tr><td>PA    </td><td>      0.00</td><td>-54240.159</td><td>      0.00</td><td>    0.0</td></tr>\n",
              "\t<tr><td>PE    </td><td>  78203.52</td><td>   379.900</td><td>  54787.41</td><td>    0.0</td></tr>\n",
              "\t<tr><td>PR    </td><td> 189525.25</td><td>     0.000</td><td>1382164.40</td><td>    0.0</td></tr>\n",
              "\t<tr><td>RJ    </td><td> 261617.93</td><td>     0.000</td><td>   4658.70</td><td>    0.0</td></tr>\n",
              "\t<tr><td>RS    </td><td>   3913.11</td><td> 19963.747</td><td>      0.00</td><td>    0.0</td></tr>\n",
              "\t<tr><td>SP CAP</td><td> 184352.64</td><td>     0.000</td><td> 704975.78</td><td>    0.0</td></tr>\n",
              "\t<tr><td>SP INT</td><td> 380263.37</td><td>     0.000</td><td> 251186.85</td><td>    0.0</td></tr>\n",
              "</tbody>\n",
              "</table>\n"
            ],
            "text/markdown": "\nA grouped_df: 12 × 5\n\n| filial &lt;fct&gt; | GESTAO &lt;dbl&gt; | M. PUBLICO &lt;dbl&gt; | EXPERS &lt;dbl&gt; | VAREJO &lt;dbl&gt; |\n|---|---|---|---|---|\n| BA     |   69012.63 |      0.000 |       0.00 |     0.0 |\n| CE     |  363624.78 |      0.000 |       0.00 |     0.0 |\n| GO     |   52000.35 |  -9392.882 |  450969.70 |     0.0 |\n| MATRIZ | 1536520.75 |  41752.113 |   57214.88 | 39962.5 |\n| MG     |  563629.01 |      0.000 |  719342.90 |     0.0 |\n| PA     |       0.00 | -54240.159 |       0.00 |     0.0 |\n| PE     |   78203.52 |    379.900 |   54787.41 |     0.0 |\n| PR     |  189525.25 |      0.000 | 1382164.40 |     0.0 |\n| RJ     |  261617.93 |      0.000 |    4658.70 |     0.0 |\n| RS     |    3913.11 |  19963.747 |       0.00 |     0.0 |\n| SP CAP |  184352.64 |      0.000 |  704975.78 |     0.0 |\n| SP INT |  380263.37 |      0.000 |  251186.85 |     0.0 |\n\n",
            "text/latex": "A grouped\\_df: 12 × 5\n\\begin{tabular}{lllll}\n filial & GESTAO & M. PUBLICO & EXPERS & VAREJO\\\\\n <fct> & <dbl> & <dbl> & <dbl> & <dbl>\\\\\n\\hline\n\t BA     &   69012.63 &      0.000 &       0.00 &     0.0\\\\\n\t CE     &  363624.78 &      0.000 &       0.00 &     0.0\\\\\n\t GO     &   52000.35 &  -9392.882 &  450969.70 &     0.0\\\\\n\t MATRIZ & 1536520.75 &  41752.113 &   57214.88 & 39962.5\\\\\n\t MG     &  563629.01 &      0.000 &  719342.90 &     0.0\\\\\n\t PA     &       0.00 & -54240.159 &       0.00 &     0.0\\\\\n\t PE     &   78203.52 &    379.900 &   54787.41 &     0.0\\\\\n\t PR     &  189525.25 &      0.000 & 1382164.40 &     0.0\\\\\n\t RJ     &  261617.93 &      0.000 &    4658.70 &     0.0\\\\\n\t RS     &    3913.11 &  19963.747 &       0.00 &     0.0\\\\\n\t SP CAP &  184352.64 &      0.000 &  704975.78 &     0.0\\\\\n\t SP INT &  380263.37 &      0.000 &  251186.85 &     0.0\\\\\n\\end{tabular}\n",
            "text/plain": [
              "   filial GESTAO     M. PUBLICO EXPERS     VAREJO \n",
              "1  BA       69012.63      0.000       0.00     0.0\n",
              "2  CE      363624.78      0.000       0.00     0.0\n",
              "3  GO       52000.35  -9392.882  450969.70     0.0\n",
              "4  MATRIZ 1536520.75  41752.113   57214.88 39962.5\n",
              "5  MG      563629.01      0.000  719342.90     0.0\n",
              "6  PA           0.00 -54240.159       0.00     0.0\n",
              "7  PE       78203.52    379.900   54787.41     0.0\n",
              "8  PR      189525.25      0.000 1382164.40     0.0\n",
              "9  RJ      261617.93      0.000    4658.70     0.0\n",
              "10 RS        3913.11  19963.747       0.00     0.0\n",
              "11 SP CAP  184352.64      0.000  704975.78     0.0\n",
              "12 SP INT  380263.37      0.000  251186.85     0.0"
            ]
          },
          "metadata": {}
        }
      ]
    },
    {
      "cell_type": "code",
      "source": [
        "# tirar números com notação cientírica\n",
        "options(scipen = 999)"
      ],
      "metadata": {
        "id": "KQDBE48uGGrt"
      },
      "execution_count": null,
      "outputs": []
    },
    {
      "cell_type": "markdown",
      "source": [
        "# Analise Descritiva\n",
        "*Nessa etapa vamos fazer uma análise descritiva dos dados, para entender se existem outiliers na base.A análise descritiva é fundamental para qualquer outra etapa posterior.*\n",
        "*Dois graficos que mostram bem o comportamento dos nossos dados e o boxplot e o grafico de barras, onde ocnseguimos ver a distribuição.*\n",
        "\n",
        "*Com o boxplot podemos observar a presença de outiliers e com o histograma se os nossos dados tem uma distribuição normal.*"
      ],
      "metadata": {
        "id": "jcDC-SGjGOjh"
      }
    },
    {
      "cell_type": "code",
      "source": [
        "# Observamos existe a presença de alguns outliers na nossa base.\n",
        "# O mais preocupante é que existe valores negativos como outlier, esse é um ponto importante para invertigarmos\n",
        "boxplot(dados_completos$Faturamento, main = \"Boxplot do Faturamento\", ylab = \"Faturamento\")\n"
      ],
      "metadata": {
        "colab": {
          "base_uri": "https://localhost:8080/",
          "height": 437
        },
        "id": "QRKLUA7oF37B",
        "outputId": "010d9edb-8601-4a55-e535-b2f2f4386241"
      },
      "execution_count": null,
      "outputs": [
        {
          "output_type": "display_data",
          "data": {
            "text/plain": [
              "Plot with title “Boxplot do Faturamento”"
            ],
            "image/png": "[encoded data removed]"
          },
          "metadata": {
            "image/png": {
              "width": 420,
              "height": 420
            }
          }
        }
      ]
    },
    {
      "cell_type": "code",
      "source": [
        "# Histograma - Para entendermos a distribuição dos dados\n",
        "ggplot(dados_completos, aes(x = Faturamento)) +\n",
        "  geom_histogram(binwidth = 1000, fill = \"blue\", color = \"black\") +\n",
        "  labs(title = \"Distribuição do Faturamento\", x = \"Faturamento\", y = \"Frequência\")"
      ],
      "metadata": {
        "colab": {
          "base_uri": "https://localhost:8080/",
          "height": 437
        },
        "id": "-hWXtqe7IrXd",
        "outputId": "c3aa3560-815c-45c0-8ae2-e27bee6ad64a"
      },
      "execution_count": null,
      "outputs": [
        {
          "output_type": "display_data",
          "data": {
            "text/plain": [
              "plot without title"
            ],
            "image/png": "[encoded data removed]"
          },
          "metadata": {
            "image/png": {
              "width": 420,
              "height": 420
            }
          }
        }
      ]
    },
    {
      "cell_type": "markdown",
      "source": [
        "# Outliers\n",
        "*Vamos identificar os outiliers tanto positivos quanto negativos e saber quem são os Executivos.*"
      ],
      "metadata": {
        "id": "ahmr3JFOHVii"
      }
    },
    {
      "cell_type": "code",
      "source": [
        "# Calcular os limites superior e inferior\n",
        "Q1 <- quantile(dados_completos$Faturamento, 0.25)\n",
        "Q3 <- quantile(dados_completos$Faturamento, 0.75)\n",
        "IQR <- Q3 - Q1\n",
        "limite_inferior <- Q1 - 1.5 * IQR\n",
        "limite_superior <- Q3 + 1.5 * IQR\n",
        "\n",
        "# Identificar linhas com outliers\n",
        "outliers <- dados_completos[dados_completos$Faturamento < limite_inferior | dados_completos$Faturamento > limite_superior, ]"
      ],
      "metadata": {
        "id": "ucZ3iTqrGvmt"
      },
      "execution_count": null,
      "outputs": []
    },
    {
      "cell_type": "code",
      "source": [
        "# Exibir as linhas com outliers\n",
        "outliers"
      ],
      "metadata": {
        "colab": {
          "base_uri": "https://localhost:8080/",
          "height": 757
        },
        "id": "ebXIVWKUHPi6",
        "outputId": "abaa0f32-7e1e-45b2-ed3c-a852c7bbb68a"
      },
      "execution_count": null,
      "outputs": [
        {
          "output_type": "display_data",
          "data": {
            "text/html": [
              "<table class=\"dataframe\">\n",
              "<caption>A tibble: 21 × 7</caption>\n",
              "<thead>\n",
              "\t<tr><th scope=col>CodigoCliente</th><th scope=col>cliente</th><th scope=col>canais</th><th scope=col>executivo</th><th scope=col>Faturamento</th><th scope=col>filial</th><th scope=col>NomeCliente</th></tr>\n",
              "\t<tr><th scope=col>&lt;dbl&gt;</th><th scope=col>&lt;chr&gt;</th><th scope=col>&lt;chr&gt;</th><th scope=col>&lt;chr&gt;</th><th scope=col>&lt;dbl&gt;</th><th scope=col>&lt;chr&gt;</th><th scope=col>&lt;chr&gt;</th></tr>\n",
              "</thead>\n",
              "<tbody>\n",
              "\t<tr><td> 6862</td><td>RAPIDO TRANSPAULO LTDA              </td><td>EXPERS    </td><td>DAIANE GOMES FALCAO                      </td><td>382434.33</td><td>PR    </td><td>RAPIDO TRANSPAULO LTDA              </td></tr>\n",
              "\t<tr><td> 9112</td><td>MULTITRANS                          </td><td>EXPERS    </td><td>DAIANE GOMES FALCAO                      </td><td>300966.06</td><td>PR    </td><td>MULTITRANS                          </td></tr>\n",
              "\t<tr><td>10166</td><td>ENGELMIG                            </td><td>GESTAO    </td><td>MARINA DAMAZIO GODOY DE ABREU            </td><td>341319.80</td><td>MG    </td><td>ENGELMIG                            </td></tr>\n",
              "\t<tr><td>14246</td><td>ELETRONORTE TUCURUI                 </td><td>M. PUBLICO</td><td>FRANCISCO EUGENIO FREITAS RODRIGUES      </td><td>-54240.16</td><td>PA    </td><td>ELETRONORTE TUCURUI                 </td></tr>\n",
              "\t<tr><td>14304</td><td>COMERCIO E TRANSPORTES MIORANZA LTDA</td><td>EXPERS    </td><td>DAIANE GOMES FALCAO                      </td><td>325155.61</td><td>PR    </td><td>COMERCIO E TRANSPORTES MIORANZA LTDA</td></tr>\n",
              "\t<tr><td>23825</td><td>CDA GUARULHOS                       </td><td>GESTAO    </td><td>JAQUELINE CRISTINA ALVES ASSIS           </td><td>126705.62</td><td>SP INT</td><td>CDA GUARULHOS                       </td></tr>\n",
              "\t<tr><td>27340</td><td>FARMACE                             </td><td>GESTAO    </td><td>EDUARDO PEREIRA SILVA                    </td><td> 94897.98</td><td>CE    </td><td>FARMACE                             </td></tr>\n",
              "\t<tr><td>27843</td><td>SULINA                              </td><td>EXPERS    </td><td>DAIANE GOMES FALCAO                      </td><td>317481.51</td><td>PR    </td><td>SULINA                              </td></tr>\n",
              "\t<tr><td>34161</td><td>CARVALIMA TRANSPORTES               </td><td>EXPERS    </td><td>ELIANA DAL PONTE FARIAS                  </td><td>450969.70</td><td>GO    </td><td>CARVALIMA TRANSPORTES               </td></tr>\n",
              "\t<tr><td>34617</td><td>VIALIM                              </td><td>GESTAO    </td><td>NATALIA STEFANIE BLOS FIDELIZACAO        </td><td> 89412.42</td><td>MATRIZ</td><td>VIALIM                              </td></tr>\n",
              "\t<tr><td>35260</td><td>JUMIL                               </td><td>GESTAO    </td><td>RODRIGO ARTUR BASTOS LIMA                </td><td>121227.57</td><td>SP INT</td><td>JUMIL                               </td></tr>\n",
              "\t<tr><td>35421</td><td>VITORIA TRANSPORTES EM GERAL S A    </td><td>EXPERS    </td><td>ELISANDRA PAULA CENTAMORI PAULINO        </td><td>188059.84</td><td>SP INT</td><td>VITORIA TRANSPORTES EM GERAL S A    </td></tr>\n",
              "\t<tr><td>36590</td><td>IGREJA UNIVERSAL REINO DE DEUS13 MG </td><td>GESTAO    </td><td>VANIA PAULO DA SILVA RUCKERT FIDELIZACAO </td><td>109618.42</td><td>MATRIZ</td><td>IGREJA UNIVERSAL REINO DE DEUS13 MG </td></tr>\n",
              "\t<tr><td>37521</td><td>TRANSPORTES FATIMA                  </td><td>EXPERS    </td><td>WELLINGTON MARCAL SILVA                  </td><td>611876.40</td><td>MG    </td><td>TRANSPORTES FATIMA                  </td></tr>\n",
              "\t<tr><td>40877</td><td>TIARAJU ENGENHARIA LTDA             </td><td>GESTAO    </td><td>NATALIA STEFANIE BLOS FIDELIZACAO        </td><td> 89044.91</td><td>MATRIZ</td><td>TIARAJU ENGENHARIA LTDA             </td></tr>\n",
              "\t<tr><td>44309</td><td>TRANSPORTADORA ROTA 90 LTDA         </td><td>EXPERS    </td><td>SEM ALOCACAO                             </td><td>171088.86</td><td>SP CAP</td><td>TRANSPORTADORA ROTA 90 LTDA         </td></tr>\n",
              "\t<tr><td>46138</td><td>ENGELMIG CAMPO GRANDE MS            </td><td>GESTAO    </td><td>MARINA DAMAZIO GODOY DE ABREU            </td><td>185957.63</td><td>MG    </td><td>ENGELMIG CAMPO GRANDE MS            </td></tr>\n",
              "\t<tr><td>49249</td><td>COSTEIRA TRANSPORTES  FROTA         </td><td>EXPERS    </td><td>SEM ALOCACAO                             </td><td>524284.95</td><td>SP CAP</td><td>COSTEIRA TRANSPORTES  FROTA         </td></tr>\n",
              "\t<tr><td>50993</td><td>FIEL TURISMO                        </td><td>GESTAO    </td><td>RACHEL VIANNA FERNANDES BEZERRA GIESTEIRA</td><td>177831.70</td><td>RJ    </td><td>FIEL TURISMO                        </td></tr>\n",
              "\t<tr><td>52372</td><td>ELO CONSTRUCOES E INSTALACOES       </td><td>GESTAO    </td><td>SUELEN TAIS ARAUJO DA ROSA FIDELIZACAO   </td><td> 98742.21</td><td>MATRIZ</td><td>ELO CONSTRUCOES E INSTALACOES       </td></tr>\n",
              "\t<tr><td>52475</td><td>DINAMO ENGENHARIA CEARA             </td><td>GESTAO    </td><td>MARCOS ROBERTO OLIVEIRA MARTINS          </td><td>145021.51</td><td>CE    </td><td>DINAMO ENGENHARIA CEARA             </td></tr>\n",
              "</tbody>\n",
              "</table>\n"
            ],
            "text/markdown": "\nA tibble: 21 × 7\n\n| CodigoCliente &lt;dbl&gt; | cliente &lt;chr&gt; | canais &lt;chr&gt; | executivo &lt;chr&gt; | Faturamento &lt;dbl&gt; | filial &lt;chr&gt; | NomeCliente &lt;chr&gt; |\n|---|---|---|---|---|---|---|\n|  6862 | RAPIDO TRANSPAULO LTDA               | EXPERS     | DAIANE GOMES FALCAO                       | 382434.33 | PR     | RAPIDO TRANSPAULO LTDA               |\n|  9112 | MULTITRANS                           | EXPERS     | DAIANE GOMES FALCAO                       | 300966.06 | PR     | MULTITRANS                           |\n| 10166 | ENGELMIG                             | GESTAO     | MARINA DAMAZIO GODOY DE ABREU             | 341319.80 | MG     | ENGELMIG                             |\n| 14246 | ELETRONORTE TUCURUI                  | M. PUBLICO | FRANCISCO EUGENIO FREITAS RODRIGUES       | -54240.16 | PA     | ELETRONORTE TUCURUI                  |\n| 14304 | COMERCIO E TRANSPORTES MIORANZA LTDA | EXPERS     | DAIANE GOMES FALCAO                       | 325155.61 | PR     | COMERCIO E TRANSPORTES MIORANZA LTDA |\n| 23825 | CDA GUARULHOS                        | GESTAO     | JAQUELINE CRISTINA ALVES ASSIS            | 126705.62 | SP INT | CDA GUARULHOS                        |\n| 27340 | FARMACE                              | GESTAO     | EDUARDO PEREIRA SILVA                     |  94897.98 | CE     | FARMACE                              |\n| 27843 | SULINA                               | EXPERS     | DAIANE GOMES FALCAO                       | 317481.51 | PR     | SULINA                               |\n| 34161 | CARVALIMA TRANSPORTES                | EXPERS     | ELIANA DAL PONTE FARIAS                   | 450969.70 | GO     | CARVALIMA TRANSPORTES                |\n| 34617 | VIALIM                               | GESTAO     | NATALIA STEFANIE BLOS FIDELIZACAO         |  89412.42 | MATRIZ | VIALIM                               |\n| 35260 | JUMIL                                | GESTAO     | RODRIGO ARTUR BASTOS LIMA                 | 121227.57 | SP INT | JUMIL                                |\n| 35421 | VITORIA TRANSPORTES EM GERAL S A     | EXPERS     | ELISANDRA PAULA CENTAMORI PAULINO         | 188059.84 | SP INT | VITORIA TRANSPORTES EM GERAL S A     |\n| 36590 | IGREJA UNIVERSAL REINO DE DEUS13 MG  | GESTAO     | VANIA PAULO DA SILVA RUCKERT FIDELIZACAO  | 109618.42 | MATRIZ | IGREJA UNIVERSAL REINO DE DEUS13 MG  |\n| 37521 | TRANSPORTES FATIMA                   | EXPERS     | WELLINGTON MARCAL SILVA                   | 611876.40 | MG     | TRANSPORTES FATIMA                   |\n| 40877 | TIARAJU ENGENHARIA LTDA              | GESTAO     | NATALIA STEFANIE BLOS FIDELIZACAO         |  89044.91 | MATRIZ | TIARAJU ENGENHARIA LTDA              |\n| 44309 | TRANSPORTADORA ROTA 90 LTDA          | EXPERS     | SEM ALOCACAO                              | 171088.86 | SP CAP | TRANSPORTADORA ROTA 90 LTDA          |\n| 46138 | ENGELMIG CAMPO GRANDE MS             | GESTAO     | MARINA DAMAZIO GODOY DE ABREU             | 185957.63 | MG     | ENGELMIG CAMPO GRANDE MS             |\n| 49249 | COSTEIRA TRANSPORTES  FROTA          | EXPERS     | SEM ALOCACAO                              | 524284.95 | SP CAP | COSTEIRA TRANSPORTES  FROTA          |\n| 50993 | FIEL TURISMO                         | GESTAO     | RACHEL VIANNA FERNANDES BEZERRA GIESTEIRA | 177831.70 | RJ     | FIEL TURISMO                         |\n| 52372 | ELO CONSTRUCOES E INSTALACOES        | GESTAO     | SUELEN TAIS ARAUJO DA ROSA FIDELIZACAO    |  98742.21 | MATRIZ | ELO CONSTRUCOES E INSTALACOES        |\n| 52475 | DINAMO ENGENHARIA CEARA              | GESTAO     | MARCOS ROBERTO OLIVEIRA MARTINS           | 145021.51 | CE     | DINAMO ENGENHARIA CEARA              |\n\n",
            "text/latex": "A tibble: 21 × 7\n\\begin{tabular}{lllllll}\n CodigoCliente & cliente & canais & executivo & Faturamento & filial & NomeCliente\\\\\n <dbl> & <chr> & <chr> & <chr> & <dbl> & <chr> & <chr>\\\\\n\\hline\n\t  6862 & RAPIDO TRANSPAULO LTDA               & EXPERS     & DAIANE GOMES FALCAO                       & 382434.33 & PR     & RAPIDO TRANSPAULO LTDA              \\\\\n\t  9112 & MULTITRANS                           & EXPERS     & DAIANE GOMES FALCAO                       & 300966.06 & PR     & MULTITRANS                          \\\\\n\t 10166 & ENGELMIG                             & GESTAO     & MARINA DAMAZIO GODOY DE ABREU             & 341319.80 & MG     & ENGELMIG                            \\\\\n\t 14246 & ELETRONORTE TUCURUI                  & M. PUBLICO & FRANCISCO EUGENIO FREITAS RODRIGUES       & -54240.16 & PA     & ELETRONORTE TUCURUI                 \\\\\n\t 14304 & COMERCIO E TRANSPORTES MIORANZA LTDA & EXPERS     & DAIANE GOMES FALCAO                       & 325155.61 & PR     & COMERCIO E TRANSPORTES MIORANZA LTDA\\\\\n\t 23825 & CDA GUARULHOS                        & GESTAO     & JAQUELINE CRISTINA ALVES ASSIS            & 126705.62 & SP INT & CDA GUARULHOS                       \\\\\n\t 27340 & FARMACE                              & GESTAO     & EDUARDO PEREIRA SILVA                     &  94897.98 & CE     & FARMACE                             \\\\\n\t 27843 & SULINA                               & EXPERS     & DAIANE GOMES FALCAO                       & 317481.51 & PR     & SULINA                              \\\\\n\t 34161 & CARVALIMA TRANSPORTES                & EXPERS     & ELIANA DAL PONTE FARIAS                   & 450969.70 & GO     & CARVALIMA TRANSPORTES               \\\\\n\t 34617 & VIALIM                               & GESTAO     & NATALIA STEFANIE BLOS FIDELIZACAO         &  89412.42 & MATRIZ & VIALIM                              \\\\\n\t 35260 & JUMIL                                & GESTAO     & RODRIGO ARTUR BASTOS LIMA                 & 121227.57 & SP INT & JUMIL                               \\\\\n\t 35421 & VITORIA TRANSPORTES EM GERAL S A     & EXPERS     & ELISANDRA PAULA CENTAMORI PAULINO         & 188059.84 & SP INT & VITORIA TRANSPORTES EM GERAL S A    \\\\\n\t 36590 & IGREJA UNIVERSAL REINO DE DEUS13 MG  & GESTAO     & VANIA PAULO DA SILVA RUCKERT FIDELIZACAO  & 109618.42 & MATRIZ & IGREJA UNIVERSAL REINO DE DEUS13 MG \\\\\n\t 37521 & TRANSPORTES FATIMA                   & EXPERS     & WELLINGTON MARCAL SILVA                   & 611876.40 & MG     & TRANSPORTES FATIMA                  \\\\\n\t 40877 & TIARAJU ENGENHARIA LTDA              & GESTAO     & NATALIA STEFANIE BLOS FIDELIZACAO         &  89044.91 & MATRIZ & TIARAJU ENGENHARIA LTDA             \\\\\n\t 44309 & TRANSPORTADORA ROTA 90 LTDA          & EXPERS     & SEM ALOCACAO                              & 171088.86 & SP CAP & TRANSPORTADORA ROTA 90 LTDA         \\\\\n\t 46138 & ENGELMIG CAMPO GRANDE MS             & GESTAO     & MARINA DAMAZIO GODOY DE ABREU             & 185957.63 & MG     & ENGELMIG CAMPO GRANDE MS            \\\\\n\t 49249 & COSTEIRA TRANSPORTES  FROTA          & EXPERS     & SEM ALOCACAO                              & 524284.95 & SP CAP & COSTEIRA TRANSPORTES  FROTA         \\\\\n\t 50993 & FIEL TURISMO                         & GESTAO     & RACHEL VIANNA FERNANDES BEZERRA GIESTEIRA & 177831.70 & RJ     & FIEL TURISMO                        \\\\\n\t 52372 & ELO CONSTRUCOES E INSTALACOES        & GESTAO     & SUELEN TAIS ARAUJO DA ROSA FIDELIZACAO    &  98742.21 & MATRIZ & ELO CONSTRUCOES E INSTALACOES       \\\\\n\t 52475 & DINAMO ENGENHARIA CEARA              & GESTAO     & MARCOS ROBERTO OLIVEIRA MARTINS           & 145021.51 & CE     & DINAMO ENGENHARIA CEARA             \\\\\n\\end{tabular}\n",
            "text/plain": [
              "   CodigoCliente cliente                              canais    \n",
              "1   6862         RAPIDO TRANSPAULO LTDA               EXPERS    \n",
              "2   9112         MULTITRANS                           EXPERS    \n",
              "3  10166         ENGELMIG                             GESTAO    \n",
              "4  14246         ELETRONORTE TUCURUI                  M. PUBLICO\n",
              "5  14304         COMERCIO E TRANSPORTES MIORANZA LTDA EXPERS    \n",
              "6  23825         CDA GUARULHOS                        GESTAO    \n",
              "7  27340         FARMACE                              GESTAO    \n",
              "8  27843         SULINA                               EXPERS    \n",
              "9  34161         CARVALIMA TRANSPORTES                EXPERS    \n",
              "10 34617         VIALIM                               GESTAO    \n",
              "11 35260         JUMIL                                GESTAO    \n",
              "12 35421         VITORIA TRANSPORTES EM GERAL S A     EXPERS    \n",
              "13 36590         IGREJA UNIVERSAL REINO DE DEUS13 MG  GESTAO    \n",
              "14 37521         TRANSPORTES FATIMA                   EXPERS    \n",
              "15 40877         TIARAJU ENGENHARIA LTDA              GESTAO    \n",
              "16 44309         TRANSPORTADORA ROTA 90 LTDA          EXPERS    \n",
              "17 46138         ENGELMIG CAMPO GRANDE MS             GESTAO    \n",
              "18 49249         COSTEIRA TRANSPORTES  FROTA          EXPERS    \n",
              "19 50993         FIEL TURISMO                         GESTAO    \n",
              "20 52372         ELO CONSTRUCOES E INSTALACOES        GESTAO    \n",
              "21 52475         DINAMO ENGENHARIA CEARA              GESTAO    \n",
              "   executivo                                 Faturamento filial\n",
              "1  DAIANE GOMES FALCAO                       382434.33   PR    \n",
              "2  DAIANE GOMES FALCAO                       300966.06   PR    \n",
              "3  MARINA DAMAZIO GODOY DE ABREU             341319.80   MG    \n",
              "4  FRANCISCO EUGENIO FREITAS RODRIGUES       -54240.16   PA    \n",
              "5  DAIANE GOMES FALCAO                       325155.61   PR    \n",
              "6  JAQUELINE CRISTINA ALVES ASSIS            126705.62   SP INT\n",
              "7  EDUARDO PEREIRA SILVA                      94897.98   CE    \n",
              "8  DAIANE GOMES FALCAO                       317481.51   PR    \n",
              "9  ELIANA DAL PONTE FARIAS                   450969.70   GO    \n",
              "10 NATALIA STEFANIE BLOS FIDELIZACAO          89412.42   MATRIZ\n",
              "11 RODRIGO ARTUR BASTOS LIMA                 121227.57   SP INT\n",
              "12 ELISANDRA PAULA CENTAMORI PAULINO         188059.84   SP INT\n",
              "13 VANIA PAULO DA SILVA RUCKERT FIDELIZACAO  109618.42   MATRIZ\n",
              "14 WELLINGTON MARCAL SILVA                   611876.40   MG    \n",
              "15 NATALIA STEFANIE BLOS FIDELIZACAO          89044.91   MATRIZ\n",
              "16 SEM ALOCACAO                              171088.86   SP CAP\n",
              "17 MARINA DAMAZIO GODOY DE ABREU             185957.63   MG    \n",
              "18 SEM ALOCACAO                              524284.95   SP CAP\n",
              "19 RACHEL VIANNA FERNANDES BEZERRA GIESTEIRA 177831.70   RJ    \n",
              "20 SUELEN TAIS ARAUJO DA ROSA FIDELIZACAO     98742.21   MATRIZ\n",
              "21 MARCOS ROBERTO OLIVEIRA MARTINS           145021.51   CE    \n",
              "   NomeCliente                         \n",
              "1  RAPIDO TRANSPAULO LTDA              \n",
              "2  MULTITRANS                          \n",
              "3  ENGELMIG                            \n",
              "4  ELETRONORTE TUCURUI                 \n",
              "5  COMERCIO E TRANSPORTES MIORANZA LTDA\n",
              "6  CDA GUARULHOS                       \n",
              "7  FARMACE                             \n",
              "8  SULINA                              \n",
              "9  CARVALIMA TRANSPORTES               \n",
              "10 VIALIM                              \n",
              "11 JUMIL                               \n",
              "12 VITORIA TRANSPORTES EM GERAL S A    \n",
              "13 IGREJA UNIVERSAL REINO DE DEUS13 MG \n",
              "14 TRANSPORTES FATIMA                  \n",
              "15 TIARAJU ENGENHARIA LTDA             \n",
              "16 TRANSPORTADORA ROTA 90 LTDA         \n",
              "17 ENGELMIG CAMPO GRANDE MS            \n",
              "18 COSTEIRA TRANSPORTES  FROTA         \n",
              "19 FIEL TURISMO                        \n",
              "20 ELO CONSTRUCOES E INSTALACOES       \n",
              "21 DINAMO ENGENHARIA CEARA             "
            ]
          },
          "metadata": {}
        }
      ]
    },
    {
      "cell_type": "markdown",
      "source": [
        "# Analise Exploratória\n",
        "\n",
        "*Como temos apenas uma variavel numérica, vamos realizar a análise de variância (ANOVA) para comparar as médias do faturamento entre os diferentes níveis da variável categórica, como filiais e canais.*\n",
        "\n"
      ],
      "metadata": {
        "id": "zeMBrh1UKmV2"
      }
    },
    {
      "cell_type": "markdown",
      "source": [
        "# Análise de variância (ANOVA)\n",
        "*A Análise de Variância (ANOVA) é um teste estatístico chave e muito útil para análise de datasets em diversas áreas do conhecimento. A análise visa, fundamentalmente, verificar se existe uma diferença significativa entre as médias e se os fatores exercem influência em alguma variável dependente.*"
      ],
      "metadata": {
        "id": "rSLuErIzQkya"
      }
    },
    {
      "cell_type": "markdown",
      "source": [
        "# Legenda\n",
        "*Df: Os graus de liberdade indicam o número de grupos (filiais ou canais) e o número de observações restantes (residuals).*\n",
        "\n",
        "*Sum Sq: A soma dos quadrados representa a variabilidade total explicada pela variável \"filial/canais\" e a variabilidade não explicada (residual).*\n",
        "\n",
        "*Mean Sq: A média dos quadrados é calculada dividindo a soma dos quadrados pelos graus de liberdade correspondentes.*\n",
        "\n",
        "*F value: O valor F é uma medida da diferença entre as médias dos grupos e a variabilidade dentro dos grupos.*\n",
        "\n",
        "*Pr(>F): O valor p representa a probabilidade de obter uma estatística F igual ou mais extrema do que a observada, assumindo que a hipótese nula seja verdadeira. Um valor de p pequeno (geralmente menor que 0,05) indica uma diferença estatisticamente significativa*"
      ],
      "metadata": {
        "id": "LeDyPHb1Lq9M"
      }
    },
    {
      "cell_type": "code",
      "source": [
        "# Realizar a análise de variância\n",
        "modelo_anova <- aov(Faturamento ~ filial, data = dados_completos)\n",
        "\n",
        "# Resumo do modelo ANOVA\n",
        "resumo_anova <- summary(modelo_anova)\n",
        "\n",
        "\n",
        "# Exibir o resumo do modelo ANOVA\n",
        "print(resumo_anova)\n"
      ],
      "metadata": {
        "colab": {
          "base_uri": "https://localhost:8080/"
        },
        "id": "SaUXQ8EKKDiF",
        "outputId": "d993f4f9-2d55-46ae-b23d-28d85e317999"
      },
      "execution_count": null,
      "outputs": [
        {
          "output_type": "stream",
          "name": "stdout",
          "text": [
            "             Df        Sum Sq     Mean Sq F value       Pr(>F)    \n",
            "filial       11  361206888442 32836989858   5.905 0.0000000268 ***\n",
            "Residuals   201 1117749931031  5560944931                         \n",
            "---\n",
            "Signif. codes:  0 ‘***’ 0.001 ‘**’ 0.01 ‘*’ 0.05 ‘.’ 0.1 ‘ ’ 1\n"
          ]
        }
      ]
    },
    {
      "cell_type": "markdown",
      "source": [
        "*No caso das filiais, o resultado mostra um valor de p muito pequeno (p = 0.0000000268), indicando que há uma diferença estatisticamente significativa nas médias do faturamento entre as filiais. Isso sugere que a variável \"filial\" está associada ao faturamento e pode ser um fator importante na determinação das diferenças observadas.*\n",
        "\n",
        "*É importante observar que devemos interpretar esses resultados considerando o contexto específico do conjunto de dados e o objetivo da análise. A análise de variância é útil para testar diferenças entre grupos, Podem ser feitas  análises adicionais, como testes de comparação múltipla, para identificar quais filiais têm médias de faturamento significativamente diferentes umas das outras.*"
      ],
      "metadata": {
        "id": "CJwbiq6LL5VZ"
      }
    },
    {
      "cell_type": "code",
      "source": [
        "# Realizar a análise de variância\n",
        "modelo_anova1 <- aov(Faturamento ~ canais, data = dados_completos)\n",
        "\n",
        "# Resumo do modelo ANOVA\n",
        "resumo_anova1 <- summary(modelo_anova1)\n",
        "\n",
        "# Exibir o resumo do modelo ANOVA\n",
        "print(resumo_anova1)"
      ],
      "metadata": {
        "colab": {
          "base_uri": "https://localhost:8080/"
        },
        "id": "vYuVoYmoLJ-p",
        "outputId": "7f8aa75c-0298-4b62-8673-9395c6919e7f"
      },
      "execution_count": null,
      "outputs": [
        {
          "output_type": "stream",
          "name": "stdout",
          "text": [
            "             Df        Sum Sq      Mean Sq F value              Pr(>F)    \n",
            "canais        3  476970850580 158990283527   33.16 <0.0000000000000002 ***\n",
            "Residuals   209 1001985968893   4794191239                                \n",
            "---\n",
            "Signif. codes:  0 ‘***’ 0.001 ‘**’ 0.01 ‘*’ 0.05 ‘.’ 0.1 ‘ ’ 1\n"
          ]
        }
      ]
    },
    {
      "cell_type": "markdown",
      "source": [
        "*No caso dos canais, o resultado mostra um valor de p muito pequeno (p < 0.0000000000000002), indicando que há uma diferença estatisticamente significativa nas médias do faturamento entre os canais. Isso sugere que a variável \"canais\" está associada ao faturamento e pode ser um fator importante na determinação das diferenças observadas.*\n",
        "\n",
        "*Assim como no caso das filiais, é importante observar devemos interpretar esses resultados considerando o contexto específico do conjunto de dados e o objetivo da análise.*\n",
        "\n",
        "\n",
        "\n",
        "\n"
      ],
      "metadata": {
        "id": "44c9e562OJ5W"
      }
    }
  ]
}