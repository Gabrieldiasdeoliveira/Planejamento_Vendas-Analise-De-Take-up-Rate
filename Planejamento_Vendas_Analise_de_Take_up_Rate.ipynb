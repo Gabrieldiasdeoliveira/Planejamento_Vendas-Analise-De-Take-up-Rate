{
  "nbformat": 4,
  "nbformat_minor": 0,
  "metadata": {
    "colab": {
      "provenance": [],
      "authorship_tag": "ABX9TyP02Bu4BjiNVr7pC+L5WV0D",
      "include_colab_link": true
    },
    "kernelspec": {
      "name": "ir",
      "display_name": "R"
    },
    "language_info": {
      "name": "R"
    }
  },
  "cells": [
    {
      "cell_type": "markdown",
      "metadata": {
        "id": "view-in-github",
        "colab_type": "text"
      },
      "source": [
        "<a href=\"https://colab.research.google.com/github/Gabrieldiasdeoliveira/Planejamento_Vendas-Analise-De-Take-up-Rate/blob/main/Planejamento_Vendas_Analise_de_Take_up_Rate.ipynb\" target=\"_parent\"><img src=\"https://colab.research.google.com/assets/colab-badge.svg\" alt=\"Open In Colab\"/></a>"
      ]
    },
    {
      "cell_type": "markdown",
      "source": [
        "Pegamos dados aleatórios de vendedores gerados aleatóriamente, para fazer uma analise exploratória. O objetivo desse material é explorar diversas alternativas dos dados, mesmo não conhecendo totalmente as regras de negócio, podemos obter insights para novas abordagens e tomada de decisão.\n",
        "\n",
        "Nesse material trabalharemos basicamente com estatistica descritiva, analise de variancia(ANOVA), e vamos buscar entender como podemos exploras os dados de umar forma simples, mas muito eficiente.\n",
        "\n",
        "\n",
        "Dados complementares:\n",
        "Cada filial tem um custo total de operaçao de R$ 1.2 milhões\n",
        "O nível de rentabilidade de um cliente é definido pelo Take-up Rate (Índice% resultante da divisão Receita/Volume).\n",
        "\n",
        "Vamos calcular o Take-up Rate e fazer outras abordagens."
      ],
      "metadata": {
        "id": "QgAgpCWuybtZ"
      }
    },
    {
      "cell_type": "code",
      "execution_count": null,
      "metadata": {
        "id": "Y_L0KjXzt935"
      },
      "outputs": [],
      "source": [
        "# Carregar pacotes necessários\n",
        "library(readxl)\n",
        "library(dplyr)\n",
        "library(tidyverse)\n",
        "library(ggplot2)\n",
        "library(scales)\n",
        "library(writexl)\n",
        "\n",
        "# Carregar os dados das tabelas\n",
        "faturamento <- read_excel(\"/faturamento.xlsx\")\n",
        "filial <- read_excel(\"/filial.xlsx\")\n"
      ]
    },
    {
      "cell_type": "code",
      "source": [
        "# Visualizar as primeiras linhas dos dados\n",
        "head(faturamento)\n"
      ],
      "metadata": {
        "colab": {
          "base_uri": "https://localhost:8080/",
          "height": 286
        },
        "id": "rwruyHpFzomp",
        "outputId": "86ec6276-6fce-43b5-c8a1-a0550d54645a"
      },
      "execution_count": 2,
      "outputs": [
        {
          "output_type": "display_data",
          "data": {
            "text/html": [
              "<table class=\"dataframe\">\n",
              "<caption>A tibble: 6 × 6</caption>\n",
              "<thead>\n",
              "\t<tr><th scope=col>CodigoCliente</th><th scope=col>cliente</th><th scope=col>canais</th><th scope=col>executivo</th><th scope=col>Faturamento</th><th scope=col>Volume</th></tr>\n",
              "\t<tr><th scope=col>&lt;dbl&gt;</th><th scope=col>&lt;chr&gt;</th><th scope=col>&lt;chr&gt;</th><th scope=col>&lt;chr&gt;</th><th scope=col>&lt;dbl&gt;</th><th scope=col>&lt;dbl&gt;</th></tr>\n",
              "</thead>\n",
              "<tbody>\n",
              "\t<tr><td>2127</td><td>PROSEGUR RS           </td><td>GESTAO    </td><td>FLAVIA REGINA LEITE MARINHO             </td><td>10676.36</td><td>59</td></tr>\n",
              "\t<tr><td>2175</td><td>SIMPALA VEICULOS SA   </td><td>VAREJO    </td><td>ALINE GOTTSCHALK DE OLIVEIRA FIDELIZACAO</td><td> 2180.67</td><td>28</td></tr>\n",
              "\t<tr><td>2321</td><td>FDRH                  </td><td>M. PUBLICO</td><td>NEIRI MARIO SCHENCKEL                   </td><td>  250.00</td><td>33</td></tr>\n",
              "\t<tr><td>2469</td><td>MUDANCAS GIULIAN      </td><td>EXPERS    </td><td>NAIANA CECILIA STROTTMANN FIDELIZACAO   </td><td>14042.47</td><td>52</td></tr>\n",
              "\t<tr><td>2662</td><td>CARHOUSE VEICULOS LTDA</td><td>GESTAO    </td><td>VANIA PAULO DA SILVA RUCKERT FIDELIZACAO</td><td>  719.32</td><td>42</td></tr>\n",
              "\t<tr><td>3096</td><td>EDITORA FTD           </td><td>GESTAO    </td><td>SUELEN TAIS ARAUJO DA ROSA FIDELIZACAO  </td><td> 3276.94</td><td>35</td></tr>\n",
              "</tbody>\n",
              "</table>\n"
            ],
            "text/markdown": "\nA tibble: 6 × 6\n\n| CodigoCliente &lt;dbl&gt; | cliente &lt;chr&gt; | canais &lt;chr&gt; | executivo &lt;chr&gt; | Faturamento &lt;dbl&gt; | Volume &lt;dbl&gt; |\n|---|---|---|---|---|---|\n| 2127 | PROSEGUR RS            | GESTAO     | FLAVIA REGINA LEITE MARINHO              | 10676.36 | 59 |\n| 2175 | SIMPALA VEICULOS SA    | VAREJO     | ALINE GOTTSCHALK DE OLIVEIRA FIDELIZACAO |  2180.67 | 28 |\n| 2321 | FDRH                   | M. PUBLICO | NEIRI MARIO SCHENCKEL                    |   250.00 | 33 |\n| 2469 | MUDANCAS GIULIAN       | EXPERS     | NAIANA CECILIA STROTTMANN FIDELIZACAO    | 14042.47 | 52 |\n| 2662 | CARHOUSE VEICULOS LTDA | GESTAO     | VANIA PAULO DA SILVA RUCKERT FIDELIZACAO |   719.32 | 42 |\n| 3096 | EDITORA FTD            | GESTAO     | SUELEN TAIS ARAUJO DA ROSA FIDELIZACAO   |  3276.94 | 35 |\n\n",
            "text/latex": "A tibble: 6 × 6\n\\begin{tabular}{llllll}\n CodigoCliente & cliente & canais & executivo & Faturamento & Volume\\\\\n <dbl> & <chr> & <chr> & <chr> & <dbl> & <dbl>\\\\\n\\hline\n\t 2127 & PROSEGUR RS            & GESTAO     & FLAVIA REGINA LEITE MARINHO              & 10676.36 & 59\\\\\n\t 2175 & SIMPALA VEICULOS SA    & VAREJO     & ALINE GOTTSCHALK DE OLIVEIRA FIDELIZACAO &  2180.67 & 28\\\\\n\t 2321 & FDRH                   & M. PUBLICO & NEIRI MARIO SCHENCKEL                    &   250.00 & 33\\\\\n\t 2469 & MUDANCAS GIULIAN       & EXPERS     & NAIANA CECILIA STROTTMANN FIDELIZACAO    & 14042.47 & 52\\\\\n\t 2662 & CARHOUSE VEICULOS LTDA & GESTAO     & VANIA PAULO DA SILVA RUCKERT FIDELIZACAO &   719.32 & 42\\\\\n\t 3096 & EDITORA FTD            & GESTAO     & SUELEN TAIS ARAUJO DA ROSA FIDELIZACAO   &  3276.94 & 35\\\\\n\\end{tabular}\n",
            "text/plain": [
              "  CodigoCliente cliente                canais    \n",
              "1 2127          PROSEGUR RS            GESTAO    \n",
              "2 2175          SIMPALA VEICULOS SA    VAREJO    \n",
              "3 2321          FDRH                   M. PUBLICO\n",
              "4 2469          MUDANCAS GIULIAN       EXPERS    \n",
              "5 2662          CARHOUSE VEICULOS LTDA GESTAO    \n",
              "6 3096          EDITORA FTD            GESTAO    \n",
              "  executivo                                Faturamento Volume\n",
              "1 FLAVIA REGINA LEITE MARINHO              10676.36    59    \n",
              "2 ALINE GOTTSCHALK DE OLIVEIRA FIDELIZACAO  2180.67    28    \n",
              "3 NEIRI MARIO SCHENCKEL                      250.00    33    \n",
              "4 NAIANA CECILIA STROTTMANN FIDELIZACAO    14042.47    52    \n",
              "5 VANIA PAULO DA SILVA RUCKERT FIDELIZACAO   719.32    42    \n",
              "6 SUELEN TAIS ARAUJO DA ROSA FIDELIZACAO    3276.94    35    "
            ]
          },
          "metadata": {}
        }
      ]
    },
    {
      "cell_type": "code",
      "source": [
        "head(filial)"
      ],
      "metadata": {
        "colab": {
          "base_uri": "https://localhost:8080/",
          "height": 286
        },
        "id": "cM0jhohnzqip",
        "outputId": "627a9e08-ee06-4ab0-9d42-f6ca0ef6bd3a"
      },
      "execution_count": 3,
      "outputs": [
        {
          "output_type": "display_data",
          "data": {
            "text/html": [
              "<table class=\"dataframe\">\n",
              "<caption>A tibble: 6 × 3</caption>\n",
              "<thead>\n",
              "\t<tr><th scope=col>filial</th><th scope=col>CodigoCliente</th><th scope=col>NomeCliente</th></tr>\n",
              "\t<tr><th scope=col>&lt;chr&gt;</th><th scope=col>&lt;dbl&gt;</th><th scope=col>&lt;chr&gt;</th></tr>\n",
              "</thead>\n",
              "<tbody>\n",
              "\t<tr><td>SP CAP</td><td>2127</td><td>PROSEGUR RS           </td></tr>\n",
              "\t<tr><td>MATRIZ</td><td>2175</td><td>SIMPALA VEICULOS SA   </td></tr>\n",
              "\t<tr><td>RS    </td><td>2321</td><td>FDRH                  </td></tr>\n",
              "\t<tr><td>MATRIZ</td><td>2469</td><td>MUDANCAS GIULIAN      </td></tr>\n",
              "\t<tr><td>MATRIZ</td><td>2662</td><td>CARHOUSE VEICULOS LTDA</td></tr>\n",
              "\t<tr><td>MATRIZ</td><td>3096</td><td>EDITORA FTD           </td></tr>\n",
              "</tbody>\n",
              "</table>\n"
            ],
            "text/markdown": "\nA tibble: 6 × 3\n\n| filial &lt;chr&gt; | CodigoCliente &lt;dbl&gt; | NomeCliente &lt;chr&gt; |\n|---|---|---|\n| SP CAP | 2127 | PROSEGUR RS            |\n| MATRIZ | 2175 | SIMPALA VEICULOS SA    |\n| RS     | 2321 | FDRH                   |\n| MATRIZ | 2469 | MUDANCAS GIULIAN       |\n| MATRIZ | 2662 | CARHOUSE VEICULOS LTDA |\n| MATRIZ | 3096 | EDITORA FTD            |\n\n",
            "text/latex": "A tibble: 6 × 3\n\\begin{tabular}{lll}\n filial & CodigoCliente & NomeCliente\\\\\n <chr> & <dbl> & <chr>\\\\\n\\hline\n\t SP CAP & 2127 & PROSEGUR RS           \\\\\n\t MATRIZ & 2175 & SIMPALA VEICULOS SA   \\\\\n\t RS     & 2321 & FDRH                  \\\\\n\t MATRIZ & 2469 & MUDANCAS GIULIAN      \\\\\n\t MATRIZ & 2662 & CARHOUSE VEICULOS LTDA\\\\\n\t MATRIZ & 3096 & EDITORA FTD           \\\\\n\\end{tabular}\n",
            "text/plain": [
              "  filial CodigoCliente NomeCliente           \n",
              "1 SP CAP 2127          PROSEGUR RS           \n",
              "2 MATRIZ 2175          SIMPALA VEICULOS SA   \n",
              "3 RS     2321          FDRH                  \n",
              "4 MATRIZ 2469          MUDANCAS GIULIAN      \n",
              "5 MATRIZ 2662          CARHOUSE VEICULOS LTDA\n",
              "6 MATRIZ 3096          EDITORA FTD           "
            ]
          },
          "metadata": {}
        }
      ]
    },
    {
      "cell_type": "markdown",
      "source": [
        "# Tratamento dos dados"
      ],
      "metadata": {
        "id": "1GN5gfCwMhYr"
      }
    },
    {
      "cell_type": "code",
      "source": [
        "# Relacionar as tabelas \"Faturamento\" e \"Filial\" pelo código do cliente\n",
        "dados_completos <- inner_join(faturamento, filial, by = \"CodigoCliente\")"
      ],
      "metadata": {
        "id": "zb_jgqzbzzO3"
      },
      "execution_count": 4,
      "outputs": []
    },
    {
      "cell_type": "code",
      "source": [
        "head(dados_completos)"
      ],
      "metadata": {
        "colab": {
          "base_uri": "https://localhost:8080/",
          "height": 286
        },
        "id": "vZGTV-q1-Ji6",
        "outputId": "cbafb7f4-9605-4cbc-fbc1-6c841631dbcf"
      },
      "execution_count": 5,
      "outputs": [
        {
          "output_type": "display_data",
          "data": {
            "text/html": [
              "<table class=\"dataframe\">\n",
              "<caption>A tibble: 6 × 8</caption>\n",
              "<thead>\n",
              "\t<tr><th scope=col>CodigoCliente</th><th scope=col>cliente</th><th scope=col>canais</th><th scope=col>executivo</th><th scope=col>Faturamento</th><th scope=col>Volume</th><th scope=col>filial</th><th scope=col>NomeCliente</th></tr>\n",
              "\t<tr><th scope=col>&lt;dbl&gt;</th><th scope=col>&lt;chr&gt;</th><th scope=col>&lt;chr&gt;</th><th scope=col>&lt;chr&gt;</th><th scope=col>&lt;dbl&gt;</th><th scope=col>&lt;dbl&gt;</th><th scope=col>&lt;chr&gt;</th><th scope=col>&lt;chr&gt;</th></tr>\n",
              "</thead>\n",
              "<tbody>\n",
              "\t<tr><td>2127</td><td>PROSEGUR RS           </td><td>GESTAO    </td><td>FLAVIA REGINA LEITE MARINHO             </td><td>10676.36</td><td>59</td><td>SP CAP</td><td>PROSEGUR RS           </td></tr>\n",
              "\t<tr><td>2175</td><td>SIMPALA VEICULOS SA   </td><td>VAREJO    </td><td>ALINE GOTTSCHALK DE OLIVEIRA FIDELIZACAO</td><td> 2180.67</td><td>28</td><td>MATRIZ</td><td>SIMPALA VEICULOS SA   </td></tr>\n",
              "\t<tr><td>2321</td><td>FDRH                  </td><td>M. PUBLICO</td><td>NEIRI MARIO SCHENCKEL                   </td><td>  250.00</td><td>33</td><td>RS    </td><td>FDRH                  </td></tr>\n",
              "\t<tr><td>2469</td><td>MUDANCAS GIULIAN      </td><td>EXPERS    </td><td>NAIANA CECILIA STROTTMANN FIDELIZACAO   </td><td>14042.47</td><td>52</td><td>MATRIZ</td><td>MUDANCAS GIULIAN      </td></tr>\n",
              "\t<tr><td>2662</td><td>CARHOUSE VEICULOS LTDA</td><td>GESTAO    </td><td>VANIA PAULO DA SILVA RUCKERT FIDELIZACAO</td><td>  719.32</td><td>42</td><td>MATRIZ</td><td>CARHOUSE VEICULOS LTDA</td></tr>\n",
              "\t<tr><td>3096</td><td>EDITORA FTD           </td><td>GESTAO    </td><td>SUELEN TAIS ARAUJO DA ROSA FIDELIZACAO  </td><td> 3276.94</td><td>35</td><td>MATRIZ</td><td>EDITORA FTD           </td></tr>\n",
              "</tbody>\n",
              "</table>\n"
            ],
            "text/markdown": "\nA tibble: 6 × 8\n\n| CodigoCliente &lt;dbl&gt; | cliente &lt;chr&gt; | canais &lt;chr&gt; | executivo &lt;chr&gt; | Faturamento &lt;dbl&gt; | Volume &lt;dbl&gt; | filial &lt;chr&gt; | NomeCliente &lt;chr&gt; |\n|---|---|---|---|---|---|---|---|\n| 2127 | PROSEGUR RS            | GESTAO     | FLAVIA REGINA LEITE MARINHO              | 10676.36 | 59 | SP CAP | PROSEGUR RS            |\n| 2175 | SIMPALA VEICULOS SA    | VAREJO     | ALINE GOTTSCHALK DE OLIVEIRA FIDELIZACAO |  2180.67 | 28 | MATRIZ | SIMPALA VEICULOS SA    |\n| 2321 | FDRH                   | M. PUBLICO | NEIRI MARIO SCHENCKEL                    |   250.00 | 33 | RS     | FDRH                   |\n| 2469 | MUDANCAS GIULIAN       | EXPERS     | NAIANA CECILIA STROTTMANN FIDELIZACAO    | 14042.47 | 52 | MATRIZ | MUDANCAS GIULIAN       |\n| 2662 | CARHOUSE VEICULOS LTDA | GESTAO     | VANIA PAULO DA SILVA RUCKERT FIDELIZACAO |   719.32 | 42 | MATRIZ | CARHOUSE VEICULOS LTDA |\n| 3096 | EDITORA FTD            | GESTAO     | SUELEN TAIS ARAUJO DA ROSA FIDELIZACAO   |  3276.94 | 35 | MATRIZ | EDITORA FTD            |\n\n",
            "text/latex": "A tibble: 6 × 8\n\\begin{tabular}{llllllll}\n CodigoCliente & cliente & canais & executivo & Faturamento & Volume & filial & NomeCliente\\\\\n <dbl> & <chr> & <chr> & <chr> & <dbl> & <dbl> & <chr> & <chr>\\\\\n\\hline\n\t 2127 & PROSEGUR RS            & GESTAO     & FLAVIA REGINA LEITE MARINHO              & 10676.36 & 59 & SP CAP & PROSEGUR RS           \\\\\n\t 2175 & SIMPALA VEICULOS SA    & VAREJO     & ALINE GOTTSCHALK DE OLIVEIRA FIDELIZACAO &  2180.67 & 28 & MATRIZ & SIMPALA VEICULOS SA   \\\\\n\t 2321 & FDRH                   & M. PUBLICO & NEIRI MARIO SCHENCKEL                    &   250.00 & 33 & RS     & FDRH                  \\\\\n\t 2469 & MUDANCAS GIULIAN       & EXPERS     & NAIANA CECILIA STROTTMANN FIDELIZACAO    & 14042.47 & 52 & MATRIZ & MUDANCAS GIULIAN      \\\\\n\t 2662 & CARHOUSE VEICULOS LTDA & GESTAO     & VANIA PAULO DA SILVA RUCKERT FIDELIZACAO &   719.32 & 42 & MATRIZ & CARHOUSE VEICULOS LTDA\\\\\n\t 3096 & EDITORA FTD            & GESTAO     & SUELEN TAIS ARAUJO DA ROSA FIDELIZACAO   &  3276.94 & 35 & MATRIZ & EDITORA FTD           \\\\\n\\end{tabular}\n",
            "text/plain": [
              "  CodigoCliente cliente                canais    \n",
              "1 2127          PROSEGUR RS            GESTAO    \n",
              "2 2175          SIMPALA VEICULOS SA    VAREJO    \n",
              "3 2321          FDRH                   M. PUBLICO\n",
              "4 2469          MUDANCAS GIULIAN       EXPERS    \n",
              "5 2662          CARHOUSE VEICULOS LTDA GESTAO    \n",
              "6 3096          EDITORA FTD            GESTAO    \n",
              "  executivo                                Faturamento Volume filial\n",
              "1 FLAVIA REGINA LEITE MARINHO              10676.36    59     SP CAP\n",
              "2 ALINE GOTTSCHALK DE OLIVEIRA FIDELIZACAO  2180.67    28     MATRIZ\n",
              "3 NEIRI MARIO SCHENCKEL                      250.00    33     RS    \n",
              "4 NAIANA CECILIA STROTTMANN FIDELIZACAO    14042.47    52     MATRIZ\n",
              "5 VANIA PAULO DA SILVA RUCKERT FIDELIZACAO   719.32    42     MATRIZ\n",
              "6 SUELEN TAIS ARAUJO DA ROSA FIDELIZACAO    3276.94    35     MATRIZ\n",
              "  NomeCliente           \n",
              "1 PROSEGUR RS           \n",
              "2 SIMPALA VEICULOS SA   \n",
              "3 FDRH                  \n",
              "4 MUDANCAS GIULIAN      \n",
              "5 CARHOUSE VEICULOS LTDA\n",
              "6 EDITORA FTD           "
            ]
          },
          "metadata": {}
        }
      ]
    },
    {
      "cell_type": "code",
      "source": [
        "attach(dados_completos)"
      ],
      "metadata": {
        "id": "rWkGSq3vCMDm"
      },
      "execution_count": null,
      "outputs": []
    },
    {
      "cell_type": "code",
      "source": [
        "# Verificando a presença de Valores faltantes\n",
        "dados_completos <- dados_completos %>%\n",
        "  mutate(Faturamento = as.numeric(Faturamento))"
      ],
      "metadata": {
        "id": "B7v9btGqB47X"
      },
      "execution_count": 7,
      "outputs": []
    },
    {
      "cell_type": "code",
      "source": [
        "is.na(Faturamento)"
      ],
      "metadata": {
        "colab": {
          "base_uri": "https://localhost:8080/",
          "height": 260
        },
        "id": "W-GMc6xpCFZ7",
        "outputId": "fc4cb68a-9e0a-4c72-a47a-c79e784e3ac3"
      },
      "execution_count": 8,
      "outputs": [
        {
          "output_type": "display_data",
          "data": {
            "text/html": [
              "<style>\n",
              ".list-inline {list-style: none; margin:0; padding: 0}\n",
              ".list-inline>li {display: inline-block}\n",
              ".list-inline>li:not(:last-child)::after {content: \"\\00b7\"; padding: 0 .5ex}\n",
              "</style>\n",
              "<ol class=list-inline><li>FALSE</li><li>FALSE</li><li>FALSE</li><li>FALSE</li><li>FALSE</li><li>FALSE</li><li>FALSE</li><li>FALSE</li><li>FALSE</li><li>FALSE</li><li>TRUE</li><li>FALSE</li><li>FALSE</li><li>FALSE</li><li>TRUE</li><li>FALSE</li><li>FALSE</li><li>TRUE</li><li>FALSE</li><li>FALSE</li><li>TRUE</li><li>FALSE</li><li>FALSE</li><li>FALSE</li><li>TRUE</li><li>FALSE</li><li>TRUE</li><li>FALSE</li><li>FALSE</li><li>FALSE</li><li>FALSE</li><li>FALSE</li><li>FALSE</li><li>FALSE</li><li>FALSE</li><li>FALSE</li><li>FALSE</li><li>FALSE</li><li>TRUE</li><li>TRUE</li><li>FALSE</li><li>FALSE</li><li>FALSE</li><li>FALSE</li><li>TRUE</li><li>FALSE</li><li>FALSE</li><li>FALSE</li><li>TRUE</li><li>TRUE</li><li>TRUE</li><li>TRUE</li><li>FALSE</li><li>TRUE</li><li>FALSE</li><li>FALSE</li><li>FALSE</li><li>FALSE</li><li>FALSE</li><li>FALSE</li><li>FALSE</li><li>TRUE</li><li>FALSE</li><li>FALSE</li><li>FALSE</li><li>FALSE</li><li>FALSE</li><li>FALSE</li><li>TRUE</li><li>FALSE</li><li>FALSE</li><li>FALSE</li><li>FALSE</li><li>FALSE</li><li>FALSE</li><li>FALSE</li><li>FALSE</li><li>FALSE</li><li>FALSE</li><li>TRUE</li><li>TRUE</li><li>TRUE</li><li>FALSE</li><li>FALSE</li><li>FALSE</li><li>FALSE</li><li>TRUE</li><li>TRUE</li><li>FALSE</li><li>FALSE</li><li>TRUE</li><li>TRUE</li><li>TRUE</li><li>FALSE</li><li>TRUE</li><li>FALSE</li><li>FALSE</li><li>FALSE</li><li>FALSE</li><li>FALSE</li><li>FALSE</li><li>FALSE</li><li>FALSE</li><li>FALSE</li><li>TRUE</li><li>FALSE</li><li>FALSE</li><li>FALSE</li><li>FALSE</li><li>FALSE</li><li>FALSE</li><li>TRUE</li><li>FALSE</li><li>FALSE</li><li>TRUE</li><li>FALSE</li><li>FALSE</li><li>FALSE</li><li>FALSE</li><li>TRUE</li><li>FALSE</li><li>FALSE</li><li>FALSE</li><li>FALSE</li><li>FALSE</li><li>FALSE</li><li>FALSE</li><li>TRUE</li><li>TRUE</li><li>TRUE</li><li>TRUE</li><li>FALSE</li><li>FALSE</li><li>FALSE</li><li>FALSE</li><li>FALSE</li><li>FALSE</li><li>TRUE</li><li>FALSE</li><li>FALSE</li><li>FALSE</li><li>FALSE</li><li>FALSE</li><li>TRUE</li><li>FALSE</li><li>FALSE</li><li>FALSE</li><li>FALSE</li><li>TRUE</li><li>FALSE</li><li>FALSE</li><li>FALSE</li><li>FALSE</li><li>TRUE</li><li>TRUE</li><li>TRUE</li><li>TRUE</li><li>TRUE</li><li>TRUE</li><li>FALSE</li><li>FALSE</li><li>TRUE</li><li>FALSE</li><li>TRUE</li><li>FALSE</li><li>FALSE</li><li>FALSE</li><li>FALSE</li><li>FALSE</li><li>FALSE</li><li>FALSE</li><li>FALSE</li><li>FALSE</li><li>FALSE</li><li>FALSE</li><li>FALSE</li><li>TRUE</li><li>FALSE</li><li>FALSE</li><li>FALSE</li><li>FALSE</li><li>FALSE</li><li>FALSE</li><li>TRUE</li><li>TRUE</li><li>FALSE</li><li>FALSE</li><li>FALSE</li><li>FALSE</li><li>FALSE</li><li>FALSE</li><li>FALSE</li><li>FALSE</li><li>FALSE</li><li>FALSE</li><li>TRUE</li><li>TRUE</li><li>FALSE</li><li>FALSE</li><li>FALSE</li><li>FALSE</li><li>FALSE</li><li>FALSE</li><li>FALSE</li><li>FALSE</li><li>FALSE</li><li>FALSE</li><li>FALSE</li><li>FALSE</li><li>FALSE</li><li>FALSE</li><li>FALSE</li><li>TRUE</li><li>TRUE</li><li>TRUE</li><li>FALSE</li><li>FALSE</li><li>TRUE</li><li>TRUE</li><li>FALSE</li><li>FALSE</li><li>FALSE</li><li>FALSE</li><li>TRUE</li><li>FALSE</li><li>TRUE</li><li>TRUE</li><li>TRUE</li><li>FALSE</li><li>TRUE</li><li>FALSE</li><li>FALSE</li><li>TRUE</li><li>TRUE</li><li>TRUE</li><li>FALSE</li><li>TRUE</li><li>TRUE</li><li>FALSE</li><li>FALSE</li><li>FALSE</li><li>FALSE</li><li>TRUE</li><li>TRUE</li><li>TRUE</li><li>TRUE</li><li>TRUE</li><li>TRUE</li><li>TRUE</li><li>TRUE</li><li>TRUE</li><li>FALSE</li><li>FALSE</li><li>FALSE</li><li>FALSE</li><li>FALSE</li><li>FALSE</li><li>FALSE</li><li>TRUE</li><li>FALSE</li><li>FALSE</li><li>FALSE</li><li>FALSE</li><li>FALSE</li><li>FALSE</li><li>FALSE</li><li>FALSE</li><li>FALSE</li><li>FALSE</li><li>FALSE</li><li>FALSE</li><li>FALSE</li><li>FALSE</li><li>FALSE</li><li>TRUE</li><li>TRUE</li><li>FALSE</li><li>TRUE</li><li>TRUE</li><li>TRUE</li><li>FALSE</li><li>FALSE</li><li>FALSE</li><li>TRUE</li><li>FALSE</li><li>FALSE</li><li>FALSE</li><li>TRUE</li><li>TRUE</li><li>TRUE</li><li>FALSE</li><li>TRUE</li><li>FALSE</li><li>FALSE</li><li>FALSE</li><li>FALSE</li><li>TRUE</li><li>TRUE</li><li>FALSE</li></ol>\n"
            ],
            "text/markdown": "1. FALSE\n2. FALSE\n3. FALSE\n4. FALSE\n5. FALSE\n6. FALSE\n7. FALSE\n8. FALSE\n9. FALSE\n10. FALSE\n11. TRUE\n12. FALSE\n13. FALSE\n14. FALSE\n15. TRUE\n16. FALSE\n17. FALSE\n18. TRUE\n19. FALSE\n20. FALSE\n21. TRUE\n22. FALSE\n23. FALSE\n24. FALSE\n25. TRUE\n26. FALSE\n27. TRUE\n28. FALSE\n29. FALSE\n30. FALSE\n31. FALSE\n32. FALSE\n33. FALSE\n34. FALSE\n35. FALSE\n36. FALSE\n37. FALSE\n38. FALSE\n39. TRUE\n40. TRUE\n41. FALSE\n42. FALSE\n43. FALSE\n44. FALSE\n45. TRUE\n46. FALSE\n47. FALSE\n48. FALSE\n49. TRUE\n50. TRUE\n51. TRUE\n52. TRUE\n53. FALSE\n54. TRUE\n55. FALSE\n56. FALSE\n57. FALSE\n58. FALSE\n59. FALSE\n60. FALSE\n61. FALSE\n62. TRUE\n63. FALSE\n64. FALSE\n65. FALSE\n66. FALSE\n67. FALSE\n68. FALSE\n69. TRUE\n70. FALSE\n71. FALSE\n72. FALSE\n73. FALSE\n74. FALSE\n75. FALSE\n76. FALSE\n77. FALSE\n78. FALSE\n79. FALSE\n80. TRUE\n81. TRUE\n82. TRUE\n83. FALSE\n84. FALSE\n85. FALSE\n86. FALSE\n87. TRUE\n88. TRUE\n89. FALSE\n90. FALSE\n91. TRUE\n92. TRUE\n93. TRUE\n94. FALSE\n95. TRUE\n96. FALSE\n97. FALSE\n98. FALSE\n99. FALSE\n100. FALSE\n101. FALSE\n102. FALSE\n103. FALSE\n104. FALSE\n105. TRUE\n106. FALSE\n107. FALSE\n108. FALSE\n109. FALSE\n110. FALSE\n111. FALSE\n112. TRUE\n113. FALSE\n114. FALSE\n115. TRUE\n116. FALSE\n117. FALSE\n118. FALSE\n119. FALSE\n120. TRUE\n121. FALSE\n122. FALSE\n123. FALSE\n124. FALSE\n125. FALSE\n126. FALSE\n127. FALSE\n128. TRUE\n129. TRUE\n130. TRUE\n131. TRUE\n132. FALSE\n133. FALSE\n134. FALSE\n135. FALSE\n136. FALSE\n137. FALSE\n138. TRUE\n139. FALSE\n140. FALSE\n141. FALSE\n142. FALSE\n143. FALSE\n144. TRUE\n145. FALSE\n146. FALSE\n147. FALSE\n148. FALSE\n149. TRUE\n150. FALSE\n151. FALSE\n152. FALSE\n153. FALSE\n154. TRUE\n155. TRUE\n156. TRUE\n157. TRUE\n158. TRUE\n159. TRUE\n160. FALSE\n161. FALSE\n162. TRUE\n163. FALSE\n164. TRUE\n165. FALSE\n166. FALSE\n167. FALSE\n168. FALSE\n169. FALSE\n170. FALSE\n171. FALSE\n172. FALSE\n173. FALSE\n174. FALSE\n175. FALSE\n176. FALSE\n177. TRUE\n178. FALSE\n179. FALSE\n180. FALSE\n181. FALSE\n182. FALSE\n183. FALSE\n184. TRUE\n185. TRUE\n186. FALSE\n187. FALSE\n188. FALSE\n189. FALSE\n190. FALSE\n191. FALSE\n192. FALSE\n193. FALSE\n194. FALSE\n195. FALSE\n196. TRUE\n197. TRUE\n198. FALSE\n199. FALSE\n200. FALSE\n201. FALSE\n202. FALSE\n203. FALSE\n204. FALSE\n205. FALSE\n206. FALSE\n207. FALSE\n208. FALSE\n209. FALSE\n210. FALSE\n211. FALSE\n212. FALSE\n213. TRUE\n214. TRUE\n215. TRUE\n216. FALSE\n217. FALSE\n218. TRUE\n219. TRUE\n220. FALSE\n221. FALSE\n222. FALSE\n223. FALSE\n224. TRUE\n225. FALSE\n226. TRUE\n227. TRUE\n228. TRUE\n229. FALSE\n230. TRUE\n231. FALSE\n232. FALSE\n233. TRUE\n234. TRUE\n235. TRUE\n236. FALSE\n237. TRUE\n238. TRUE\n239. FALSE\n240. FALSE\n241. FALSE\n242. FALSE\n243. TRUE\n244. TRUE\n245. TRUE\n246. TRUE\n247. TRUE\n248. TRUE\n249. TRUE\n250. TRUE\n251. TRUE\n252. FALSE\n253. FALSE\n254. FALSE\n255. FALSE\n256. FALSE\n257. FALSE\n258. FALSE\n259. TRUE\n260. FALSE\n261. FALSE\n262. FALSE\n263. FALSE\n264. FALSE\n265. FALSE\n266. FALSE\n267. FALSE\n268. FALSE\n269. FALSE\n270. FALSE\n271. FALSE\n272. FALSE\n273. FALSE\n274. FALSE\n275. TRUE\n276. TRUE\n277. FALSE\n278. TRUE\n279. TRUE\n280. TRUE\n281. FALSE\n282. FALSE\n283. FALSE\n284. TRUE\n285. FALSE\n286. FALSE\n287. FALSE\n288. TRUE\n289. TRUE\n290. TRUE\n291. FALSE\n292. TRUE\n293. FALSE\n294. FALSE\n295. FALSE\n296. FALSE\n297. TRUE\n298. TRUE\n299. FALSE\n\n\n",
            "text/latex": "\\begin{enumerate*}\n\\item FALSE\n\\item FALSE\n\\item FALSE\n\\item FALSE\n\\item FALSE\n\\item FALSE\n\\item FALSE\n\\item FALSE\n\\item FALSE\n\\item FALSE\n\\item TRUE\n\\item FALSE\n\\item FALSE\n\\item FALSE\n\\item TRUE\n\\item FALSE\n\\item FALSE\n\\item TRUE\n\\item FALSE\n\\item FALSE\n\\item TRUE\n\\item FALSE\n\\item FALSE\n\\item FALSE\n\\item TRUE\n\\item FALSE\n\\item TRUE\n\\item FALSE\n\\item FALSE\n\\item FALSE\n\\item FALSE\n\\item FALSE\n\\item FALSE\n\\item FALSE\n\\item FALSE\n\\item FALSE\n\\item FALSE\n\\item FALSE\n\\item TRUE\n\\item TRUE\n\\item FALSE\n\\item FALSE\n\\item FALSE\n\\item FALSE\n\\item TRUE\n\\item FALSE\n\\item FALSE\n\\item FALSE\n\\item TRUE\n\\item TRUE\n\\item TRUE\n\\item TRUE\n\\item FALSE\n\\item TRUE\n\\item FALSE\n\\item FALSE\n\\item FALSE\n\\item FALSE\n\\item FALSE\n\\item FALSE\n\\item FALSE\n\\item TRUE\n\\item FALSE\n\\item FALSE\n\\item FALSE\n\\item FALSE\n\\item FALSE\n\\item FALSE\n\\item TRUE\n\\item FALSE\n\\item FALSE\n\\item FALSE\n\\item FALSE\n\\item FALSE\n\\item FALSE\n\\item FALSE\n\\item FALSE\n\\item FALSE\n\\item FALSE\n\\item TRUE\n\\item TRUE\n\\item TRUE\n\\item FALSE\n\\item FALSE\n\\item FALSE\n\\item FALSE\n\\item TRUE\n\\item TRUE\n\\item FALSE\n\\item FALSE\n\\item TRUE\n\\item TRUE\n\\item TRUE\n\\item FALSE\n\\item TRUE\n\\item FALSE\n\\item FALSE\n\\item FALSE\n\\item FALSE\n\\item FALSE\n\\item FALSE\n\\item FALSE\n\\item FALSE\n\\item FALSE\n\\item TRUE\n\\item FALSE\n\\item FALSE\n\\item FALSE\n\\item FALSE\n\\item FALSE\n\\item FALSE\n\\item TRUE\n\\item FALSE\n\\item FALSE\n\\item TRUE\n\\item FALSE\n\\item FALSE\n\\item FALSE\n\\item FALSE\n\\item TRUE\n\\item FALSE\n\\item FALSE\n\\item FALSE\n\\item FALSE\n\\item FALSE\n\\item FALSE\n\\item FALSE\n\\item TRUE\n\\item TRUE\n\\item TRUE\n\\item TRUE\n\\item FALSE\n\\item FALSE\n\\item FALSE\n\\item FALSE\n\\item FALSE\n\\item FALSE\n\\item TRUE\n\\item FALSE\n\\item FALSE\n\\item FALSE\n\\item FALSE\n\\item FALSE\n\\item TRUE\n\\item FALSE\n\\item FALSE\n\\item FALSE\n\\item FALSE\n\\item TRUE\n\\item FALSE\n\\item FALSE\n\\item FALSE\n\\item FALSE\n\\item TRUE\n\\item TRUE\n\\item TRUE\n\\item TRUE\n\\item TRUE\n\\item TRUE\n\\item FALSE\n\\item FALSE\n\\item TRUE\n\\item FALSE\n\\item TRUE\n\\item FALSE\n\\item FALSE\n\\item FALSE\n\\item FALSE\n\\item FALSE\n\\item FALSE\n\\item FALSE\n\\item FALSE\n\\item FALSE\n\\item FALSE\n\\item FALSE\n\\item FALSE\n\\item TRUE\n\\item FALSE\n\\item FALSE\n\\item FALSE\n\\item FALSE\n\\item FALSE\n\\item FALSE\n\\item TRUE\n\\item TRUE\n\\item FALSE\n\\item FALSE\n\\item FALSE\n\\item FALSE\n\\item FALSE\n\\item FALSE\n\\item FALSE\n\\item FALSE\n\\item FALSE\n\\item FALSE\n\\item TRUE\n\\item TRUE\n\\item FALSE\n\\item FALSE\n\\item FALSE\n\\item FALSE\n\\item FALSE\n\\item FALSE\n\\item FALSE\n\\item FALSE\n\\item FALSE\n\\item FALSE\n\\item FALSE\n\\item FALSE\n\\item FALSE\n\\item FALSE\n\\item FALSE\n\\item TRUE\n\\item TRUE\n\\item TRUE\n\\item FALSE\n\\item FALSE\n\\item TRUE\n\\item TRUE\n\\item FALSE\n\\item FALSE\n\\item FALSE\n\\item FALSE\n\\item TRUE\n\\item FALSE\n\\item TRUE\n\\item TRUE\n\\item TRUE\n\\item FALSE\n\\item TRUE\n\\item FALSE\n\\item FALSE\n\\item TRUE\n\\item TRUE\n\\item TRUE\n\\item FALSE\n\\item TRUE\n\\item TRUE\n\\item FALSE\n\\item FALSE\n\\item FALSE\n\\item FALSE\n\\item TRUE\n\\item TRUE\n\\item TRUE\n\\item TRUE\n\\item TRUE\n\\item TRUE\n\\item TRUE\n\\item TRUE\n\\item TRUE\n\\item FALSE\n\\item FALSE\n\\item FALSE\n\\item FALSE\n\\item FALSE\n\\item FALSE\n\\item FALSE\n\\item TRUE\n\\item FALSE\n\\item FALSE\n\\item FALSE\n\\item FALSE\n\\item FALSE\n\\item FALSE\n\\item FALSE\n\\item FALSE\n\\item FALSE\n\\item FALSE\n\\item FALSE\n\\item FALSE\n\\item FALSE\n\\item FALSE\n\\item FALSE\n\\item TRUE\n\\item TRUE\n\\item FALSE\n\\item TRUE\n\\item TRUE\n\\item TRUE\n\\item FALSE\n\\item FALSE\n\\item FALSE\n\\item TRUE\n\\item FALSE\n\\item FALSE\n\\item FALSE\n\\item TRUE\n\\item TRUE\n\\item TRUE\n\\item FALSE\n\\item TRUE\n\\item FALSE\n\\item FALSE\n\\item FALSE\n\\item FALSE\n\\item TRUE\n\\item TRUE\n\\item FALSE\n\\end{enumerate*}\n",
            "text/plain": [
              "  [1] FALSE FALSE FALSE FALSE FALSE FALSE FALSE FALSE FALSE FALSE  TRUE FALSE\n",
              " [13] FALSE FALSE  TRUE FALSE FALSE  TRUE FALSE FALSE  TRUE FALSE FALSE FALSE\n",
              " [25]  TRUE FALSE  TRUE FALSE FALSE FALSE FALSE FALSE FALSE FALSE FALSE FALSE\n",
              " [37] FALSE FALSE  TRUE  TRUE FALSE FALSE FALSE FALSE  TRUE FALSE FALSE FALSE\n",
              " [49]  TRUE  TRUE  TRUE  TRUE FALSE  TRUE FALSE FALSE FALSE FALSE FALSE FALSE\n",
              " [61] FALSE  TRUE FALSE FALSE FALSE FALSE FALSE FALSE  TRUE FALSE FALSE FALSE\n",
              " [73] FALSE FALSE FALSE FALSE FALSE FALSE FALSE  TRUE  TRUE  TRUE FALSE FALSE\n",
              " [85] FALSE FALSE  TRUE  TRUE FALSE FALSE  TRUE  TRUE  TRUE FALSE  TRUE FALSE\n",
              " [97] FALSE FALSE FALSE FALSE FALSE FALSE FALSE FALSE  TRUE FALSE FALSE FALSE\n",
              "[109] FALSE FALSE FALSE  TRUE FALSE FALSE  TRUE FALSE FALSE FALSE FALSE  TRUE\n",
              "[121] FALSE FALSE FALSE FALSE FALSE FALSE FALSE  TRUE  TRUE  TRUE  TRUE FALSE\n",
              "[133] FALSE FALSE FALSE FALSE FALSE  TRUE FALSE FALSE FALSE FALSE FALSE  TRUE\n",
              "[145] FALSE FALSE FALSE FALSE  TRUE FALSE FALSE FALSE FALSE  TRUE  TRUE  TRUE\n",
              "[157]  TRUE  TRUE  TRUE FALSE FALSE  TRUE FALSE  TRUE FALSE FALSE FALSE FALSE\n",
              "[169] FALSE FALSE FALSE FALSE FALSE FALSE FALSE FALSE  TRUE FALSE FALSE FALSE\n",
              "[181] FALSE FALSE FALSE  TRUE  TRUE FALSE FALSE FALSE FALSE FALSE FALSE FALSE\n",
              "[193] FALSE FALSE FALSE  TRUE  TRUE FALSE FALSE FALSE FALSE FALSE FALSE FALSE\n",
              "[205] FALSE FALSE FALSE FALSE FALSE FALSE FALSE FALSE  TRUE  TRUE  TRUE FALSE\n",
              "[217] FALSE  TRUE  TRUE FALSE FALSE FALSE FALSE  TRUE FALSE  TRUE  TRUE  TRUE\n",
              "[229] FALSE  TRUE FALSE FALSE  TRUE  TRUE  TRUE FALSE  TRUE  TRUE FALSE FALSE\n",
              "[241] FALSE FALSE  TRUE  TRUE  TRUE  TRUE  TRUE  TRUE  TRUE  TRUE  TRUE FALSE\n",
              "[253] FALSE FALSE FALSE FALSE FALSE FALSE  TRUE FALSE FALSE FALSE FALSE FALSE\n",
              "[265] FALSE FALSE FALSE FALSE FALSE FALSE FALSE FALSE FALSE FALSE  TRUE  TRUE\n",
              "[277] FALSE  TRUE  TRUE  TRUE FALSE FALSE FALSE  TRUE FALSE FALSE FALSE  TRUE\n",
              "[289]  TRUE  TRUE FALSE  TRUE FALSE FALSE FALSE FALSE  TRUE  TRUE FALSE"
            ]
          },
          "metadata": {}
        }
      ]
    },
    {
      "cell_type": "code",
      "source": [
        "# Nessa etapa eu removi os NA, mas existem outras tratativas que podem ser aplicadas, dependendo da regra e o contexto do negócio.\n",
        "\n",
        "dados_completos <- dados_completos[complete.cases(dados_completos$Faturamento), ]"
      ],
      "metadata": {
        "id": "SQgxk5qMCaTJ"
      },
      "execution_count": 9,
      "outputs": []
    },
    {
      "cell_type": "code",
      "source": [
        "#deixando com duas casa decimais\n",
        "dados_completos$Faturamento <- round(dados_completos$Faturamento, 2)\n"
      ],
      "metadata": {
        "id": "6RThwrN-E5f7"
      },
      "execution_count": 123,
      "outputs": []
    },
    {
      "cell_type": "code",
      "source": [
        "head(dados_completos)"
      ],
      "metadata": {
        "colab": {
          "base_uri": "https://localhost:8080/",
          "height": 338
        },
        "id": "ZOwFsQU4D8g4",
        "outputId": "22a6263a-dd2b-4500-aec5-a25a6f8d25d7"
      },
      "execution_count": 124,
      "outputs": [
        {
          "output_type": "display_data",
          "data": {
            "text/html": [
              "<table class=\"dataframe\">\n",
              "<caption>A tibble: 6 × 9</caption>\n",
              "<thead>\n",
              "\t<tr><th scope=col>CodigoCliente</th><th scope=col>cliente</th><th scope=col>canais</th><th scope=col>executivo</th><th scope=col>Faturamento</th><th scope=col>Volume</th><th scope=col>filial</th><th scope=col>NomeCliente</th><th scope=col>Índice%</th></tr>\n",
              "\t<tr><th scope=col>&lt;dbl&gt;</th><th scope=col>&lt;chr&gt;</th><th scope=col>&lt;chr&gt;</th><th scope=col>&lt;chr&gt;</th><th scope=col>&lt;dbl&gt;</th><th scope=col>&lt;dbl&gt;</th><th scope=col>&lt;chr&gt;</th><th scope=col>&lt;chr&gt;</th><th scope=col>&lt;chr&gt;</th></tr>\n",
              "</thead>\n",
              "<tbody>\n",
              "\t<tr><td>2127</td><td>PROSEGUR RS           </td><td>GESTAO    </td><td>FLAVIA REGINA LEITE MARINHO             </td><td>10676.36</td><td>59</td><td>SP CAP</td><td>PROSEGUR RS           </td><td>180.96%</td></tr>\n",
              "\t<tr><td>2175</td><td>SIMPALA VEICULOS SA   </td><td>VAREJO    </td><td>ALINE GOTTSCHALK DE OLIVEIRA FIDELIZACAO</td><td> 2180.67</td><td>28</td><td>MATRIZ</td><td>SIMPALA VEICULOS SA   </td><td>77.88% </td></tr>\n",
              "\t<tr><td>2321</td><td>FDRH                  </td><td>M. PUBLICO</td><td>NEIRI MARIO SCHENCKEL                   </td><td>  250.00</td><td>33</td><td>RS    </td><td>FDRH                  </td><td>7.58%  </td></tr>\n",
              "\t<tr><td>2469</td><td>MUDANCAS GIULIAN      </td><td>EXPERS    </td><td>NAIANA CECILIA STROTTMANN FIDELIZACAO   </td><td>14042.47</td><td>52</td><td>MATRIZ</td><td>MUDANCAS GIULIAN      </td><td>270.05%</td></tr>\n",
              "\t<tr><td>2662</td><td>CARHOUSE VEICULOS LTDA</td><td>GESTAO    </td><td>VANIA PAULO DA SILVA RUCKERT FIDELIZACAO</td><td>  719.32</td><td>42</td><td>MATRIZ</td><td>CARHOUSE VEICULOS LTDA</td><td>17.13% </td></tr>\n",
              "\t<tr><td>3096</td><td>EDITORA FTD           </td><td>GESTAO    </td><td>SUELEN TAIS ARAUJO DA ROSA FIDELIZACAO  </td><td> 3276.94</td><td>35</td><td>MATRIZ</td><td>EDITORA FTD           </td><td>93.63% </td></tr>\n",
              "</tbody>\n",
              "</table>\n"
            ],
            "text/markdown": "\nA tibble: 6 × 9\n\n| CodigoCliente &lt;dbl&gt; | cliente &lt;chr&gt; | canais &lt;chr&gt; | executivo &lt;chr&gt; | Faturamento &lt;dbl&gt; | Volume &lt;dbl&gt; | filial &lt;chr&gt; | NomeCliente &lt;chr&gt; | Índice% &lt;chr&gt; |\n|---|---|---|---|---|---|---|---|---|\n| 2127 | PROSEGUR RS            | GESTAO     | FLAVIA REGINA LEITE MARINHO              | 10676.36 | 59 | SP CAP | PROSEGUR RS            | 180.96% |\n| 2175 | SIMPALA VEICULOS SA    | VAREJO     | ALINE GOTTSCHALK DE OLIVEIRA FIDELIZACAO |  2180.67 | 28 | MATRIZ | SIMPALA VEICULOS SA    | 77.88%  |\n| 2321 | FDRH                   | M. PUBLICO | NEIRI MARIO SCHENCKEL                    |   250.00 | 33 | RS     | FDRH                   | 7.58%   |\n| 2469 | MUDANCAS GIULIAN       | EXPERS     | NAIANA CECILIA STROTTMANN FIDELIZACAO    | 14042.47 | 52 | MATRIZ | MUDANCAS GIULIAN       | 270.05% |\n| 2662 | CARHOUSE VEICULOS LTDA | GESTAO     | VANIA PAULO DA SILVA RUCKERT FIDELIZACAO |   719.32 | 42 | MATRIZ | CARHOUSE VEICULOS LTDA | 17.13%  |\n| 3096 | EDITORA FTD            | GESTAO     | SUELEN TAIS ARAUJO DA ROSA FIDELIZACAO   |  3276.94 | 35 | MATRIZ | EDITORA FTD            | 93.63%  |\n\n",
            "text/latex": "A tibble: 6 × 9\n\\begin{tabular}{lllllllll}\n CodigoCliente & cliente & canais & executivo & Faturamento & Volume & filial & NomeCliente & Índice\\%\\\\\n <dbl> & <chr> & <chr> & <chr> & <dbl> & <dbl> & <chr> & <chr> & <chr>\\\\\n\\hline\n\t 2127 & PROSEGUR RS            & GESTAO     & FLAVIA REGINA LEITE MARINHO              & 10676.36 & 59 & SP CAP & PROSEGUR RS            & 180.96\\%\\\\\n\t 2175 & SIMPALA VEICULOS SA    & VAREJO     & ALINE GOTTSCHALK DE OLIVEIRA FIDELIZACAO &  2180.67 & 28 & MATRIZ & SIMPALA VEICULOS SA    & 77.88\\% \\\\\n\t 2321 & FDRH                   & M. PUBLICO & NEIRI MARIO SCHENCKEL                    &   250.00 & 33 & RS     & FDRH                   & 7.58\\%  \\\\\n\t 2469 & MUDANCAS GIULIAN       & EXPERS     & NAIANA CECILIA STROTTMANN FIDELIZACAO    & 14042.47 & 52 & MATRIZ & MUDANCAS GIULIAN       & 270.05\\%\\\\\n\t 2662 & CARHOUSE VEICULOS LTDA & GESTAO     & VANIA PAULO DA SILVA RUCKERT FIDELIZACAO &   719.32 & 42 & MATRIZ & CARHOUSE VEICULOS LTDA & 17.13\\% \\\\\n\t 3096 & EDITORA FTD            & GESTAO     & SUELEN TAIS ARAUJO DA ROSA FIDELIZACAO   &  3276.94 & 35 & MATRIZ & EDITORA FTD            & 93.63\\% \\\\\n\\end{tabular}\n",
            "text/plain": [
              "  CodigoCliente cliente                canais    \n",
              "1 2127          PROSEGUR RS            GESTAO    \n",
              "2 2175          SIMPALA VEICULOS SA    VAREJO    \n",
              "3 2321          FDRH                   M. PUBLICO\n",
              "4 2469          MUDANCAS GIULIAN       EXPERS    \n",
              "5 2662          CARHOUSE VEICULOS LTDA GESTAO    \n",
              "6 3096          EDITORA FTD            GESTAO    \n",
              "  executivo                                Faturamento Volume filial\n",
              "1 FLAVIA REGINA LEITE MARINHO              10676.36    59     SP CAP\n",
              "2 ALINE GOTTSCHALK DE OLIVEIRA FIDELIZACAO  2180.67    28     MATRIZ\n",
              "3 NEIRI MARIO SCHENCKEL                      250.00    33     RS    \n",
              "4 NAIANA CECILIA STROTTMANN FIDELIZACAO    14042.47    52     MATRIZ\n",
              "5 VANIA PAULO DA SILVA RUCKERT FIDELIZACAO   719.32    42     MATRIZ\n",
              "6 SUELEN TAIS ARAUJO DA ROSA FIDELIZACAO    3276.94    35     MATRIZ\n",
              "  NomeCliente            Índice%\n",
              "1 PROSEGUR RS            180.96%\n",
              "2 SIMPALA VEICULOS SA    77.88% \n",
              "3 FDRH                   7.58%  \n",
              "4 MUDANCAS GIULIAN       270.05%\n",
              "5 CARHOUSE VEICULOS LTDA 17.13% \n",
              "6 EDITORA FTD            93.63% "
            ]
          },
          "metadata": {}
        }
      ]
    },
    {
      "cell_type": "markdown",
      "source": [
        "# Analise Exploratória"
      ],
      "metadata": {
        "id": "KgpJMEoxNd9K"
      }
    },
    {
      "cell_type": "code",
      "source": [
        "# Agrupamento dos dados por filial\n",
        "dados_agrupados <- dados_completos %>%\n",
        "  group_by(filial) %>%\n",
        "  summarise(TotalFaturamento = sum(Faturamento)) %>%\n",
        "  arrange(desc(TotalFaturamento))\n",
        "\n",
        "dados_agrupados"
      ],
      "metadata": {
        "colab": {
          "base_uri": "https://localhost:8080/",
          "height": 474
        },
        "id": "FFEy_sAC9j1E",
        "outputId": "42a0e9b9-1aca-4953-b48b-f62d7f931e20"
      },
      "execution_count": 11,
      "outputs": [
        {
          "output_type": "display_data",
          "data": {
            "text/html": [
              "<table class=\"dataframe\">\n",
              "<caption>A tibble: 12 × 2</caption>\n",
              "<thead>\n",
              "\t<tr><th scope=col>filial</th><th scope=col>TotalFaturamento</th></tr>\n",
              "\t<tr><th scope=col>&lt;chr&gt;</th><th scope=col>&lt;dbl&gt;</th></tr>\n",
              "</thead>\n",
              "<tbody>\n",
              "\t<tr><td>MATRIZ</td><td>1675450.24</td></tr>\n",
              "\t<tr><td>PR    </td><td>1571689.65</td></tr>\n",
              "\t<tr><td>MG    </td><td>1282971.91</td></tr>\n",
              "\t<tr><td>SP CAP</td><td> 889328.42</td></tr>\n",
              "\t<tr><td>SP INT</td><td> 631450.22</td></tr>\n",
              "\t<tr><td>GO    </td><td> 493577.17</td></tr>\n",
              "\t<tr><td>CE    </td><td> 363624.78</td></tr>\n",
              "\t<tr><td>RJ    </td><td> 266276.63</td></tr>\n",
              "\t<tr><td>PE    </td><td> 133370.83</td></tr>\n",
              "\t<tr><td>BA    </td><td>  69012.63</td></tr>\n",
              "\t<tr><td>RS    </td><td>  23876.86</td></tr>\n",
              "\t<tr><td>PA    </td><td> -54240.16</td></tr>\n",
              "</tbody>\n",
              "</table>\n"
            ],
            "text/markdown": "\nA tibble: 12 × 2\n\n| filial &lt;chr&gt; | TotalFaturamento &lt;dbl&gt; |\n|---|---|\n| MATRIZ | 1675450.24 |\n| PR     | 1571689.65 |\n| MG     | 1282971.91 |\n| SP CAP |  889328.42 |\n| SP INT |  631450.22 |\n| GO     |  493577.17 |\n| CE     |  363624.78 |\n| RJ     |  266276.63 |\n| PE     |  133370.83 |\n| BA     |   69012.63 |\n| RS     |   23876.86 |\n| PA     |  -54240.16 |\n\n",
            "text/latex": "A tibble: 12 × 2\n\\begin{tabular}{ll}\n filial & TotalFaturamento\\\\\n <chr> & <dbl>\\\\\n\\hline\n\t MATRIZ & 1675450.24\\\\\n\t PR     & 1571689.65\\\\\n\t MG     & 1282971.91\\\\\n\t SP CAP &  889328.42\\\\\n\t SP INT &  631450.22\\\\\n\t GO     &  493577.17\\\\\n\t CE     &  363624.78\\\\\n\t RJ     &  266276.63\\\\\n\t PE     &  133370.83\\\\\n\t BA     &   69012.63\\\\\n\t RS     &   23876.86\\\\\n\t PA     &  -54240.16\\\\\n\\end{tabular}\n",
            "text/plain": [
              "   filial TotalFaturamento\n",
              "1  MATRIZ 1675450.24      \n",
              "2  PR     1571689.65      \n",
              "3  MG     1282971.91      \n",
              "4  SP CAP  889328.42      \n",
              "5  SP INT  631450.22      \n",
              "6  GO      493577.17      \n",
              "7  CE      363624.78      \n",
              "8  RJ      266276.63      \n",
              "9  PE      133370.83      \n",
              "10 BA       69012.63      \n",
              "11 RS       23876.86      \n",
              "12 PA      -54240.16      "
            ]
          },
          "metadata": {}
        }
      ]
    },
    {
      "cell_type": "code",
      "source": [
        "# Agrupamento dos dados por canais\n",
        "dados_agrupados2 <- dados_completos %>%\n",
        "  group_by(canais) %>%\n",
        "  summarise(TotalFaturamento = sum(Faturamento)) %>%\n",
        "  arrange(desc(TotalFaturamento))\n",
        "\n",
        "dados_agrupados2"
      ],
      "metadata": {
        "colab": {
          "base_uri": "https://localhost:8080/",
          "height": 224
        },
        "id": "uyWo5KPQNMpx",
        "outputId": "1ac68c71-2caf-4d51-a53f-b232c7eb334d"
      },
      "execution_count": 12,
      "outputs": [
        {
          "output_type": "display_data",
          "data": {
            "text/html": [
              "<table class=\"dataframe\">\n",
              "<caption>A tibble: 4 × 2</caption>\n",
              "<thead>\n",
              "\t<tr><th scope=col>canais</th><th scope=col>TotalFaturamento</th></tr>\n",
              "\t<tr><th scope=col>&lt;chr&gt;</th><th scope=col>&lt;dbl&gt;</th></tr>\n",
              "</thead>\n",
              "<tbody>\n",
              "\t<tr><td>GESTAO    </td><td>3682663.340</td></tr>\n",
              "\t<tr><td>EXPERS    </td><td>3625300.620</td></tr>\n",
              "\t<tr><td>VAREJO    </td><td>  39962.500</td></tr>\n",
              "\t<tr><td>M. PUBLICO</td><td>  -1537.281</td></tr>\n",
              "</tbody>\n",
              "</table>\n"
            ],
            "text/markdown": "\nA tibble: 4 × 2\n\n| canais &lt;chr&gt; | TotalFaturamento &lt;dbl&gt; |\n|---|---|\n| GESTAO     | 3682663.340 |\n| EXPERS     | 3625300.620 |\n| VAREJO     |   39962.500 |\n| M. PUBLICO |   -1537.281 |\n\n",
            "text/latex": "A tibble: 4 × 2\n\\begin{tabular}{ll}\n canais & TotalFaturamento\\\\\n <chr> & <dbl>\\\\\n\\hline\n\t GESTAO     & 3682663.340\\\\\n\t EXPERS     & 3625300.620\\\\\n\t VAREJO     &   39962.500\\\\\n\t M. PUBLICO &   -1537.281\\\\\n\\end{tabular}\n",
            "text/plain": [
              "  canais     TotalFaturamento\n",
              "1 GESTAO     3682663.340     \n",
              "2 EXPERS     3625300.620     \n",
              "3 VAREJO       39962.500     \n",
              "4 M. PUBLICO   -1537.281     "
            ]
          },
          "metadata": {}
        }
      ]
    },
    {
      "cell_type": "code",
      "source": [
        "# Agrupamento por filiais e canais\n",
        "dados_agrupados1 <- dados_completos %>%\n",
        "  group_by(filial, canais) %>%\n",
        "  summarise(TotalFaturamento = sum(Faturamento)) %>%\n",
        "  pivot_wider(names_from = canais, values_from = TotalFaturamento, values_fill = 0)\n",
        "\n",
        "dados_agrupados1"
      ],
      "metadata": {
        "colab": {
          "base_uri": "https://localhost:8080/",
          "height": 509
        },
        "id": "tdkqO20pDOhK",
        "outputId": "d4691209-c067-4630-eac5-958462d03852"
      },
      "execution_count": 13,
      "outputs": [
        {
          "output_type": "stream",
          "name": "stderr",
          "text": [
            "\u001b[1m\u001b[22m`summarise()` has grouped output by 'filial'. You can override using the\n",
            "`.groups` argument.\n"
          ]
        },
        {
          "output_type": "display_data",
          "data": {
            "text/html": [
              "<table class=\"dataframe\">\n",
              "<caption>A grouped_df: 12 × 5</caption>\n",
              "<thead>\n",
              "\t<tr><th scope=col>filial</th><th scope=col>GESTAO</th><th scope=col>M. PUBLICO</th><th scope=col>EXPERS</th><th scope=col>VAREJO</th></tr>\n",
              "\t<tr><th scope=col>&lt;chr&gt;</th><th scope=col>&lt;dbl&gt;</th><th scope=col>&lt;dbl&gt;</th><th scope=col>&lt;dbl&gt;</th><th scope=col>&lt;dbl&gt;</th></tr>\n",
              "</thead>\n",
              "<tbody>\n",
              "\t<tr><td>BA    </td><td>  69012.63</td><td>     0.000</td><td>      0.00</td><td>    0.0</td></tr>\n",
              "\t<tr><td>CE    </td><td> 363624.78</td><td>     0.000</td><td>      0.00</td><td>    0.0</td></tr>\n",
              "\t<tr><td>GO    </td><td>  52000.35</td><td> -9392.882</td><td> 450969.70</td><td>    0.0</td></tr>\n",
              "\t<tr><td>MATRIZ</td><td>1536520.75</td><td> 41752.113</td><td>  57214.88</td><td>39962.5</td></tr>\n",
              "\t<tr><td>MG    </td><td> 563629.01</td><td>     0.000</td><td> 719342.90</td><td>    0.0</td></tr>\n",
              "\t<tr><td>PA    </td><td>      0.00</td><td>-54240.159</td><td>      0.00</td><td>    0.0</td></tr>\n",
              "\t<tr><td>PE    </td><td>  78203.52</td><td>   379.900</td><td>  54787.41</td><td>    0.0</td></tr>\n",
              "\t<tr><td>PR    </td><td> 189525.25</td><td>     0.000</td><td>1382164.40</td><td>    0.0</td></tr>\n",
              "\t<tr><td>RJ    </td><td> 261617.93</td><td>     0.000</td><td>   4658.70</td><td>    0.0</td></tr>\n",
              "\t<tr><td>RS    </td><td>   3913.11</td><td> 19963.747</td><td>      0.00</td><td>    0.0</td></tr>\n",
              "\t<tr><td>SP CAP</td><td> 184352.64</td><td>     0.000</td><td> 704975.78</td><td>    0.0</td></tr>\n",
              "\t<tr><td>SP INT</td><td> 380263.37</td><td>     0.000</td><td> 251186.85</td><td>    0.0</td></tr>\n",
              "</tbody>\n",
              "</table>\n"
            ],
            "text/markdown": "\nA grouped_df: 12 × 5\n\n| filial &lt;chr&gt; | GESTAO &lt;dbl&gt; | M. PUBLICO &lt;dbl&gt; | EXPERS &lt;dbl&gt; | VAREJO &lt;dbl&gt; |\n|---|---|---|---|---|\n| BA     |   69012.63 |      0.000 |       0.00 |     0.0 |\n| CE     |  363624.78 |      0.000 |       0.00 |     0.0 |\n| GO     |   52000.35 |  -9392.882 |  450969.70 |     0.0 |\n| MATRIZ | 1536520.75 |  41752.113 |   57214.88 | 39962.5 |\n| MG     |  563629.01 |      0.000 |  719342.90 |     0.0 |\n| PA     |       0.00 | -54240.159 |       0.00 |     0.0 |\n| PE     |   78203.52 |    379.900 |   54787.41 |     0.0 |\n| PR     |  189525.25 |      0.000 | 1382164.40 |     0.0 |\n| RJ     |  261617.93 |      0.000 |    4658.70 |     0.0 |\n| RS     |    3913.11 |  19963.747 |       0.00 |     0.0 |\n| SP CAP |  184352.64 |      0.000 |  704975.78 |     0.0 |\n| SP INT |  380263.37 |      0.000 |  251186.85 |     0.0 |\n\n",
            "text/latex": "A grouped\\_df: 12 × 5\n\\begin{tabular}{lllll}\n filial & GESTAO & M. PUBLICO & EXPERS & VAREJO\\\\\n <chr> & <dbl> & <dbl> & <dbl> & <dbl>\\\\\n\\hline\n\t BA     &   69012.63 &      0.000 &       0.00 &     0.0\\\\\n\t CE     &  363624.78 &      0.000 &       0.00 &     0.0\\\\\n\t GO     &   52000.35 &  -9392.882 &  450969.70 &     0.0\\\\\n\t MATRIZ & 1536520.75 &  41752.113 &   57214.88 & 39962.5\\\\\n\t MG     &  563629.01 &      0.000 &  719342.90 &     0.0\\\\\n\t PA     &       0.00 & -54240.159 &       0.00 &     0.0\\\\\n\t PE     &   78203.52 &    379.900 &   54787.41 &     0.0\\\\\n\t PR     &  189525.25 &      0.000 & 1382164.40 &     0.0\\\\\n\t RJ     &  261617.93 &      0.000 &    4658.70 &     0.0\\\\\n\t RS     &    3913.11 &  19963.747 &       0.00 &     0.0\\\\\n\t SP CAP &  184352.64 &      0.000 &  704975.78 &     0.0\\\\\n\t SP INT &  380263.37 &      0.000 &  251186.85 &     0.0\\\\\n\\end{tabular}\n",
            "text/plain": [
              "   filial GESTAO     M. PUBLICO EXPERS     VAREJO \n",
              "1  BA       69012.63      0.000       0.00     0.0\n",
              "2  CE      363624.78      0.000       0.00     0.0\n",
              "3  GO       52000.35  -9392.882  450969.70     0.0\n",
              "4  MATRIZ 1536520.75  41752.113   57214.88 39962.5\n",
              "5  MG      563629.01      0.000  719342.90     0.0\n",
              "6  PA           0.00 -54240.159       0.00     0.0\n",
              "7  PE       78203.52    379.900   54787.41     0.0\n",
              "8  PR      189525.25      0.000 1382164.40     0.0\n",
              "9  RJ      261617.93      0.000    4658.70     0.0\n",
              "10 RS        3913.11  19963.747       0.00     0.0\n",
              "11 SP CAP  184352.64      0.000  704975.78     0.0\n",
              "12 SP INT  380263.37      0.000  251186.85     0.0"
            ]
          },
          "metadata": {}
        }
      ]
    },
    {
      "cell_type": "code",
      "source": [
        "# tirar números com notação cientírica\n",
        "options(scipen = 999)"
      ],
      "metadata": {
        "id": "KQDBE48uGGrt"
      },
      "execution_count": 14,
      "outputs": []
    },
    {
      "cell_type": "markdown",
      "source": [
        "# Analise Descritiva\n",
        "*Nessa etapa vamos fazer uma análise descritiva dos dados, para entender se existem outiliers na base.A análise descritiva é fundamental para qualquer outra etapa posterior.*\n",
        "*Dois graficos que mostram bem o comportamento dos nossos dados e o boxplot e o grafico de barras, onde ocnseguimos ver a distribuição.*\n",
        "\n",
        "*Com o boxplot podemos observar a presença de outiliers e com o histograma se os nossos dados tem uma distribuição normal.*"
      ],
      "metadata": {
        "id": "jcDC-SGjGOjh"
      }
    },
    {
      "cell_type": "markdown",
      "source": [
        "*Inicialmente, a única variável numérica é o faturamento. Portanto, vamos realizar algumas análises descritivas com essa variável.*\n"
      ],
      "metadata": {
        "id": "5sNd4seQS5F7"
      }
    },
    {
      "cell_type": "code",
      "source": [
        "#Resumo descritivo do Faturamento\n",
        "summary(Faturamento)"
      ],
      "metadata": {
        "colab": {
          "base_uri": "https://localhost:8080/",
          "height": 52
        },
        "id": "RbzdVbitOpF2",
        "outputId": "1735524a-dbe0-4483-f53a-b641e3d2142d"
      },
      "execution_count": 203,
      "outputs": [
        {
          "output_type": "display_data",
          "data": {
            "text/plain": [
              "   Min. 1st Qu.  Median    Mean 3rd Qu.    Max.    NA's \n",
              " -54240    1510    7366   34490   31537  611876      86 "
            ]
          },
          "metadata": {}
        }
      ]
    },
    {
      "cell_type": "markdown",
      "source": [
        "# Insights - Canais"
      ],
      "metadata": {
        "id": "aG3GrQ9CiHfg"
      }
    },
    {
      "cell_type": "markdown",
      "source": [
        "*Calcular o resumo do faturamento agrupado por canais.*"
      ],
      "metadata": {
        "id": "34LkG3WqTHEX"
      }
    },
    {
      "cell_type": "code",
      "source": [
        "resumo_faturamento <- aggregate(Faturamento ~ canais, data = dados_completos, FUN = function(x) c(\n",
        "  mínimo = round(min(x), 2),\n",
        "  média = round(mean(x), 2),\n",
        "  mediana = round(median(x), 2),\n",
        "  máximo = round(max(x), 2)\n",
        "))\n",
        "\n",
        "# Exibir o resumo do faturamento\n",
        "print(resumo_faturamento)\n"
      ],
      "metadata": {
        "colab": {
          "base_uri": "https://localhost:8080/"
        },
        "id": "-W0yIn4EPTYP",
        "outputId": "557ca347-8a6a-4ef5-b62b-a7995a2cb8a1"
      },
      "execution_count": 206,
      "outputs": [
        {
          "output_type": "stream",
          "name": "stdout",
          "text": [
            "      canais Faturamento.mínimo Faturamento.média Faturamento.mediana\n",
            "1     EXPERS             985.05         172633.36            56126.89\n",
            "2     GESTAO             279.00          28328.18            13014.21\n",
            "3 M. PUBLICO          -54240.16            -29.01              213.96\n",
            "4     VAREJO            1300.07           4440.28             2391.21\n",
            "  Faturamento.máximo\n",
            "1          611876.40\n",
            "2          341319.80\n",
            "3           13846.68\n",
            "4           11218.27\n"
          ]
        }
      ]
    },
    {
      "cell_type": "markdown",
      "source": [
        "Canal \"EXPERS\": Esse canal apresenta um faturamento médio relativamente alto de 172.633,36, com um faturamento mínimo de 985,05 e um máximo de 611.876,40. A mediana de R$ 56.126,89 indica que metade dos valores está abaixo desse ponto. Portanto, pode-se dizer que o canal \"EXPERS\" tem uma faixa ampla de faturamento, com alguns valores muito altos.\n",
        "\n",
        "Canal \"GESTAO\": Esse canal possui um faturamento médio mais baixo em comparação com o canal \"EXPERS\", com uma média de R$ 28.328,18. O faturamento mínimo é de 279,00 e o máximo é de 341.319,80. A mediana de 13.014,21 indica que a metade dos valores está abaixo desse ponto. Isso sugere que a distribuição de faturamento no canal \"GESTAO\" é mais concentrada em valores menores.\n",
        "\n",
        "Canal \"M. PUBLICO\": Esse canal apresenta um faturamento negativo, com um mínimo de 54.240,16 e uma média de 29,01. No entanto, **a mediana de 213,96 está acima de zero, o que sugere que a maioria dos valores está concentrada em faturamentos positivos.** É importante investigar mais a fundo os fatores que levaram a esses resultados negativos no canal \"M. PUBLICO\".\n",
        "\n",
        "Canal \"VAREJO\": Esse canal possui um faturamento médio relativamente baixo de 4.440,28, com um mínimo de 1.300,07 e um máximo de 11.218,27. A mediana de 2.391,21 indica que a metade dos valores está abaixo desse ponto. Isso sugere que a distribuição de faturamento no canal \"VAREJO\" é mais concentrada em valores menores."
      ],
      "metadata": {
        "id": "AQhBy1LhcEwC"
      }
    },
    {
      "cell_type": "markdown",
      "source": [
        "Canal - M.PUBLICO"
      ],
      "metadata": {
        "id": "zxFWQX7eTL3h"
      }
    },
    {
      "cell_type": "code",
      "source": [
        "# Contar valores acima de zero\n",
        "acima_zero <- sum(dados_completos$Faturamento[dados_completos$canais == \"M. PUBLICO\"] > 0)\n",
        "\n",
        "# Contar valores abaixo de zero\n",
        "abaixo_zero <- sum(dados_completos$Faturamento[dados_completos$canais == \"M. PUBLICO\"] < 0)\n",
        "\n",
        "# Exibir o resultado\n",
        "print(paste(\"Valores acima de zero:\", acima_zero))\n",
        "print(paste(\"Valores abaixo de zero:\", abaixo_zero))\n"
      ],
      "metadata": {
        "colab": {
          "base_uri": "https://localhost:8080/"
        },
        "id": "XWlTKzYeZuF4",
        "outputId": "555d96b4-6832-41f1-a01e-b60e293b6125"
      },
      "execution_count": 207,
      "outputs": [
        {
          "output_type": "stream",
          "name": "stdout",
          "text": [
            "[1] \"Valores acima de zero: 31\"\n",
            "[1] \"Valores abaixo de zero: 7\"\n"
          ]
        }
      ]
    },
    {
      "cell_type": "markdown",
      "source": [
        "# Insights - Filiais\n",
        "*Vamos revisar e confirmar alguns pontos por meio de cálculos para obter respostas mais precisas. A partir dessas análises iniciais, pudemos obter muitos insights relevantes.*\n"
      ],
      "metadata": {
        "id": "4MzTnNGNdTDu"
      }
    },
    {
      "cell_type": "code",
      "source": [
        "resumo_faturamento1 <- aggregate(Faturamento ~ filial, data = dados_completos, FUN = function(x) c(\n",
        "  mínimo = round(min(x), 2),\n",
        "  média = round(mean(x), 2),\n",
        "  mediana = round(median(x), 2),\n",
        "  máximo = round(max(x), 2)\n",
        "))\n",
        "\n",
        "# Exibir o resumo do faturamento\n",
        "print(resumo_faturamento1)"
      ],
      "metadata": {
        "colab": {
          "base_uri": "https://localhost:8080/"
        },
        "id": "bsUE5AuaTFXI",
        "outputId": "b186cf34-0873-46dd-afb9-bec3c9c5e622"
      },
      "execution_count": 208,
      "outputs": [
        {
          "output_type": "stream",
          "name": "stdout",
          "text": [
            "   filial Faturamento.mínimo Faturamento.média Faturamento.mediana\n",
            "1      BA               0.00          23004.21            14631.02\n",
            "2      CE               0.00          36362.48            19059.49\n",
            "3      GO           -7295.51          61697.15                0.00\n",
            "4  MATRIZ           -3433.76          13846.70             5009.44\n",
            "5      MG           29350.99         183281.70            39233.44\n",
            "6      PA          -54240.16         -54240.16           -54240.16\n",
            "7      PE             379.90          13337.08             5824.85\n",
            "8      PR            4335.94         104779.31            25630.02\n",
            "9      RJ             985.05          53255.33            31972.94\n",
            "10     RS            -136.01           2170.62              566.44\n",
            "11 SP CAP            9601.97         111166.05            41550.42\n",
            "12 SP INT            1413.60          45103.59            15719.81\n",
            "   Faturamento.máximo\n",
            "1            54381.61\n",
            "2           145021.51\n",
            "3           450969.70\n",
            "4           109618.42\n",
            "5           611876.40\n",
            "6           -54240.16\n",
            "7            54787.41\n",
            "8           382434.33\n",
            "9           177831.70\n",
            "10           11261.43\n",
            "11          524284.95\n",
            "12          188059.84\n"
          ]
        }
      ]
    },
    {
      "cell_type": "markdown",
      "source": [
        "A filial \"BA\" apresenta um faturamento médio de R$23.004,21 e uma mediana de R$14.631,02, indicando uma distribuição de faturamento relativamente dispersa, com valores que variam consideravelmente.\n",
        "\n",
        "A filial \"CE\" possui um faturamento médio de 36,362.48 e uma mediana de 19,059.49, sugerindo uma concentração de faturamento em valores menores.\n",
        "\n",
        "A filial \"GO\" apresenta um faturamento mínimo negativo de -7,295.51, com uma média de 61,697.15. É importante investigar os fatores que contribuíram para esse resultado negativo.\n",
        "\n",
        "A filial \"MATRIZ\" tem um faturamento médio de 13,846.70 e uma mediana de 5,009.44. Isso indica que a maioria dos valores estão acima da mediana.\n",
        "\n",
        "A filial \"MG\" possui um faturamento médio relativamente alto de 183,281.70, indicando um desempenho financeiro positivo.\n",
        "\n",
        "A filial \"PA\" apresenta um faturamento negativo em todos os resultados, requerendo uma análise mais aprofundada das causas desse resultado.\n",
        "\n",
        "A filial \"PE\" tem um faturamento médio de 13,337.08 e uma mediana de 5,824.85, sugerindo uma concentração de faturamento em valores menores.\n",
        "\n",
        "A filial \"PR\" apresenta números que indicam uma variação considerável no faturamento.\n",
        "\n",
        "A filial \"RJ\" possui um faturamento médio de 53,255.33 e uma mediana de 31,972.94, indicando uma distribuição de faturamento relativamente dispersa.\n",
        "\n",
        "A filial \"RS\" apresenta um faturamento médio de 2,170.62, sugerindo um desempenho financeiro mais baixo em comparação com outras filiais.\n",
        "\n",
        "A filial \"SP CAP\" tem um faturamento médio de 111,166.05, indicando um desempenho financeiro positivo.\n",
        "\n",
        "A filial \"SP INT\" possui um faturamento médio de 45,103.59, sugerindo um desempenho financeiro acima da média geral."
      ],
      "metadata": {
        "id": "9tQv_Hb9a8A0"
      }
    },
    {
      "cell_type": "markdown",
      "source": [
        "*Filial - Matriz*"
      ],
      "metadata": {
        "id": "BV986swlgVq9"
      }
    },
    {
      "cell_type": "code",
      "source": [
        "# Filtrar os valores da filial \"MATRIZ\"\n",
        "faturamento_matriz <- subset(dados_completos, filial == \"MATRIZ\")$Faturamento\n",
        "\n",
        "# Contar quantos valores estão abaixo da mediana\n",
        "count_below_median <- sum(faturamento_matriz < median(faturamento_matriz))\n",
        "\n",
        "# Contar quantos valores estão acima ou igual à mediana\n",
        "count_above_median <- sum(faturamento_matriz >= median(faturamento_matriz))\n",
        "\n",
        "# Exibir o resultado\n",
        "print(paste(\"Valores abaixo da mediana:\", count_below_median))\n",
        "print(paste(\"Valores acima ou igual à mediana:\", count_above_median))\n"
      ],
      "metadata": {
        "colab": {
          "base_uri": "https://localhost:8080/"
        },
        "id": "Xpr4WetHeyiI",
        "outputId": "af1e0dce-c1cb-4b06-84c0-322450fdd4e9"
      },
      "execution_count": 209,
      "outputs": [
        {
          "output_type": "stream",
          "name": "stdout",
          "text": [
            "[1] \"Valores abaixo da mediana: 60\"\n",
            "[1] \"Valores acima ou igual à mediana: 61\"\n"
          ]
        }
      ]
    },
    {
      "cell_type": "markdown",
      "source": [
        "*Filial - PE*"
      ],
      "metadata": {
        "id": "5tUkr1Y0gmtV"
      }
    },
    {
      "cell_type": "code",
      "source": [
        "# Filtrar os valores da filial \"PE\"\n",
        "faturamento_pe <- subset(dados_completos, filial == \"PE\")$Faturamento\n",
        "\n",
        "# Verificar a proporção de valores acima de 10.000\n",
        "prop_acima_de_10000 <- mean(faturamento_pe > 10000)\n",
        "\n",
        "# Exibir o resultado\n",
        "print(paste(\"Proporção de valores acima de 10.000:\", prop_acima_de_10000))\n"
      ],
      "metadata": {
        "colab": {
          "base_uri": "https://localhost:8080/"
        },
        "id": "bvFbcjyagipD",
        "outputId": "93fabee3-3f41-48dd-dcd6-d1ac96214f0b"
      },
      "execution_count": 210,
      "outputs": [
        {
          "output_type": "stream",
          "name": "stdout",
          "text": [
            "[1] \"Proporção de valores acima de 10.000: 0.3\"\n"
          ]
        }
      ]
    },
    {
      "cell_type": "markdown",
      "source": [
        "# Outliers"
      ],
      "metadata": {
        "id": "OV0iJz08ipnz"
      }
    },
    {
      "cell_type": "markdown",
      "source": [
        "\n",
        "Análise para observar de forma gráfica os outliers. Foi possível identificar a presença de outliers, incluindo valores negativos considerados como outliers.\n",
        "\n",
        "---\n",
        "\n"
      ],
      "metadata": {
        "id": "eOODlV9RTkfx"
      }
    },
    {
      "cell_type": "code",
      "source": [
        "# boxplot para gerar o gráfico\n",
        "boxplot(dados_completos$Faturamento, main = \"Boxplot do Faturamento\", ylab = \"Faturamento\")\n"
      ],
      "metadata": {
        "colab": {
          "base_uri": "https://localhost:8080/",
          "height": 437
        },
        "id": "QRKLUA7oF37B",
        "outputId": "de4c7aa1-1b5f-43ee-8543-914da180d163"
      },
      "execution_count": 15,
      "outputs": [
        {
          "output_type": "display_data",
          "data": {
            "text/plain": [
              "Plot with title “Boxplot do Faturamento”"
            ],
            "image/png": "[encoded data removed]"
          },
          "metadata": {
            "image/png": {
              "width": 420,
              "height": 420
            }
          }
        }
      ]
    },
    {
      "cell_type": "code",
      "source": [
        "# Histograma - Para entender a distribuição dos dados.\n",
        "ggplot(dados_completos, aes(x = Faturamento)) +\n",
        "  geom_histogram(binwidth = 1000, fill = \"blue\", color = \"black\") +\n",
        "  labs(title = \"Distribuição do Faturamento\", x = \"Faturamento\", y = \"Frequência\")"
      ],
      "metadata": {
        "colab": {
          "base_uri": "https://localhost:8080/",
          "height": 437
        },
        "id": "-hWXtqe7IrXd",
        "outputId": "d122c599-a686-4415-e7e9-cef5c1b5313b"
      },
      "execution_count": 16,
      "outputs": [
        {
          "output_type": "display_data",
          "data": {
            "text/plain": [
              "plot without title"
            ],
            "image/png": "[encoded data removed]"
          },
          "metadata": {
            "image/png": {
              "width": 420,
              "height": 420
            }
          }
        }
      ]
    },
    {
      "cell_type": "markdown",
      "source": [
        "Vamos identificar os outliers, tanto positivos quanto negativos, e verificar quais são os executivos associados a eles."
      ],
      "metadata": {
        "id": "ahmr3JFOHVii"
      }
    },
    {
      "cell_type": "code",
      "source": [
        "# Calcular os limites superior e inferior\n",
        "Q1 <- quantile(dados_completos$Faturamento, 0.25)\n",
        "Q3 <- quantile(dados_completos$Faturamento, 0.75)\n",
        "IQR <- Q3 - Q1\n",
        "limite_inferior <- Q1 - 1.5 * IQR\n",
        "limite_superior <- Q3 + 1.5 * IQR\n",
        "\n",
        "outliers <- dados_completos[dados_completos$Faturamento < limite_inferior | dados_completos$Faturamento > limite_superior, ]\n",
        "outliers <- outliers[order(outliers$Faturamento, decreasing = TRUE), ]\n"
      ],
      "metadata": {
        "id": "ucZ3iTqrGvmt"
      },
      "execution_count": 213,
      "outputs": []
    },
    {
      "cell_type": "code",
      "source": [
        "# Exibir as linhas com outliers\n",
        "outliers"
      ],
      "metadata": {
        "colab": {
          "base_uri": "https://localhost:8080/",
          "height": 965
        },
        "id": "ebXIVWKUHPi6",
        "outputId": "ad6cdd66-1d54-4aa0-927b-f9af19c2dc43"
      },
      "execution_count": 214,
      "outputs": [
        {
          "output_type": "display_data",
          "data": {
            "text/html": [
              "<table class=\"dataframe\">\n",
              "<caption>A tibble: 21 × 9</caption>\n",
              "<thead>\n",
              "\t<tr><th scope=col>CodigoCliente</th><th scope=col>cliente</th><th scope=col>canais</th><th scope=col>executivo</th><th scope=col>Faturamento</th><th scope=col>Volume</th><th scope=col>filial</th><th scope=col>NomeCliente</th><th scope=col>Índice%</th></tr>\n",
              "\t<tr><th scope=col>&lt;dbl&gt;</th><th scope=col>&lt;chr&gt;</th><th scope=col>&lt;chr&gt;</th><th scope=col>&lt;chr&gt;</th><th scope=col>&lt;dbl&gt;</th><th scope=col>&lt;dbl&gt;</th><th scope=col>&lt;chr&gt;</th><th scope=col>&lt;chr&gt;</th><th scope=col>&lt;dbl&gt;</th></tr>\n",
              "</thead>\n",
              "<tbody>\n",
              "\t<tr><td>37521</td><td>TRANSPORTES FATIMA                  </td><td>EXPERS    </td><td>WELLINGTON MARCAL SILVA                  </td><td>611876.40</td><td>11</td><td>MG    </td><td>TRANSPORTES FATIMA                  </td><td>55625.13</td></tr>\n",
              "\t<tr><td>49249</td><td>COSTEIRA TRANSPORTES  FROTA         </td><td>EXPERS    </td><td>SEM ALOCACAO                             </td><td>524284.95</td><td>58</td><td>SP CAP</td><td>COSTEIRA TRANSPORTES  FROTA         </td><td> 9039.40</td></tr>\n",
              "\t<tr><td>34161</td><td>CARVALIMA TRANSPORTES               </td><td>EXPERS    </td><td>ELIANA DAL PONTE FARIAS                  </td><td>450969.70</td><td>53</td><td>GO    </td><td>CARVALIMA TRANSPORTES               </td><td> 8508.86</td></tr>\n",
              "\t<tr><td> 6862</td><td>RAPIDO TRANSPAULO LTDA              </td><td>EXPERS    </td><td>DAIANE GOMES FALCAO                      </td><td>382434.33</td><td>21</td><td>PR    </td><td>RAPIDO TRANSPAULO LTDA              </td><td>18211.16</td></tr>\n",
              "\t<tr><td>10166</td><td>ENGELMIG                            </td><td>GESTAO    </td><td>MARINA DAMAZIO GODOY DE ABREU            </td><td>341319.80</td><td>21</td><td>MG    </td><td>ENGELMIG                            </td><td>16253.32</td></tr>\n",
              "\t<tr><td>14304</td><td>COMERCIO E TRANSPORTES MIORANZA LTDA</td><td>EXPERS    </td><td>DAIANE GOMES FALCAO                      </td><td>325155.61</td><td>43</td><td>PR    </td><td>COMERCIO E TRANSPORTES MIORANZA LTDA</td><td> 7561.76</td></tr>\n",
              "\t<tr><td>27843</td><td>SULINA                              </td><td>EXPERS    </td><td>DAIANE GOMES FALCAO                      </td><td>317481.51</td><td>34</td><td>PR    </td><td>SULINA                              </td><td> 9337.69</td></tr>\n",
              "\t<tr><td> 9112</td><td>MULTITRANS                          </td><td>EXPERS    </td><td>DAIANE GOMES FALCAO                      </td><td>300966.06</td><td>44</td><td>PR    </td><td>MULTITRANS                          </td><td> 6840.14</td></tr>\n",
              "\t<tr><td>35421</td><td>VITORIA TRANSPORTES EM GERAL S A    </td><td>EXPERS    </td><td>ELISANDRA PAULA CENTAMORI PAULINO        </td><td>188059.84</td><td>41</td><td>SP INT</td><td>VITORIA TRANSPORTES EM GERAL S A    </td><td> 4586.83</td></tr>\n",
              "\t<tr><td>46138</td><td>ENGELMIG CAMPO GRANDE MS            </td><td>GESTAO    </td><td>MARINA DAMAZIO GODOY DE ABREU            </td><td>185957.63</td><td>55</td><td>MG    </td><td>ENGELMIG CAMPO GRANDE MS            </td><td> 3381.05</td></tr>\n",
              "\t<tr><td>50993</td><td>FIEL TURISMO                        </td><td>GESTAO    </td><td>RACHEL VIANNA FERNANDES BEZERRA GIESTEIRA</td><td>177831.70</td><td>44</td><td>RJ    </td><td>FIEL TURISMO                        </td><td> 4041.63</td></tr>\n",
              "\t<tr><td>44309</td><td>TRANSPORTADORA ROTA 90 LTDA         </td><td>EXPERS    </td><td>SEM ALOCACAO                             </td><td>171088.86</td><td>45</td><td>SP CAP</td><td>TRANSPORTADORA ROTA 90 LTDA         </td><td> 3801.97</td></tr>\n",
              "\t<tr><td>52475</td><td>DINAMO ENGENHARIA CEARA             </td><td>GESTAO    </td><td>MARCOS ROBERTO OLIVEIRA MARTINS          </td><td>145021.51</td><td>21</td><td>CE    </td><td>DINAMO ENGENHARIA CEARA             </td><td> 6905.79</td></tr>\n",
              "\t<tr><td>23825</td><td>CDA GUARULHOS                       </td><td>GESTAO    </td><td>JAQUELINE CRISTINA ALVES ASSIS           </td><td>126705.62</td><td>51</td><td>SP INT</td><td>CDA GUARULHOS                       </td><td> 2484.42</td></tr>\n",
              "\t<tr><td>35260</td><td>JUMIL                               </td><td>GESTAO    </td><td>RODRIGO ARTUR BASTOS LIMA                </td><td>121227.57</td><td>51</td><td>SP INT</td><td>JUMIL                               </td><td> 2377.01</td></tr>\n",
              "\t<tr><td>36590</td><td>IGREJA UNIVERSAL REINO DE DEUS13 MG </td><td>GESTAO    </td><td>VANIA PAULO DA SILVA RUCKERT FIDELIZACAO </td><td>109618.42</td><td>22</td><td>MATRIZ</td><td>IGREJA UNIVERSAL REINO DE DEUS13 MG </td><td> 4982.66</td></tr>\n",
              "\t<tr><td>52372</td><td>ELO CONSTRUCOES E INSTALACOES       </td><td>GESTAO    </td><td>SUELEN TAIS ARAUJO DA ROSA FIDELIZACAO   </td><td> 98742.21</td><td>28</td><td>MATRIZ</td><td>ELO CONSTRUCOES E INSTALACOES       </td><td> 3526.51</td></tr>\n",
              "\t<tr><td>27340</td><td>FARMACE                             </td><td>GESTAO    </td><td>EDUARDO PEREIRA SILVA                    </td><td> 94897.98</td><td>36</td><td>CE    </td><td>FARMACE                             </td><td> 2636.05</td></tr>\n",
              "\t<tr><td>34617</td><td>VIALIM                              </td><td>GESTAO    </td><td>NATALIA STEFANIE BLOS FIDELIZACAO        </td><td> 89412.42</td><td>16</td><td>MATRIZ</td><td>VIALIM                              </td><td> 5588.28</td></tr>\n",
              "\t<tr><td>40877</td><td>TIARAJU ENGENHARIA LTDA             </td><td>GESTAO    </td><td>NATALIA STEFANIE BLOS FIDELIZACAO        </td><td> 89044.91</td><td>23</td><td>MATRIZ</td><td>TIARAJU ENGENHARIA LTDA             </td><td> 3871.52</td></tr>\n",
              "\t<tr><td>14246</td><td>ELETRONORTE TUCURUI                 </td><td>M. PUBLICO</td><td>FRANCISCO EUGENIO FREITAS RODRIGUES      </td><td>-54240.16</td><td>55</td><td>PA    </td><td>ELETRONORTE TUCURUI                 </td><td> -986.18</td></tr>\n",
              "</tbody>\n",
              "</table>\n"
            ],
            "text/markdown": "\nA tibble: 21 × 9\n\n| CodigoCliente &lt;dbl&gt; | cliente &lt;chr&gt; | canais &lt;chr&gt; | executivo &lt;chr&gt; | Faturamento &lt;dbl&gt; | Volume &lt;dbl&gt; | filial &lt;chr&gt; | NomeCliente &lt;chr&gt; | Índice% &lt;dbl&gt; |\n|---|---|---|---|---|---|---|---|---|\n| 37521 | TRANSPORTES FATIMA                   | EXPERS     | WELLINGTON MARCAL SILVA                   | 611876.40 | 11 | MG     | TRANSPORTES FATIMA                   | 55625.13 |\n| 49249 | COSTEIRA TRANSPORTES  FROTA          | EXPERS     | SEM ALOCACAO                              | 524284.95 | 58 | SP CAP | COSTEIRA TRANSPORTES  FROTA          |  9039.40 |\n| 34161 | CARVALIMA TRANSPORTES                | EXPERS     | ELIANA DAL PONTE FARIAS                   | 450969.70 | 53 | GO     | CARVALIMA TRANSPORTES                |  8508.86 |\n|  6862 | RAPIDO TRANSPAULO LTDA               | EXPERS     | DAIANE GOMES FALCAO                       | 382434.33 | 21 | PR     | RAPIDO TRANSPAULO LTDA               | 18211.16 |\n| 10166 | ENGELMIG                             | GESTAO     | MARINA DAMAZIO GODOY DE ABREU             | 341319.80 | 21 | MG     | ENGELMIG                             | 16253.32 |\n| 14304 | COMERCIO E TRANSPORTES MIORANZA LTDA | EXPERS     | DAIANE GOMES FALCAO                       | 325155.61 | 43 | PR     | COMERCIO E TRANSPORTES MIORANZA LTDA |  7561.76 |\n| 27843 | SULINA                               | EXPERS     | DAIANE GOMES FALCAO                       | 317481.51 | 34 | PR     | SULINA                               |  9337.69 |\n|  9112 | MULTITRANS                           | EXPERS     | DAIANE GOMES FALCAO                       | 300966.06 | 44 | PR     | MULTITRANS                           |  6840.14 |\n| 35421 | VITORIA TRANSPORTES EM GERAL S A     | EXPERS     | ELISANDRA PAULA CENTAMORI PAULINO         | 188059.84 | 41 | SP INT | VITORIA TRANSPORTES EM GERAL S A     |  4586.83 |\n| 46138 | ENGELMIG CAMPO GRANDE MS             | GESTAO     | MARINA DAMAZIO GODOY DE ABREU             | 185957.63 | 55 | MG     | ENGELMIG CAMPO GRANDE MS             |  3381.05 |\n| 50993 | FIEL TURISMO                         | GESTAO     | RACHEL VIANNA FERNANDES BEZERRA GIESTEIRA | 177831.70 | 44 | RJ     | FIEL TURISMO                         |  4041.63 |\n| 44309 | TRANSPORTADORA ROTA 90 LTDA          | EXPERS     | SEM ALOCACAO                              | 171088.86 | 45 | SP CAP | TRANSPORTADORA ROTA 90 LTDA          |  3801.97 |\n| 52475 | DINAMO ENGENHARIA CEARA              | GESTAO     | MARCOS ROBERTO OLIVEIRA MARTINS           | 145021.51 | 21 | CE     | DINAMO ENGENHARIA CEARA              |  6905.79 |\n| 23825 | CDA GUARULHOS                        | GESTAO     | JAQUELINE CRISTINA ALVES ASSIS            | 126705.62 | 51 | SP INT | CDA GUARULHOS                        |  2484.42 |\n| 35260 | JUMIL                                | GESTAO     | RODRIGO ARTUR BASTOS LIMA                 | 121227.57 | 51 | SP INT | JUMIL                                |  2377.01 |\n| 36590 | IGREJA UNIVERSAL REINO DE DEUS13 MG  | GESTAO     | VANIA PAULO DA SILVA RUCKERT FIDELIZACAO  | 109618.42 | 22 | MATRIZ | IGREJA UNIVERSAL REINO DE DEUS13 MG  |  4982.66 |\n| 52372 | ELO CONSTRUCOES E INSTALACOES        | GESTAO     | SUELEN TAIS ARAUJO DA ROSA FIDELIZACAO    |  98742.21 | 28 | MATRIZ | ELO CONSTRUCOES E INSTALACOES        |  3526.51 |\n| 27340 | FARMACE                              | GESTAO     | EDUARDO PEREIRA SILVA                     |  94897.98 | 36 | CE     | FARMACE                              |  2636.05 |\n| 34617 | VIALIM                               | GESTAO     | NATALIA STEFANIE BLOS FIDELIZACAO         |  89412.42 | 16 | MATRIZ | VIALIM                               |  5588.28 |\n| 40877 | TIARAJU ENGENHARIA LTDA              | GESTAO     | NATALIA STEFANIE BLOS FIDELIZACAO         |  89044.91 | 23 | MATRIZ | TIARAJU ENGENHARIA LTDA              |  3871.52 |\n| 14246 | ELETRONORTE TUCURUI                  | M. PUBLICO | FRANCISCO EUGENIO FREITAS RODRIGUES       | -54240.16 | 55 | PA     | ELETRONORTE TUCURUI                  |  -986.18 |\n\n",
            "text/latex": "A tibble: 21 × 9\n\\begin{tabular}{lllllllll}\n CodigoCliente & cliente & canais & executivo & Faturamento & Volume & filial & NomeCliente & Índice\\%\\\\\n <dbl> & <chr> & <chr> & <chr> & <dbl> & <dbl> & <chr> & <chr> & <dbl>\\\\\n\\hline\n\t 37521 & TRANSPORTES FATIMA                   & EXPERS     & WELLINGTON MARCAL SILVA                   & 611876.40 & 11 & MG     & TRANSPORTES FATIMA                   & 55625.13\\\\\n\t 49249 & COSTEIRA TRANSPORTES  FROTA          & EXPERS     & SEM ALOCACAO                              & 524284.95 & 58 & SP CAP & COSTEIRA TRANSPORTES  FROTA          &  9039.40\\\\\n\t 34161 & CARVALIMA TRANSPORTES                & EXPERS     & ELIANA DAL PONTE FARIAS                   & 450969.70 & 53 & GO     & CARVALIMA TRANSPORTES                &  8508.86\\\\\n\t  6862 & RAPIDO TRANSPAULO LTDA               & EXPERS     & DAIANE GOMES FALCAO                       & 382434.33 & 21 & PR     & RAPIDO TRANSPAULO LTDA               & 18211.16\\\\\n\t 10166 & ENGELMIG                             & GESTAO     & MARINA DAMAZIO GODOY DE ABREU             & 341319.80 & 21 & MG     & ENGELMIG                             & 16253.32\\\\\n\t 14304 & COMERCIO E TRANSPORTES MIORANZA LTDA & EXPERS     & DAIANE GOMES FALCAO                       & 325155.61 & 43 & PR     & COMERCIO E TRANSPORTES MIORANZA LTDA &  7561.76\\\\\n\t 27843 & SULINA                               & EXPERS     & DAIANE GOMES FALCAO                       & 317481.51 & 34 & PR     & SULINA                               &  9337.69\\\\\n\t  9112 & MULTITRANS                           & EXPERS     & DAIANE GOMES FALCAO                       & 300966.06 & 44 & PR     & MULTITRANS                           &  6840.14\\\\\n\t 35421 & VITORIA TRANSPORTES EM GERAL S A     & EXPERS     & ELISANDRA PAULA CENTAMORI PAULINO         & 188059.84 & 41 & SP INT & VITORIA TRANSPORTES EM GERAL S A     &  4586.83\\\\\n\t 46138 & ENGELMIG CAMPO GRANDE MS             & GESTAO     & MARINA DAMAZIO GODOY DE ABREU             & 185957.63 & 55 & MG     & ENGELMIG CAMPO GRANDE MS             &  3381.05\\\\\n\t 50993 & FIEL TURISMO                         & GESTAO     & RACHEL VIANNA FERNANDES BEZERRA GIESTEIRA & 177831.70 & 44 & RJ     & FIEL TURISMO                         &  4041.63\\\\\n\t 44309 & TRANSPORTADORA ROTA 90 LTDA          & EXPERS     & SEM ALOCACAO                              & 171088.86 & 45 & SP CAP & TRANSPORTADORA ROTA 90 LTDA          &  3801.97\\\\\n\t 52475 & DINAMO ENGENHARIA CEARA              & GESTAO     & MARCOS ROBERTO OLIVEIRA MARTINS           & 145021.51 & 21 & CE     & DINAMO ENGENHARIA CEARA              &  6905.79\\\\\n\t 23825 & CDA GUARULHOS                        & GESTAO     & JAQUELINE CRISTINA ALVES ASSIS            & 126705.62 & 51 & SP INT & CDA GUARULHOS                        &  2484.42\\\\\n\t 35260 & JUMIL                                & GESTAO     & RODRIGO ARTUR BASTOS LIMA                 & 121227.57 & 51 & SP INT & JUMIL                                &  2377.01\\\\\n\t 36590 & IGREJA UNIVERSAL REINO DE DEUS13 MG  & GESTAO     & VANIA PAULO DA SILVA RUCKERT FIDELIZACAO  & 109618.42 & 22 & MATRIZ & IGREJA UNIVERSAL REINO DE DEUS13 MG  &  4982.66\\\\\n\t 52372 & ELO CONSTRUCOES E INSTALACOES        & GESTAO     & SUELEN TAIS ARAUJO DA ROSA FIDELIZACAO    &  98742.21 & 28 & MATRIZ & ELO CONSTRUCOES E INSTALACOES        &  3526.51\\\\\n\t 27340 & FARMACE                              & GESTAO     & EDUARDO PEREIRA SILVA                     &  94897.98 & 36 & CE     & FARMACE                              &  2636.05\\\\\n\t 34617 & VIALIM                               & GESTAO     & NATALIA STEFANIE BLOS FIDELIZACAO         &  89412.42 & 16 & MATRIZ & VIALIM                               &  5588.28\\\\\n\t 40877 & TIARAJU ENGENHARIA LTDA              & GESTAO     & NATALIA STEFANIE BLOS FIDELIZACAO         &  89044.91 & 23 & MATRIZ & TIARAJU ENGENHARIA LTDA              &  3871.52\\\\\n\t 14246 & ELETRONORTE TUCURUI                  & M. PUBLICO & FRANCISCO EUGENIO FREITAS RODRIGUES       & -54240.16 & 55 & PA     & ELETRONORTE TUCURUI                  &  -986.18\\\\\n\\end{tabular}\n",
            "text/plain": [
              "   CodigoCliente cliente                              canais    \n",
              "1  37521         TRANSPORTES FATIMA                   EXPERS    \n",
              "2  49249         COSTEIRA TRANSPORTES  FROTA          EXPERS    \n",
              "3  34161         CARVALIMA TRANSPORTES                EXPERS    \n",
              "4   6862         RAPIDO TRANSPAULO LTDA               EXPERS    \n",
              "5  10166         ENGELMIG                             GESTAO    \n",
              "6  14304         COMERCIO E TRANSPORTES MIORANZA LTDA EXPERS    \n",
              "7  27843         SULINA                               EXPERS    \n",
              "8   9112         MULTITRANS                           EXPERS    \n",
              "9  35421         VITORIA TRANSPORTES EM GERAL S A     EXPERS    \n",
              "10 46138         ENGELMIG CAMPO GRANDE MS             GESTAO    \n",
              "11 50993         FIEL TURISMO                         GESTAO    \n",
              "12 44309         TRANSPORTADORA ROTA 90 LTDA          EXPERS    \n",
              "13 52475         DINAMO ENGENHARIA CEARA              GESTAO    \n",
              "14 23825         CDA GUARULHOS                        GESTAO    \n",
              "15 35260         JUMIL                                GESTAO    \n",
              "16 36590         IGREJA UNIVERSAL REINO DE DEUS13 MG  GESTAO    \n",
              "17 52372         ELO CONSTRUCOES E INSTALACOES        GESTAO    \n",
              "18 27340         FARMACE                              GESTAO    \n",
              "19 34617         VIALIM                               GESTAO    \n",
              "20 40877         TIARAJU ENGENHARIA LTDA              GESTAO    \n",
              "21 14246         ELETRONORTE TUCURUI                  M. PUBLICO\n",
              "   executivo                                 Faturamento Volume filial\n",
              "1  WELLINGTON MARCAL SILVA                   611876.40   11     MG    \n",
              "2  SEM ALOCACAO                              524284.95   58     SP CAP\n",
              "3  ELIANA DAL PONTE FARIAS                   450969.70   53     GO    \n",
              "4  DAIANE GOMES FALCAO                       382434.33   21     PR    \n",
              "5  MARINA DAMAZIO GODOY DE ABREU             341319.80   21     MG    \n",
              "6  DAIANE GOMES FALCAO                       325155.61   43     PR    \n",
              "7  DAIANE GOMES FALCAO                       317481.51   34     PR    \n",
              "8  DAIANE GOMES FALCAO                       300966.06   44     PR    \n",
              "9  ELISANDRA PAULA CENTAMORI PAULINO         188059.84   41     SP INT\n",
              "10 MARINA DAMAZIO GODOY DE ABREU             185957.63   55     MG    \n",
              "11 RACHEL VIANNA FERNANDES BEZERRA GIESTEIRA 177831.70   44     RJ    \n",
              "12 SEM ALOCACAO                              171088.86   45     SP CAP\n",
              "13 MARCOS ROBERTO OLIVEIRA MARTINS           145021.51   21     CE    \n",
              "14 JAQUELINE CRISTINA ALVES ASSIS            126705.62   51     SP INT\n",
              "15 RODRIGO ARTUR BASTOS LIMA                 121227.57   51     SP INT\n",
              "16 VANIA PAULO DA SILVA RUCKERT FIDELIZACAO  109618.42   22     MATRIZ\n",
              "17 SUELEN TAIS ARAUJO DA ROSA FIDELIZACAO     98742.21   28     MATRIZ\n",
              "18 EDUARDO PEREIRA SILVA                      94897.98   36     CE    \n",
              "19 NATALIA STEFANIE BLOS FIDELIZACAO          89412.42   16     MATRIZ\n",
              "20 NATALIA STEFANIE BLOS FIDELIZACAO          89044.91   23     MATRIZ\n",
              "21 FRANCISCO EUGENIO FREITAS RODRIGUES       -54240.16   55     PA    \n",
              "   NomeCliente                          Índice% \n",
              "1  TRANSPORTES FATIMA                   55625.13\n",
              "2  COSTEIRA TRANSPORTES  FROTA           9039.40\n",
              "3  CARVALIMA TRANSPORTES                 8508.86\n",
              "4  RAPIDO TRANSPAULO LTDA               18211.16\n",
              "5  ENGELMIG                             16253.32\n",
              "6  COMERCIO E TRANSPORTES MIORANZA LTDA  7561.76\n",
              "7  SULINA                                9337.69\n",
              "8  MULTITRANS                            6840.14\n",
              "9  VITORIA TRANSPORTES EM GERAL S A      4586.83\n",
              "10 ENGELMIG CAMPO GRANDE MS              3381.05\n",
              "11 FIEL TURISMO                          4041.63\n",
              "12 TRANSPORTADORA ROTA 90 LTDA           3801.97\n",
              "13 DINAMO ENGENHARIA CEARA               6905.79\n",
              "14 CDA GUARULHOS                         2484.42\n",
              "15 JUMIL                                 2377.01\n",
              "16 IGREJA UNIVERSAL REINO DE DEUS13 MG   4982.66\n",
              "17 ELO CONSTRUCOES E INSTALACOES         3526.51\n",
              "18 FARMACE                               2636.05\n",
              "19 VIALIM                                5588.28\n",
              "20 TIARAJU ENGENHARIA LTDA               3871.52\n",
              "21 ELETRONORTE TUCURUI                   -986.18"
            ]
          },
          "metadata": {}
        }
      ]
    },
    {
      "cell_type": "markdown",
      "source": [
        "Com essa analise, conseguimos observar que a WELLINGTON MARCAL SILVA, no canal EXPERS, possui o faturamento mais alto. Ele se destaca como o principal executivos em termos de faturamento.\n",
        "\n",
        "Francisco Eugenio Freitas Rodrigues, no canal M. PUBLICO, apresenta um faturamento negativo de -R$ 54.240,16 e um volume de 55. É importante investigar os motivos que levaram a esse resultado negativo e avaliar possíveis melhorias.\n",
        "\n",
        "Esses insights indicam a importância de monitorar e analisar o desempenho dos executivos em relação ao faturamento e volume, a fim de identificar pontos fortes e áreas de melhoria. É fundamental acompanhar de perto o desempenho de cada executivo para tomar decisões estratégicas e maximizar os resultados da empresa."
      ],
      "metadata": {
        "id": "tcZ8XvZEjTMr"
      }
    },
    {
      "cell_type": "markdown",
      "source": [
        "# Análise de variância (ANOVA)\n",
        "*A Análise de Variância (ANOVA) é um teste estatístico chave e muito útil para análise de datasets em diversas áreas do conhecimento. A análise visa, fundamentalmente, verificar se existe uma diferença significativa entre as médias e se os fatores exercem influência em alguma variável dependente.*"
      ],
      "metadata": {
        "id": "rSLuErIzQkya"
      }
    },
    {
      "cell_type": "markdown",
      "source": [
        "# Legenda\n",
        "*Df: Os graus de liberdade indicam o número de grupos (filiais ou canais) e o número de observações restantes (residuals).*\n",
        "\n",
        "*Sum Sq: A soma dos quadrados representa a variabilidade total explicada pela variável \"filial/canais\" e a variabilidade não explicada (residual).*\n",
        "\n",
        "*Mean Sq: A média dos quadrados é calculada dividindo a soma dos quadrados pelos graus de liberdade correspondentes.*\n",
        "\n",
        "*F value: O valor F é uma medida da diferença entre as médias dos grupos e a variabilidade dentro dos grupos.*\n",
        "\n",
        "*Pr(>F): O valor p representa a probabilidade de obter uma estatística F igual ou mais extrema do que a observada, assumindo que a hipótese nula seja verdadeira. Um valor de p pequeno (geralmente menor que 0,05) indica uma diferença estatisticamente significativa*"
      ],
      "metadata": {
        "id": "LeDyPHb1Lq9M"
      }
    },
    {
      "cell_type": "code",
      "source": [
        "# Realizar análise de variância\n",
        "modelo_anova <- aov(Faturamento ~ filial, data = dados_completos)\n",
        "\n",
        "# Resumo do modelo ANOVA\n",
        "resumo_anova <- summary(modelo_anova)\n",
        "\n",
        "\n",
        "# Exibir o resumo do modelo ANOVA\n",
        "print(resumo_anova)\n"
      ],
      "metadata": {
        "colab": {
          "base_uri": "https://localhost:8080/"
        },
        "id": "SaUXQ8EKKDiF",
        "outputId": "090a4054-4be4-404f-80cb-06b6c24812d7"
      },
      "execution_count": 19,
      "outputs": [
        {
          "output_type": "stream",
          "name": "stdout",
          "text": [
            "             Df        Sum Sq     Mean Sq F value       Pr(>F)    \n",
            "filial       11  361206888442 32836989858   5.905 0.0000000268 ***\n",
            "Residuals   201 1117749931031  5560944931                         \n",
            "---\n",
            "Signif. codes:  0 ‘***’ 0.001 ‘**’ 0.01 ‘*’ 0.05 ‘.’ 0.1 ‘ ’ 1\n"
          ]
        }
      ]
    },
    {
      "cell_type": "markdown",
      "source": [
        "*No caso das filiais, o resultado mostra um valor de p muito pequeno (p = 0.0000000268), indicando que há uma diferença estatisticamente significativa nas médias do faturamento entre as filiais. Isso sugere que a variável \"filial\" está associada ao faturamento e pode ser um fator importante na determinação das diferenças observadas.*\n",
        "\n",
        "*É importante observar que devemos interpretar esses resultados considerando no contexto específico do conjunto de dados e o objetivo da análise. A análise de variância é útil para testar diferenças entre grupos, Podem ser feitas  análises adicionais, como testes de comparação múltipla, para identificar quais filiais têm médias de faturamento significativamente diferentes umas das outras.*"
      ],
      "metadata": {
        "id": "CJwbiq6LL5VZ"
      }
    },
    {
      "cell_type": "code",
      "source": [
        "# Realizar a análise de variância\n",
        "modelo_anova1 <- aov(Faturamento ~ canais, data = dados_completos)\n",
        "\n",
        "# Resumo do modelo ANOVA\n",
        "resumo_anova1 <- summary(modelo_anova1)\n",
        "\n",
        "# Exibir o resumo do modelo ANOVA\n",
        "print(resumo_anova1)"
      ],
      "metadata": {
        "colab": {
          "base_uri": "https://localhost:8080/"
        },
        "id": "vYuVoYmoLJ-p",
        "outputId": "d6af4a11-12de-43de-a7b2-b6a840d2bc5d"
      },
      "execution_count": 20,
      "outputs": [
        {
          "output_type": "stream",
          "name": "stdout",
          "text": [
            "             Df        Sum Sq      Mean Sq F value              Pr(>F)    \n",
            "canais        3  476970850580 158990283527   33.16 <0.0000000000000002 ***\n",
            "Residuals   209 1001985968893   4794191239                                \n",
            "---\n",
            "Signif. codes:  0 ‘***’ 0.001 ‘**’ 0.01 ‘*’ 0.05 ‘.’ 0.1 ‘ ’ 1\n"
          ]
        }
      ]
    },
    {
      "cell_type": "markdown",
      "source": [
        "*No caso dos canais, o resultado mostra um valor de p muito pequeno (p < 0.0000000000000002), indicando que há uma diferença estatisticamente significativa nas médias do faturamento entre os canais. Isso sugere que a variável \"canais\" está associada ao faturamento e pode ser um fator importante na determinação das diferenças observadas.*\n",
        "\n",
        "*Assim como no caso das filiais, é importante observar devemos interpretar esses resultados considerando o contexto específico do conjunto de dados e o objetivo da análise.*\n",
        "\n",
        "\n",
        "\n",
        "\n"
      ],
      "metadata": {
        "id": "44c9e562OJ5W"
      }
    },
    {
      "cell_type": "markdown",
      "source": [
        "# Analise de Take-up Rate"
      ],
      "metadata": {
        "id": "qavcJIYs2fg-"
      }
    },
    {
      "cell_type": "code",
      "source": [
        "head(dados_completos)"
      ],
      "metadata": {
        "colab": {
          "base_uri": "https://localhost:8080/",
          "height": 373
        },
        "id": "MEoMMwE87ByJ",
        "outputId": "6ec0e2ad-0d3d-4120-de35-1bfe835200f0"
      },
      "execution_count": 55,
      "outputs": [
        {
          "output_type": "display_data",
          "data": {
            "text/html": [
              "<table class=\"dataframe\">\n",
              "<caption>A tibble: 6 × 9</caption>\n",
              "<thead>\n",
              "\t<tr><th scope=col>CodigoCliente</th><th scope=col>cliente</th><th scope=col>canais</th><th scope=col>executivo</th><th scope=col>Faturamento</th><th scope=col>Volume</th><th scope=col>filial</th><th scope=col>NomeCliente</th><th scope=col>Rentabilidade</th></tr>\n",
              "\t<tr><th scope=col>&lt;dbl&gt;</th><th scope=col>&lt;chr&gt;</th><th scope=col>&lt;chr&gt;</th><th scope=col>&lt;chr&gt;</th><th scope=col>&lt;dbl&gt;</th><th scope=col>&lt;dbl&gt;</th><th scope=col>&lt;chr&gt;</th><th scope=col>&lt;chr&gt;</th><th scope=col>&lt;dbl&gt;</th></tr>\n",
              "</thead>\n",
              "<tbody>\n",
              "\t<tr><td>2127</td><td>PROSEGUR RS           </td><td>GESTAO    </td><td>FLAVIA REGINA LEITE MARINHO             </td><td>10676.36</td><td>59</td><td>SP CAP</td><td>PROSEGUR RS           </td><td>180.955254</td></tr>\n",
              "\t<tr><td>2175</td><td>SIMPALA VEICULOS SA   </td><td>VAREJO    </td><td>ALINE GOTTSCHALK DE OLIVEIRA FIDELIZACAO</td><td> 2180.67</td><td>28</td><td>MATRIZ</td><td>SIMPALA VEICULOS SA   </td><td> 77.881071</td></tr>\n",
              "\t<tr><td>2321</td><td>FDRH                  </td><td>M. PUBLICO</td><td>NEIRI MARIO SCHENCKEL                   </td><td>  250.00</td><td>33</td><td>RS    </td><td>FDRH                  </td><td>  7.575758</td></tr>\n",
              "\t<tr><td>2469</td><td>MUDANCAS GIULIAN      </td><td>EXPERS    </td><td>NAIANA CECILIA STROTTMANN FIDELIZACAO   </td><td>14042.47</td><td>52</td><td>MATRIZ</td><td>MUDANCAS GIULIAN      </td><td>270.047500</td></tr>\n",
              "\t<tr><td>2662</td><td>CARHOUSE VEICULOS LTDA</td><td>GESTAO    </td><td>VANIA PAULO DA SILVA RUCKERT FIDELIZACAO</td><td>  719.32</td><td>42</td><td>MATRIZ</td><td>CARHOUSE VEICULOS LTDA</td><td> 17.126667</td></tr>\n",
              "\t<tr><td>3096</td><td>EDITORA FTD           </td><td>GESTAO    </td><td>SUELEN TAIS ARAUJO DA ROSA FIDELIZACAO  </td><td> 3276.94</td><td>35</td><td>MATRIZ</td><td>EDITORA FTD           </td><td> 93.626857</td></tr>\n",
              "</tbody>\n",
              "</table>\n"
            ],
            "text/markdown": "\nA tibble: 6 × 9\n\n| CodigoCliente &lt;dbl&gt; | cliente &lt;chr&gt; | canais &lt;chr&gt; | executivo &lt;chr&gt; | Faturamento &lt;dbl&gt; | Volume &lt;dbl&gt; | filial &lt;chr&gt; | NomeCliente &lt;chr&gt; | Rentabilidade &lt;dbl&gt; |\n|---|---|---|---|---|---|---|---|---|\n| 2127 | PROSEGUR RS            | GESTAO     | FLAVIA REGINA LEITE MARINHO              | 10676.36 | 59 | SP CAP | PROSEGUR RS            | 180.955254 |\n| 2175 | SIMPALA VEICULOS SA    | VAREJO     | ALINE GOTTSCHALK DE OLIVEIRA FIDELIZACAO |  2180.67 | 28 | MATRIZ | SIMPALA VEICULOS SA    |  77.881071 |\n| 2321 | FDRH                   | M. PUBLICO | NEIRI MARIO SCHENCKEL                    |   250.00 | 33 | RS     | FDRH                   |   7.575758 |\n| 2469 | MUDANCAS GIULIAN       | EXPERS     | NAIANA CECILIA STROTTMANN FIDELIZACAO    | 14042.47 | 52 | MATRIZ | MUDANCAS GIULIAN       | 270.047500 |\n| 2662 | CARHOUSE VEICULOS LTDA | GESTAO     | VANIA PAULO DA SILVA RUCKERT FIDELIZACAO |   719.32 | 42 | MATRIZ | CARHOUSE VEICULOS LTDA |  17.126667 |\n| 3096 | EDITORA FTD            | GESTAO     | SUELEN TAIS ARAUJO DA ROSA FIDELIZACAO   |  3276.94 | 35 | MATRIZ | EDITORA FTD            |  93.626857 |\n\n",
            "text/latex": "A tibble: 6 × 9\n\\begin{tabular}{lllllllll}\n CodigoCliente & cliente & canais & executivo & Faturamento & Volume & filial & NomeCliente & Rentabilidade\\\\\n <dbl> & <chr> & <chr> & <chr> & <dbl> & <dbl> & <chr> & <chr> & <dbl>\\\\\n\\hline\n\t 2127 & PROSEGUR RS            & GESTAO     & FLAVIA REGINA LEITE MARINHO              & 10676.36 & 59 & SP CAP & PROSEGUR RS            & 180.955254\\\\\n\t 2175 & SIMPALA VEICULOS SA    & VAREJO     & ALINE GOTTSCHALK DE OLIVEIRA FIDELIZACAO &  2180.67 & 28 & MATRIZ & SIMPALA VEICULOS SA    &  77.881071\\\\\n\t 2321 & FDRH                   & M. PUBLICO & NEIRI MARIO SCHENCKEL                    &   250.00 & 33 & RS     & FDRH                   &   7.575758\\\\\n\t 2469 & MUDANCAS GIULIAN       & EXPERS     & NAIANA CECILIA STROTTMANN FIDELIZACAO    & 14042.47 & 52 & MATRIZ & MUDANCAS GIULIAN       & 270.047500\\\\\n\t 2662 & CARHOUSE VEICULOS LTDA & GESTAO     & VANIA PAULO DA SILVA RUCKERT FIDELIZACAO &   719.32 & 42 & MATRIZ & CARHOUSE VEICULOS LTDA &  17.126667\\\\\n\t 3096 & EDITORA FTD            & GESTAO     & SUELEN TAIS ARAUJO DA ROSA FIDELIZACAO   &  3276.94 & 35 & MATRIZ & EDITORA FTD            &  93.626857\\\\\n\\end{tabular}\n",
            "text/plain": [
              "  CodigoCliente cliente                canais    \n",
              "1 2127          PROSEGUR RS            GESTAO    \n",
              "2 2175          SIMPALA VEICULOS SA    VAREJO    \n",
              "3 2321          FDRH                   M. PUBLICO\n",
              "4 2469          MUDANCAS GIULIAN       EXPERS    \n",
              "5 2662          CARHOUSE VEICULOS LTDA GESTAO    \n",
              "6 3096          EDITORA FTD            GESTAO    \n",
              "  executivo                                Faturamento Volume filial\n",
              "1 FLAVIA REGINA LEITE MARINHO              10676.36    59     SP CAP\n",
              "2 ALINE GOTTSCHALK DE OLIVEIRA FIDELIZACAO  2180.67    28     MATRIZ\n",
              "3 NEIRI MARIO SCHENCKEL                      250.00    33     RS    \n",
              "4 NAIANA CECILIA STROTTMANN FIDELIZACAO    14042.47    52     MATRIZ\n",
              "5 VANIA PAULO DA SILVA RUCKERT FIDELIZACAO   719.32    42     MATRIZ\n",
              "6 SUELEN TAIS ARAUJO DA ROSA FIDELIZACAO    3276.94    35     MATRIZ\n",
              "  NomeCliente            Rentabilidade\n",
              "1 PROSEGUR RS            180.955254   \n",
              "2 SIMPALA VEICULOS SA     77.881071   \n",
              "3 FDRH                     7.575758   \n",
              "4 MUDANCAS GIULIAN       270.047500   \n",
              "5 CARHOUSE VEICULOS LTDA  17.126667   \n",
              "6 EDITORA FTD             93.626857   "
            ]
          },
          "metadata": {}
        }
      ]
    },
    {
      "cell_type": "markdown",
      "source": [
        "*Cada filial tem um custo total de operaçao de R$ 1.2 milhões*\n",
        "\n",
        "*O nível de rentabilidade de um cliente é definido pelo Take-up Rate (Índice% resultante da divisão Receita/Volume)*"
      ],
      "metadata": {
        "id": "Lr-g2NObDy_V"
      }
    },
    {
      "cell_type": "code",
      "source": [
        "dados_completos <- dados_completos %>%\n",
        "                   mutate(`Índice%` = paste0(round(Faturamento / Volume, 2)))\n"
      ],
      "metadata": {
        "id": "1fj-S7HKA2aj"
      },
      "execution_count": 144,
      "outputs": []
    },
    {
      "cell_type": "code",
      "source": [
        "head(dados_completos)"
      ],
      "metadata": {
        "colab": {
          "base_uri": "https://localhost:8080/",
          "height": 338
        },
        "id": "VY4C9YD3-GT0",
        "outputId": "15c6d968-a395-4365-9d65-98e16273e0c8"
      },
      "execution_count": 147,
      "outputs": [
        {
          "output_type": "display_data",
          "data": {
            "text/html": [
              "<table class=\"dataframe\">\n",
              "<caption>A tibble: 6 × 9</caption>\n",
              "<thead>\n",
              "\t<tr><th scope=col>CodigoCliente</th><th scope=col>cliente</th><th scope=col>canais</th><th scope=col>executivo</th><th scope=col>Faturamento</th><th scope=col>Volume</th><th scope=col>filial</th><th scope=col>NomeCliente</th><th scope=col>Índice%</th></tr>\n",
              "\t<tr><th scope=col>&lt;dbl&gt;</th><th scope=col>&lt;chr&gt;</th><th scope=col>&lt;chr&gt;</th><th scope=col>&lt;chr&gt;</th><th scope=col>&lt;dbl&gt;</th><th scope=col>&lt;dbl&gt;</th><th scope=col>&lt;chr&gt;</th><th scope=col>&lt;chr&gt;</th><th scope=col>&lt;chr&gt;</th></tr>\n",
              "</thead>\n",
              "<tbody>\n",
              "\t<tr><td>2127</td><td>PROSEGUR RS           </td><td>GESTAO    </td><td>FLAVIA REGINA LEITE MARINHO             </td><td>10676.36</td><td>59</td><td>SP CAP</td><td>PROSEGUR RS           </td><td>180.96</td></tr>\n",
              "\t<tr><td>2175</td><td>SIMPALA VEICULOS SA   </td><td>VAREJO    </td><td>ALINE GOTTSCHALK DE OLIVEIRA FIDELIZACAO</td><td> 2180.67</td><td>28</td><td>MATRIZ</td><td>SIMPALA VEICULOS SA   </td><td>77.88 </td></tr>\n",
              "\t<tr><td>2321</td><td>FDRH                  </td><td>M. PUBLICO</td><td>NEIRI MARIO SCHENCKEL                   </td><td>  250.00</td><td>33</td><td>RS    </td><td>FDRH                  </td><td>7.58  </td></tr>\n",
              "\t<tr><td>2469</td><td>MUDANCAS GIULIAN      </td><td>EXPERS    </td><td>NAIANA CECILIA STROTTMANN FIDELIZACAO   </td><td>14042.47</td><td>52</td><td>MATRIZ</td><td>MUDANCAS GIULIAN      </td><td>270.05</td></tr>\n",
              "\t<tr><td>2662</td><td>CARHOUSE VEICULOS LTDA</td><td>GESTAO    </td><td>VANIA PAULO DA SILVA RUCKERT FIDELIZACAO</td><td>  719.32</td><td>42</td><td>MATRIZ</td><td>CARHOUSE VEICULOS LTDA</td><td>17.13 </td></tr>\n",
              "\t<tr><td>3096</td><td>EDITORA FTD           </td><td>GESTAO    </td><td>SUELEN TAIS ARAUJO DA ROSA FIDELIZACAO  </td><td> 3276.94</td><td>35</td><td>MATRIZ</td><td>EDITORA FTD           </td><td>93.63 </td></tr>\n",
              "</tbody>\n",
              "</table>\n"
            ],
            "text/markdown": "\nA tibble: 6 × 9\n\n| CodigoCliente &lt;dbl&gt; | cliente &lt;chr&gt; | canais &lt;chr&gt; | executivo &lt;chr&gt; | Faturamento &lt;dbl&gt; | Volume &lt;dbl&gt; | filial &lt;chr&gt; | NomeCliente &lt;chr&gt; | Índice% &lt;chr&gt; |\n|---|---|---|---|---|---|---|---|---|\n| 2127 | PROSEGUR RS            | GESTAO     | FLAVIA REGINA LEITE MARINHO              | 10676.36 | 59 | SP CAP | PROSEGUR RS            | 180.96 |\n| 2175 | SIMPALA VEICULOS SA    | VAREJO     | ALINE GOTTSCHALK DE OLIVEIRA FIDELIZACAO |  2180.67 | 28 | MATRIZ | SIMPALA VEICULOS SA    | 77.88  |\n| 2321 | FDRH                   | M. PUBLICO | NEIRI MARIO SCHENCKEL                    |   250.00 | 33 | RS     | FDRH                   | 7.58   |\n| 2469 | MUDANCAS GIULIAN       | EXPERS     | NAIANA CECILIA STROTTMANN FIDELIZACAO    | 14042.47 | 52 | MATRIZ | MUDANCAS GIULIAN       | 270.05 |\n| 2662 | CARHOUSE VEICULOS LTDA | GESTAO     | VANIA PAULO DA SILVA RUCKERT FIDELIZACAO |   719.32 | 42 | MATRIZ | CARHOUSE VEICULOS LTDA | 17.13  |\n| 3096 | EDITORA FTD            | GESTAO     | SUELEN TAIS ARAUJO DA ROSA FIDELIZACAO   |  3276.94 | 35 | MATRIZ | EDITORA FTD            | 93.63  |\n\n",
            "text/latex": "A tibble: 6 × 9\n\\begin{tabular}{lllllllll}\n CodigoCliente & cliente & canais & executivo & Faturamento & Volume & filial & NomeCliente & Índice\\%\\\\\n <dbl> & <chr> & <chr> & <chr> & <dbl> & <dbl> & <chr> & <chr> & <chr>\\\\\n\\hline\n\t 2127 & PROSEGUR RS            & GESTAO     & FLAVIA REGINA LEITE MARINHO              & 10676.36 & 59 & SP CAP & PROSEGUR RS            & 180.96\\\\\n\t 2175 & SIMPALA VEICULOS SA    & VAREJO     & ALINE GOTTSCHALK DE OLIVEIRA FIDELIZACAO &  2180.67 & 28 & MATRIZ & SIMPALA VEICULOS SA    & 77.88 \\\\\n\t 2321 & FDRH                   & M. PUBLICO & NEIRI MARIO SCHENCKEL                    &   250.00 & 33 & RS     & FDRH                   & 7.58  \\\\\n\t 2469 & MUDANCAS GIULIAN       & EXPERS     & NAIANA CECILIA STROTTMANN FIDELIZACAO    & 14042.47 & 52 & MATRIZ & MUDANCAS GIULIAN       & 270.05\\\\\n\t 2662 & CARHOUSE VEICULOS LTDA & GESTAO     & VANIA PAULO DA SILVA RUCKERT FIDELIZACAO &   719.32 & 42 & MATRIZ & CARHOUSE VEICULOS LTDA & 17.13 \\\\\n\t 3096 & EDITORA FTD            & GESTAO     & SUELEN TAIS ARAUJO DA ROSA FIDELIZACAO   &  3276.94 & 35 & MATRIZ & EDITORA FTD            & 93.63 \\\\\n\\end{tabular}\n",
            "text/plain": [
              "  CodigoCliente cliente                canais    \n",
              "1 2127          PROSEGUR RS            GESTAO    \n",
              "2 2175          SIMPALA VEICULOS SA    VAREJO    \n",
              "3 2321          FDRH                   M. PUBLICO\n",
              "4 2469          MUDANCAS GIULIAN       EXPERS    \n",
              "5 2662          CARHOUSE VEICULOS LTDA GESTAO    \n",
              "6 3096          EDITORA FTD            GESTAO    \n",
              "  executivo                                Faturamento Volume filial\n",
              "1 FLAVIA REGINA LEITE MARINHO              10676.36    59     SP CAP\n",
              "2 ALINE GOTTSCHALK DE OLIVEIRA FIDELIZACAO  2180.67    28     MATRIZ\n",
              "3 NEIRI MARIO SCHENCKEL                      250.00    33     RS    \n",
              "4 NAIANA CECILIA STROTTMANN FIDELIZACAO    14042.47    52     MATRIZ\n",
              "5 VANIA PAULO DA SILVA RUCKERT FIDELIZACAO   719.32    42     MATRIZ\n",
              "6 SUELEN TAIS ARAUJO DA ROSA FIDELIZACAO    3276.94    35     MATRIZ\n",
              "  NomeCliente            Índice%\n",
              "1 PROSEGUR RS            180.96 \n",
              "2 SIMPALA VEICULOS SA    77.88  \n",
              "3 FDRH                   7.58   \n",
              "4 MUDANCAS GIULIAN       270.05 \n",
              "5 CARHOUSE VEICULOS LTDA 17.13  \n",
              "6 EDITORA FTD            93.63  "
            ]
          },
          "metadata": {}
        }
      ]
    },
    {
      "cell_type": "markdown",
      "source": [
        "# Vamos as médias verificar a média por filia"
      ],
      "metadata": {
        "id": "N7OeAxtwKn6l"
      }
    },
    {
      "cell_type": "markdown",
      "source": [
        "*Vamos trabalhar com os valores dos índices. Fiquei com algumas dúvidas durante essa etapa. Se alguém tiver algum feedback sobre se o raciocínio está correto (não apenas nessa etapa, mas em toda a análise), será bem-vindo.*"
      ],
      "metadata": {
        "id": "FZ3zbSc9VEQ-"
      }
    },
    {
      "cell_type": "code",
      "source": [
        "# Verificar o tipo de dados da coluna Índice%\n",
        "print(class(dados_completos$`Índice%`))\n",
        "\n",
        "# Converter a coluna para o tipo numérico\n",
        "dados_completos$`Índice%` <- as.numeric(dados_completos$`Índice%`)\n",
        "\n",
        "# Calcular a média do índice por filial\n",
        "media_por_filial <- aggregate(`Índice%` ~ filial, data = dados_completos, FUN = mean)\n",
        "\n",
        "# Arredondar a média para duas casas decimais\n",
        "media_por_filial$`Índice%` <- round(media_por_filial$`Índice%`, 2)\n",
        "\n",
        "# Exibir o resultado\n",
        "print(media_por_filial)\n"
      ],
      "metadata": {
        "colab": {
          "base_uri": "https://localhost:8080/"
        },
        "id": "M6x7cXQUJgdP",
        "outputId": "45e2b1ca-a7bd-44d9-dc1e-4444ca0dab7f"
      },
      "execution_count": 142,
      "outputs": [
        {
          "output_type": "stream",
          "name": "stdout",
          "text": [
            "[1] \"numeric\"\n",
            "   filial  Índice%\n",
            "1      BA   686.48\n",
            "2      CE  1387.72\n",
            "3      GO  1132.19\n",
            "4  MATRIZ   545.90\n",
            "5      MG 11331.19\n",
            "6      PA  -986.18\n",
            "7      PE   404.65\n",
            "8      PR  3639.70\n",
            "9      RJ  1318.23\n",
            "10     RS    85.44\n",
            "11 SP CAP  2209.72\n",
            "12 SP INT  1203.78\n"
          ]
        }
      ]
    },
    {
      "cell_type": "code",
      "source": [
        "# Verificar o tipo de dados da coluna Índice%\n",
        "print(class(dados_completos$`Índice%`))\n",
        "\n",
        "# Converter a coluna para o tipo numérico\n",
        "dados_completos$`Índice%` <- as.numeric(dados_completos$`Índice%`)\n",
        "\n",
        "# Calcular a variação do índice por filial\n",
        "variacao_por_filial <- aggregate(`Índice%` ~ filial, data = dados_completos, FUN = function(x) max(x) - min(x))\n",
        "\n",
        "# Exibir o resultado\n",
        "print(variacao_por_filial)\n"
      ],
      "metadata": {
        "colab": {
          "base_uri": "https://localhost:8080/"
        },
        "id": "cZct3X4YKyzR",
        "outputId": "9b45e1d0-32a1-4ed6-bc7f-c0ffef54f391"
      },
      "execution_count": 167,
      "outputs": [
        {
          "output_type": "stream",
          "name": "stdout",
          "text": [
            "[1] \"numeric\"\n",
            "   filial  Índice%\n",
            "1      BA  1394.40\n",
            "2      CE  6905.79\n",
            "3      GO  8938.01\n",
            "4  MATRIZ  5769.00\n",
            "5      MG 54942.99\n",
            "6      PA     0.00\n",
            "7      PE  1226.18\n",
            "8      PR 18110.32\n",
            "9      RJ  3989.79\n",
            "10     RS   630.87\n",
            "11 SP CAP  8879.37\n",
            "12 SP INT  4558.56\n"
          ]
        }
      ]
    },
    {
      "cell_type": "code",
      "source": [
        "# Exportar o data frame para um arquivo CSV no Google Colab\n",
        "write.csv(dados_completos, file = \"/content/dados_completos.csv\", row.names = FALSE)"
      ],
      "metadata": {
        "id": "6s1yEFGzF6-Z"
      },
      "execution_count": 136,
      "outputs": []
    }
  ]
}